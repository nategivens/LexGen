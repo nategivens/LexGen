{
 "cells": [
  {
   "cell_type": "markdown",
   "id": "exterior-recognition",
   "metadata": {},
   "source": [
    "# Clean Corpora - One Off"
   ]
  },
  {
   "cell_type": "markdown",
   "id": "unexpected-commerce",
   "metadata": {},
   "source": [
    "## Imports and Settings"
   ]
  },
  {
   "cell_type": "code",
   "execution_count": 1,
   "id": "collective-florist",
   "metadata": {},
   "outputs": [],
   "source": [
    "from nate_givens_toolkit import cloud_io as cloud\n",
    "import pandas as pd\n",
    "from datetime import datetime"
   ]
  },
  {
   "cell_type": "markdown",
   "id": "theoretical-canon",
   "metadata": {},
   "source": [
    "## Global Variables"
   ]
  },
  {
   "cell_type": "code",
   "execution_count": 2,
   "id": "adjacent-wedding",
   "metadata": {},
   "outputs": [],
   "source": [
    "RAW_CORPORA_DIR = 'raw_corpora/'\n",
    "CLEAN_CORPORA_DIR = 'clean_corpora/'\n",
    "DATA_DIR = 'data_files/'\n",
    "BUCKET = 'lexgen'"
   ]
  },
  {
   "cell_type": "markdown",
   "id": "french-calendar",
   "metadata": {},
   "source": [
    "## Functions"
   ]
  },
  {
   "cell_type": "code",
   "execution_count": 3,
   "id": "elegant-kernel",
   "metadata": {},
   "outputs": [],
   "source": [
    "def is_invalid_word(word, valid_chars):\n",
    "    # take a word and list of valid chars\n",
    "    # return true if the word contains any chars *not* in valid_chars\n",
    "    # otherwise return false\n",
    "    return any([x not in valid_chars for x in str(word)])"
   ]
  },
  {
   "cell_type": "markdown",
   "id": "quality-flood",
   "metadata": {},
   "source": [
    "## Logic"
   ]
  },
  {
   "cell_type": "markdown",
   "id": "south-implement",
   "metadata": {},
   "source": [
    "### Specify Clean Corpus Variables"
   ]
  },
  {
   "cell_type": "code",
   "execution_count": 4,
   "id": "minor-reply",
   "metadata": {},
   "outputs": [],
   "source": [
    "raw_corpus_filename = 'af_full_2018.txt'\n",
    "clean_corpus_filename = 'af_full_2018_A.txt'\n",
    "clean_corpus_note = 'Cleaned version of af_full_2018 with top 200 words having frequency reset to exclusive mean'"
   ]
  },
  {
   "cell_type": "markdown",
   "id": "dimensional-bible",
   "metadata": {},
   "source": [
    "### Read in Data Tables"
   ]
  },
  {
   "cell_type": "markdown",
   "id": "virgin-valuable",
   "metadata": {},
   "source": [
    "#### Raw Corpora"
   ]
  },
  {
   "cell_type": "code",
   "execution_count": 5,
   "id": "express-harvard",
   "metadata": {},
   "outputs": [],
   "source": [
    "raw_corpora = cloud.read_csv_from_s3('raw_corpora_inventory.dat', DATA_DIR, BUCKET, sep='|')"
   ]
  },
  {
   "cell_type": "code",
   "execution_count": 6,
   "id": "sustainable-anatomy",
   "metadata": {},
   "outputs": [
    {
     "data": {
      "text/html": [
       "<div>\n",
       "<style scoped>\n",
       "    .dataframe tbody tr th:only-of-type {\n",
       "        vertical-align: middle;\n",
       "    }\n",
       "\n",
       "    .dataframe tbody tr th {\n",
       "        vertical-align: top;\n",
       "    }\n",
       "\n",
       "    .dataframe thead th {\n",
       "        text-align: right;\n",
       "    }\n",
       "</style>\n",
       "<table border=\"1\" class=\"dataframe\">\n",
       "  <thead>\n",
       "    <tr style=\"text-align: right;\">\n",
       "      <th></th>\n",
       "      <th>filename</th>\n",
       "      <th>lang_code</th>\n",
       "      <th>source_url</th>\n",
       "      <th>last_load_dtime</th>\n",
       "      <th>note</th>\n",
       "    </tr>\n",
       "  </thead>\n",
       "  <tbody>\n",
       "    <tr>\n",
       "      <th>0</th>\n",
       "      <td>en_full_2018.txt</td>\n",
       "      <td>en</td>\n",
       "      <td>https://raw.githubusercontent.com/hermitdave/F...</td>\n",
       "      <td>2021-03-26 02:04:07.270824</td>\n",
       "      <td>HermitDave's version of the full 2018 English ...</td>\n",
       "    </tr>\n",
       "    <tr>\n",
       "      <th>1</th>\n",
       "      <td>en_50k_2018.txt</td>\n",
       "      <td>en</td>\n",
       "      <td>https://raw.githubusercontent.com/hermitdave/F...</td>\n",
       "      <td>2021-03-26 03:25:53.589244</td>\n",
       "      <td>HermitDave's version of the top 50k 2018 Engli...</td>\n",
       "    </tr>\n",
       "    <tr>\n",
       "      <th>2</th>\n",
       "      <td>en_full_2016.txt</td>\n",
       "      <td>en</td>\n",
       "      <td>https://raw.githubusercontent.com/hermitdave/F...</td>\n",
       "      <td>2021-03-26 03:25:53.984856</td>\n",
       "      <td>HermitDave's version of the full 2016 English ...</td>\n",
       "    </tr>\n",
       "    <tr>\n",
       "      <th>3</th>\n",
       "      <td>en_50k_2016.txt</td>\n",
       "      <td>en</td>\n",
       "      <td>https://raw.githubusercontent.com/hermitdave/F...</td>\n",
       "      <td>2021-03-26 03:25:54.377632</td>\n",
       "      <td>HermitDave's version of the top 50k 2016 Engli...</td>\n",
       "    </tr>\n",
       "    <tr>\n",
       "      <th>4</th>\n",
       "      <td>de_full_2018.txt</td>\n",
       "      <td>de</td>\n",
       "      <td>https://raw.githubusercontent.com/hermitdave/F...</td>\n",
       "      <td>2021-04-06 19:42:26.967039</td>\n",
       "      <td>HermitDave's version of the full 2018 German f...</td>\n",
       "    </tr>\n",
       "  </tbody>\n",
       "</table>\n",
       "</div>"
      ],
      "text/plain": [
       "           filename lang_code  \\\n",
       "0  en_full_2018.txt        en   \n",
       "1   en_50k_2018.txt        en   \n",
       "2  en_full_2016.txt        en   \n",
       "3   en_50k_2016.txt        en   \n",
       "4  de_full_2018.txt        de   \n",
       "\n",
       "                                          source_url  \\\n",
       "0  https://raw.githubusercontent.com/hermitdave/F...   \n",
       "1  https://raw.githubusercontent.com/hermitdave/F...   \n",
       "2  https://raw.githubusercontent.com/hermitdave/F...   \n",
       "3  https://raw.githubusercontent.com/hermitdave/F...   \n",
       "4  https://raw.githubusercontent.com/hermitdave/F...   \n",
       "\n",
       "              last_load_dtime  \\\n",
       "0  2021-03-26 02:04:07.270824   \n",
       "1  2021-03-26 03:25:53.589244   \n",
       "2  2021-03-26 03:25:53.984856   \n",
       "3  2021-03-26 03:25:54.377632   \n",
       "4  2021-04-06 19:42:26.967039   \n",
       "\n",
       "                                                note  \n",
       "0  HermitDave's version of the full 2018 English ...  \n",
       "1  HermitDave's version of the top 50k 2018 Engli...  \n",
       "2  HermitDave's version of the full 2016 English ...  \n",
       "3  HermitDave's version of the top 50k 2016 Engli...  \n",
       "4  HermitDave's version of the full 2018 German f...  "
      ]
     },
     "execution_count": 6,
     "metadata": {},
     "output_type": "execute_result"
    }
   ],
   "source": [
    "raw_corpora.head()"
   ]
  },
  {
   "cell_type": "markdown",
   "id": "nonprofit-pitch",
   "metadata": {},
   "source": [
    "#### Clean Corpora"
   ]
  },
  {
   "cell_type": "code",
   "execution_count": 7,
   "id": "oriented-configuration",
   "metadata": {},
   "outputs": [],
   "source": [
    "clean_corpora = cloud.read_csv_from_s3('clean_corpora_inventory.dat', DATA_DIR, BUCKET, sep='|')"
   ]
  },
  {
   "cell_type": "code",
   "execution_count": 8,
   "id": "transparent-mouse",
   "metadata": {},
   "outputs": [
    {
     "data": {
      "text/html": [
       "<div>\n",
       "<style scoped>\n",
       "    .dataframe tbody tr th:only-of-type {\n",
       "        vertical-align: middle;\n",
       "    }\n",
       "\n",
       "    .dataframe tbody tr th {\n",
       "        vertical-align: top;\n",
       "    }\n",
       "\n",
       "    .dataframe thead th {\n",
       "        text-align: right;\n",
       "    }\n",
       "</style>\n",
       "<table border=\"1\" class=\"dataframe\">\n",
       "  <thead>\n",
       "    <tr style=\"text-align: right;\">\n",
       "      <th></th>\n",
       "      <th>filename</th>\n",
       "      <th>raw_corpora_filename</th>\n",
       "      <th>last_load_dtime</th>\n",
       "      <th>note</th>\n",
       "    </tr>\n",
       "  </thead>\n",
       "  <tbody>\n",
       "    <tr>\n",
       "      <th>0</th>\n",
       "      <td>en_50k_2018_A.txt</td>\n",
       "      <td>en_50k_2018.txt</td>\n",
       "      <td>2021-04-01 01:07:27.259981</td>\n",
       "      <td>Cleaned version of en_50k_2018 with top 200 wo...</td>\n",
       "    </tr>\n",
       "    <tr>\n",
       "      <th>1</th>\n",
       "      <td>de_50k_2018_A.txt</td>\n",
       "      <td>de_50k_2018.txt</td>\n",
       "      <td>2021-04-06 20:25:02.967162</td>\n",
       "      <td>Cleaned version of de_50k_2018 with top 200 wo...</td>\n",
       "    </tr>\n",
       "  </tbody>\n",
       "</table>\n",
       "</div>"
      ],
      "text/plain": [
       "            filename raw_corpora_filename             last_load_dtime  \\\n",
       "0  en_50k_2018_A.txt      en_50k_2018.txt  2021-04-01 01:07:27.259981   \n",
       "1  de_50k_2018_A.txt      de_50k_2018.txt  2021-04-06 20:25:02.967162   \n",
       "\n",
       "                                                note  \n",
       "0  Cleaned version of en_50k_2018 with top 200 wo...  \n",
       "1  Cleaned version of de_50k_2018 with top 200 wo...  "
      ]
     },
     "execution_count": 8,
     "metadata": {},
     "output_type": "execute_result"
    }
   ],
   "source": [
    "clean_corpora.head()"
   ]
  },
  {
   "cell_type": "markdown",
   "id": "democratic-coordinator",
   "metadata": {},
   "source": [
    "#### Valid Characters"
   ]
  },
  {
   "cell_type": "code",
   "execution_count": 9,
   "id": "hydraulic-commitment",
   "metadata": {},
   "outputs": [],
   "source": [
    "valid_chars_table = cloud.read_csv_from_s3('valid_chars.dat', DATA_DIR, BUCKET, sep='|')"
   ]
  },
  {
   "cell_type": "code",
   "execution_count": 10,
   "id": "friendly-shift",
   "metadata": {},
   "outputs": [
    {
     "data": {
      "text/html": [
       "<div>\n",
       "<style scoped>\n",
       "    .dataframe tbody tr th:only-of-type {\n",
       "        vertical-align: middle;\n",
       "    }\n",
       "\n",
       "    .dataframe tbody tr th {\n",
       "        vertical-align: top;\n",
       "    }\n",
       "\n",
       "    .dataframe thead th {\n",
       "        text-align: right;\n",
       "    }\n",
       "</style>\n",
       "<table border=\"1\" class=\"dataframe\">\n",
       "  <thead>\n",
       "    <tr style=\"text-align: right;\">\n",
       "      <th></th>\n",
       "      <th>lang_code</th>\n",
       "      <th>valid_chars</th>\n",
       "    </tr>\n",
       "  </thead>\n",
       "  <tbody>\n",
       "    <tr>\n",
       "      <th>0</th>\n",
       "      <td>en</td>\n",
       "      <td>a,b,c,d,e,f,g,h,i,j,k,l,m,n,o,p,q,r,s,t,u,v,w,...</td>\n",
       "    </tr>\n",
       "    <tr>\n",
       "      <th>1</th>\n",
       "      <td>de</td>\n",
       "      <td>i,c,h,s,e,d,a,t,u,n,r,w,z,j,m,f,b,o,ü,v,k,g,l,...</td>\n",
       "    </tr>\n",
       "    <tr>\n",
       "      <th>2</th>\n",
       "      <td>af</td>\n",
       "      <td>d,i,e,n,k,s,h,t,j,y,m,o,w,a,u,v,r,g,l,p,b,ê,f,...</td>\n",
       "    </tr>\n",
       "  </tbody>\n",
       "</table>\n",
       "</div>"
      ],
      "text/plain": [
       "  lang_code                                        valid_chars\n",
       "0        en  a,b,c,d,e,f,g,h,i,j,k,l,m,n,o,p,q,r,s,t,u,v,w,...\n",
       "1        de  i,c,h,s,e,d,a,t,u,n,r,w,z,j,m,f,b,o,ü,v,k,g,l,...\n",
       "2        af  d,i,e,n,k,s,h,t,j,y,m,o,w,a,u,v,r,g,l,p,b,ê,f,..."
      ]
     },
     "execution_count": 10,
     "metadata": {},
     "output_type": "execute_result"
    }
   ],
   "source": [
    "valid_chars_table.head()"
   ]
  },
  {
   "cell_type": "markdown",
   "id": "noted-dover",
   "metadata": {},
   "source": [
    "## Populate Secondary Variables"
   ]
  },
  {
   "cell_type": "markdown",
   "id": "fourth-permission",
   "metadata": {},
   "source": [
    "#### Use raw_corpus_filename to get lang_code"
   ]
  },
  {
   "cell_type": "code",
   "execution_count": 11,
   "id": "promising-obligation",
   "metadata": {},
   "outputs": [],
   "source": [
    "lang_code = raw_corpora.loc[raw_corpora['filename'] == raw_corpus_filename]['lang_code'].values[0]"
   ]
  },
  {
   "cell_type": "markdown",
   "id": "prospective-armenia",
   "metadata": {},
   "source": [
    "#### Use lang_code to get clean_chars"
   ]
  },
  {
   "cell_type": "code",
   "execution_count": 12,
   "id": "ideal-ultimate",
   "metadata": {},
   "outputs": [],
   "source": [
    "valid_chars = valid_chars_table.loc[valid_chars_table['lang_code'] == lang_code]['valid_chars'].values[0].split(',')"
   ]
  },
  {
   "cell_type": "markdown",
   "id": "conditional-charleston",
   "metadata": {},
   "source": [
    "### Read in Raw Corpus"
   ]
  },
  {
   "cell_type": "code",
   "execution_count": 13,
   "id": "international-africa",
   "metadata": {},
   "outputs": [],
   "source": [
    "raw_corpus = cloud.read_csv_from_s3(raw_corpus_filename, RAW_CORPORA_DIR, BUCKET, sep=' ', header = None, names = ['word', 'freq'])"
   ]
  },
  {
   "cell_type": "code",
   "execution_count": 14,
   "id": "earned-irrigation",
   "metadata": {},
   "outputs": [
    {
     "data": {
      "text/html": [
       "<div>\n",
       "<style scoped>\n",
       "    .dataframe tbody tr th:only-of-type {\n",
       "        vertical-align: middle;\n",
       "    }\n",
       "\n",
       "    .dataframe tbody tr th {\n",
       "        vertical-align: top;\n",
       "    }\n",
       "\n",
       "    .dataframe thead th {\n",
       "        text-align: right;\n",
       "    }\n",
       "</style>\n",
       "<table border=\"1\" class=\"dataframe\">\n",
       "  <thead>\n",
       "    <tr style=\"text-align: right;\">\n",
       "      <th></th>\n",
       "      <th>word</th>\n",
       "      <th>freq</th>\n",
       "    </tr>\n",
       "  </thead>\n",
       "  <tbody>\n",
       "    <tr>\n",
       "      <th>0</th>\n",
       "      <td>die</td>\n",
       "      <td>12974</td>\n",
       "    </tr>\n",
       "    <tr>\n",
       "      <th>1</th>\n",
       "      <td>nie</td>\n",
       "      <td>12403</td>\n",
       "    </tr>\n",
       "    <tr>\n",
       "      <th>2</th>\n",
       "      <td>ek</td>\n",
       "      <td>12328</td>\n",
       "    </tr>\n",
       "    <tr>\n",
       "      <th>3</th>\n",
       "      <td>is</td>\n",
       "      <td>9816</td>\n",
       "    </tr>\n",
       "    <tr>\n",
       "      <th>4</th>\n",
       "      <td>het</td>\n",
       "      <td>8332</td>\n",
       "    </tr>\n",
       "  </tbody>\n",
       "</table>\n",
       "</div>"
      ],
      "text/plain": [
       "  word   freq\n",
       "0  die  12974\n",
       "1  nie  12403\n",
       "2   ek  12328\n",
       "3   is   9816\n",
       "4  het   8332"
      ]
     },
     "execution_count": 14,
     "metadata": {},
     "output_type": "execute_result"
    }
   ],
   "source": [
    "raw_corpus.head()"
   ]
  },
  {
   "cell_type": "markdown",
   "id": "prime-affiliate",
   "metadata": {},
   "source": [
    "### Clean Raw Corpus"
   ]
  },
  {
   "cell_type": "markdown",
   "id": "starting-material",
   "metadata": {},
   "source": [
    "#### Flag and then remove words that contain invalid characters"
   ]
  },
  {
   "cell_type": "code",
   "execution_count": 15,
   "id": "buried-bones",
   "metadata": {},
   "outputs": [],
   "source": [
    "raw_corpus['invalid'] = raw_corpus['word'].apply(is_invalid_word, valid_chars=valid_chars)"
   ]
  },
  {
   "cell_type": "code",
   "execution_count": 16,
   "id": "vital-lebanon",
   "metadata": {},
   "outputs": [],
   "source": [
    "valid_corpus = raw_corpus.copy(deep=True)"
   ]
  },
  {
   "cell_type": "code",
   "execution_count": 17,
   "id": "welsh-island",
   "metadata": {},
   "outputs": [],
   "source": [
    "valid_corpus = valid_corpus[raw_corpus['invalid'] == False]"
   ]
  },
  {
   "cell_type": "code",
   "execution_count": 18,
   "id": "portuguese-peninsula",
   "metadata": {},
   "outputs": [],
   "source": [
    "valid_corpus.drop(labels='invalid', axis=1, inplace=True)"
   ]
  },
  {
   "cell_type": "code",
   "execution_count": 19,
   "id": "received-firmware",
   "metadata": {},
   "outputs": [
    {
     "data": {
      "text/plain": [
       "<bound method DataFrame.reset_index of                   word   freq\n",
       "0                  die  12974\n",
       "1                  nie  12403\n",
       "2                   ek  12328\n",
       "3                   is   9816\n",
       "4                  het   8332\n",
       "...                ...    ...\n",
       "18504            manna      1\n",
       "18505          varkvet      1\n",
       "18506     delikatessen      1\n",
       "18507  fabriekswerkers      1\n",
       "18509         gemagtig      1\n",
       "\n",
       "[17526 rows x 2 columns]>"
      ]
     },
     "execution_count": 19,
     "metadata": {},
     "output_type": "execute_result"
    }
   ],
   "source": [
    "valid_corpus.reset_index"
   ]
  },
  {
   "cell_type": "markdown",
   "id": "artistic-boutique",
   "metadata": {},
   "source": [
    "#### Replace the frequency of the top-200 words with the average frequency"
   ]
  },
  {
   "cell_type": "code",
   "execution_count": 20,
   "id": "proud-iceland",
   "metadata": {},
   "outputs": [],
   "source": [
    "mean_freq = valid_corpus.loc[200:, 'freq'].mean()"
   ]
  },
  {
   "cell_type": "code",
   "execution_count": 21,
   "id": "collect-teacher",
   "metadata": {},
   "outputs": [],
   "source": [
    "valid_corpus.loc[:199, 'freq'] = mean_freq"
   ]
  },
  {
   "cell_type": "markdown",
   "id": "automatic-samuel",
   "metadata": {},
   "source": [
    "### Write Clean Corpora to S3"
   ]
  },
  {
   "cell_type": "code",
   "execution_count": 22,
   "id": "lyric-tournament",
   "metadata": {},
   "outputs": [],
   "source": [
    "cloud.write_csv_to_s3(clean_corpus_filename, CLEAN_CORPORA_DIR, BUCKET, valid_corpus, sep='|', index=False)"
   ]
  },
  {
   "cell_type": "markdown",
   "id": "rough-teaching",
   "metadata": {},
   "source": [
    "### Update Clean Corpora Inventory"
   ]
  },
  {
   "cell_type": "code",
   "execution_count": 23,
   "id": "nervous-diversity",
   "metadata": {},
   "outputs": [],
   "source": [
    "new_row = {\n",
    "    'filename': clean_corpus_filename\n",
    "    ,'raw_corpora_filename': raw_corpus_filename\n",
    "    ,'last_load_dtime': str(datetime.utcnow())\n",
    "    ,'note': clean_corpus_note\n",
    "}"
   ]
  },
  {
   "cell_type": "code",
   "execution_count": 24,
   "id": "infectious-orbit",
   "metadata": {},
   "outputs": [],
   "source": [
    "clean_corpora = clean_corpora.append(new_row, ignore_index=True)"
   ]
  },
  {
   "cell_type": "code",
   "execution_count": 25,
   "id": "generous-section",
   "metadata": {},
   "outputs": [],
   "source": [
    "cloud.write_csv_to_s3('clean_corpora_inventory.dat', DATA_DIR, BUCKET, clean_corpora, sep='|', index=False)"
   ]
  },
  {
   "cell_type": "code",
   "execution_count": null,
   "id": "absent-currency",
   "metadata": {},
   "outputs": [],
   "source": []
  }
 ],
 "metadata": {
  "kernelspec": {
   "display_name": "lexgen",
   "language": "python",
   "name": "lexgen"
  },
  "language_info": {
   "codemirror_mode": {
    "name": "ipython",
    "version": 3
   },
   "file_extension": ".py",
   "mimetype": "text/x-python",
   "name": "python",
   "nbconvert_exporter": "python",
   "pygments_lexer": "ipython3",
   "version": "3.7.10"
  }
 },
 "nbformat": 4,
 "nbformat_minor": 5
}
