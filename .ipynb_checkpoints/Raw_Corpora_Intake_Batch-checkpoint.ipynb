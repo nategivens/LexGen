{
 "cells": [
  {
   "cell_type": "markdown",
   "id": "interracial-mixture",
   "metadata": {},
   "source": [
    "# Raw Corpora Intake - Batch"
   ]
  },
  {
   "cell_type": "markdown",
   "id": "instant-broadway",
   "metadata": {},
   "source": [
    "## Imports and Settings"
   ]
  },
  {
   "cell_type": "code",
   "execution_count": 9,
   "id": "suburban-thailand",
   "metadata": {},
   "outputs": [],
   "source": [
    "from nate_givens_toolkit import cloud_io as cloud\n",
    "import pandas as pd\n",
    "from datetime import datetime\n",
    "import ntpath"
   ]
  },
  {
   "cell_type": "markdown",
   "id": "compatible-custody",
   "metadata": {},
   "source": [
    "## Global Variables"
   ]
  },
  {
   "cell_type": "code",
   "execution_count": 10,
   "id": "endless-luther",
   "metadata": {},
   "outputs": [],
   "source": [
    "LOCAL_DIR = '/data/lexgen/raw_corpora/'\n",
    "CORPORA_DIR = 'raw_corpora/'\n",
    "DATA_DIR = 'data_files/'\n",
    "BUCKET = 'lexgen'"
   ]
  },
  {
   "cell_type": "markdown",
   "id": "charitable-sister",
   "metadata": {},
   "source": [
    "## Logic"
   ]
  },
  {
   "cell_type": "markdown",
   "id": "aging-bunny",
   "metadata": {},
   "source": [
    "### Specify Batch Variables"
   ]
  },
  {
   "cell_type": "code",
   "execution_count": 11,
   "id": "pediatric-spell",
   "metadata": {},
   "outputs": [],
   "source": [
    "batch = []"
   ]
  },
  {
   "cell_type": "code",
   "execution_count": 12,
   "id": "another-reconstruction",
   "metadata": {},
   "outputs": [],
   "source": [
    "batch.append({\n",
    "    'filename' : 'de_full_2018.txt'\n",
    "    ,'lang_code' : 'de'\n",
    "    ,'source_url' : 'https://raw.githubusercontent.com/hermitdave/FrequencyWords/master/content/2018/de/de_full.txt'\n",
    "    ,'last_load_dtime' : str(datetime.utcnow())\n",
    "    ,'note' : 'HermitDave\\'s version of the full 2018 German file from OpenSubtitles'\n",
    "})"
   ]
  },
  {
   "cell_type": "code",
   "execution_count": 13,
   "id": "assisted-partner",
   "metadata": {},
   "outputs": [],
   "source": [
    "batch.append({\n",
    "    'filename' : 'de_50k_2018.txt'\n",
    "    ,'lang_code' : 'de'\n",
    "    ,'source_url' : 'https://raw.githubusercontent.com/hermitdave/FrequencyWords/master/content/2018/de/de_50k.txt'\n",
    "    ,'last_load_dtime' : str(datetime.utcnow())\n",
    "    ,'note' : 'HermitDave\\'s version of the top 50k 2018 German file from OpenSubtitles'\n",
    "})"
   ]
  },
  {
   "cell_type": "code",
   "execution_count": 14,
   "id": "radio-bones",
   "metadata": {},
   "outputs": [],
   "source": [
    "batch.append({\n",
    "    'filename' : 'de_full_2016.txt'\n",
    "    ,'lang_code' : 'de'\n",
    "    ,'source_url' : 'https://raw.githubusercontent.com/hermitdave/FrequencyWords/master/content/2016/de/de_full.txt'\n",
    "    ,'last_load_dtime' : str(datetime.utcnow())\n",
    "    ,'note' : 'HermitDave\\'s version of the full 2016 English file from OpenSubtitles'\n",
    "})"
   ]
  },
  {
   "cell_type": "code",
   "execution_count": 15,
   "id": "charming-colombia",
   "metadata": {},
   "outputs": [],
   "source": [
    "batch.append({\n",
    "    'filename' : 'de_50k_2016.txt'\n",
    "    ,'lang_code' : 'de'\n",
    "    ,'source_url' : 'https://raw.githubusercontent.com/hermitdave/FrequencyWords/master/content/2016/de/de_50k.txt'\n",
    "    ,'last_load_dtime' : str(datetime.utcnow())\n",
    "    ,'note' : 'HermitDave\\'s version of the top 50k 2016 English file from OpenSubtitles'\n",
    "})"
   ]
  },
  {
   "cell_type": "markdown",
   "id": "institutional-machinery",
   "metadata": {},
   "source": [
    "### Read in Raw Corpora Inventory Table"
   ]
  },
  {
   "cell_type": "code",
   "execution_count": 16,
   "id": "known-possibility",
   "metadata": {},
   "outputs": [],
   "source": [
    "raw_corpora_inventory = cloud.read_csv_from_s3('raw_corpora_inventory.dat', DATA_DIR, BUCKET, sep='|')"
   ]
  },
  {
   "cell_type": "code",
   "execution_count": 17,
   "id": "searching-program",
   "metadata": {},
   "outputs": [
    {
     "data": {
      "text/html": [
       "<div>\n",
       "<style scoped>\n",
       "    .dataframe tbody tr th:only-of-type {\n",
       "        vertical-align: middle;\n",
       "    }\n",
       "\n",
       "    .dataframe tbody tr th {\n",
       "        vertical-align: top;\n",
       "    }\n",
       "\n",
       "    .dataframe thead th {\n",
       "        text-align: right;\n",
       "    }\n",
       "</style>\n",
       "<table border=\"1\" class=\"dataframe\">\n",
       "  <thead>\n",
       "    <tr style=\"text-align: right;\">\n",
       "      <th></th>\n",
       "      <th>filename</th>\n",
       "      <th>lang_code</th>\n",
       "      <th>source_url</th>\n",
       "      <th>last_load_dtime</th>\n",
       "      <th>note</th>\n",
       "    </tr>\n",
       "  </thead>\n",
       "  <tbody>\n",
       "    <tr>\n",
       "      <th>0</th>\n",
       "      <td>en_full_2018.txt</td>\n",
       "      <td>en</td>\n",
       "      <td>https://raw.githubusercontent.com/hermitdave/F...</td>\n",
       "      <td>2021-03-26 02:04:07.270824</td>\n",
       "      <td>HermitDave's version of the full 2018 English ...</td>\n",
       "    </tr>\n",
       "    <tr>\n",
       "      <th>1</th>\n",
       "      <td>en_50k_2018.txt</td>\n",
       "      <td>en</td>\n",
       "      <td>https://raw.githubusercontent.com/hermitdave/F...</td>\n",
       "      <td>2021-03-26 03:25:53.589244</td>\n",
       "      <td>HermitDave's version of the top 50k 2018 Engli...</td>\n",
       "    </tr>\n",
       "    <tr>\n",
       "      <th>2</th>\n",
       "      <td>en_full_2016.txt</td>\n",
       "      <td>en</td>\n",
       "      <td>https://raw.githubusercontent.com/hermitdave/F...</td>\n",
       "      <td>2021-03-26 03:25:53.984856</td>\n",
       "      <td>HermitDave's version of the full 2016 English ...</td>\n",
       "    </tr>\n",
       "    <tr>\n",
       "      <th>3</th>\n",
       "      <td>en_50k_2016.txt</td>\n",
       "      <td>en</td>\n",
       "      <td>https://raw.githubusercontent.com/hermitdave/F...</td>\n",
       "      <td>2021-03-26 03:25:54.377632</td>\n",
       "      <td>HermitDave's version of the top 50k 2016 Engli...</td>\n",
       "    </tr>\n",
       "  </tbody>\n",
       "</table>\n",
       "</div>"
      ],
      "text/plain": [
       "           filename lang_code  \\\n",
       "0  en_full_2018.txt        en   \n",
       "1   en_50k_2018.txt        en   \n",
       "2  en_full_2016.txt        en   \n",
       "3   en_50k_2016.txt        en   \n",
       "\n",
       "                                          source_url  \\\n",
       "0  https://raw.githubusercontent.com/hermitdave/F...   \n",
       "1  https://raw.githubusercontent.com/hermitdave/F...   \n",
       "2  https://raw.githubusercontent.com/hermitdave/F...   \n",
       "3  https://raw.githubusercontent.com/hermitdave/F...   \n",
       "\n",
       "              last_load_dtime  \\\n",
       "0  2021-03-26 02:04:07.270824   \n",
       "1  2021-03-26 03:25:53.589244   \n",
       "2  2021-03-26 03:25:53.984856   \n",
       "3  2021-03-26 03:25:54.377632   \n",
       "\n",
       "                                                note  \n",
       "0  HermitDave's version of the full 2018 English ...  \n",
       "1  HermitDave's version of the top 50k 2018 Engli...  \n",
       "2  HermitDave's version of the full 2016 English ...  \n",
       "3  HermitDave's version of the top 50k 2016 Engli...  "
      ]
     },
     "execution_count": 17,
     "metadata": {},
     "output_type": "execute_result"
    }
   ],
   "source": [
    "raw_corpora_inventory.head()"
   ]
  },
  {
   "cell_type": "markdown",
   "id": "recovered-better",
   "metadata": {},
   "source": [
    "### Check Batch for Conflicts In Raw Corpora Inventory Table\n",
    "\n",
    "We don't want to overwrite any existing filenames or duplicate any source urls."
   ]
  },
  {
   "cell_type": "code",
   "execution_count": 18,
   "id": "honest-membership",
   "metadata": {},
   "outputs": [],
   "source": [
    "can_proceed = True"
   ]
  },
  {
   "cell_type": "code",
   "execution_count": 19,
   "id": "historic-norway",
   "metadata": {},
   "outputs": [],
   "source": [
    "for source_corpora in batch:\n",
    "    if source_corpora['filename'] in raw_corpora_inventory['filename'].unique():\n",
    "        can_proceed = False\n",
    "        print(f'filaneme must be unique, but {source_corpora[\"filename\"]} is already present in raw_corpora_inventory. Canceling intake.')\n",
    "        break\n",
    "    if source_corpora['source_url'] in raw_corpora_inventory['source_url'].unique():\n",
    "        can_proceed = False\n",
    "        print(f'source_url must be unique, but {source_corpora[\"filename\"]} is already present in raw_corpora_inventory. Canceling intake.')\n",
    "        break"
   ]
  },
  {
   "cell_type": "markdown",
   "id": "radical-judge",
   "metadata": {},
   "source": [
    "### Process Batch"
   ]
  },
  {
   "cell_type": "code",
   "execution_count": 20,
   "id": "round-separation",
   "metadata": {},
   "outputs": [],
   "source": [
    "if can_proceed:\n",
    "    for source_corpora in batch:\n",
    "        url_filename = ntpath.basename(source_corpora['source_url'])\n",
    "        url_path = ntpath.dirname(source_corpora['source_url']) +'/'\n",
    "        # copy file locally\n",
    "        cloud.pull_data_from_url(url_filename, url_path, LOCAL_DIR, local_filename=source_corpora['filename'], overwrite=True)\n",
    "        # copy file to s3\n",
    "        cloud.push_file_to_s3(source_corpora['filename'], LOCAL_DIR, CORPORA_DIR, BUCKET, overwrite=True)\n",
    "        # update raw_corpora_inventory locally\n",
    "        raw_corpora_inventory = raw_corpora_inventory.append(source_corpora, ignore_index=True)\n",
    "        # push raw_corpora_inventory to s3\n",
    "        cloud.write_csv_to_s3('raw_corpora_inventory.dat', DATA_DIR, BUCKET, raw_corpora_inventory, sep='|', index=False)"
   ]
  }
 ],
 "metadata": {
  "kernelspec": {
   "display_name": "lexgen",
   "language": "python",
   "name": "lexgen"
  },
  "language_info": {
   "codemirror_mode": {
    "name": "ipython",
    "version": 3
   },
   "file_extension": ".py",
   "mimetype": "text/x-python",
   "name": "python",
   "nbconvert_exporter": "python",
   "pygments_lexer": "ipython3",
   "version": "3.7.10"
  }
 },
 "nbformat": 4,
 "nbformat_minor": 5
}
