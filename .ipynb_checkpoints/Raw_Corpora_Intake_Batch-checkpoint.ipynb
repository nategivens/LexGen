{
 "cells": [
  {
   "cell_type": "markdown",
   "id": "exempt-dividend",
   "metadata": {},
   "source": [
    "# Raw Corpora Intake - Batch"
   ]
  },
  {
   "cell_type": "markdown",
   "id": "trained-recovery",
   "metadata": {},
   "source": [
    "## Imports and Settings"
   ]
  },
  {
   "cell_type": "code",
   "execution_count": 1,
   "id": "false-change",
   "metadata": {},
   "outputs": [],
   "source": [
    "from nate_givens_toolkit import cloud_io as cloud\n",
    "import pandas as pd\n",
    "from datetime import datetime"
   ]
  },
  {
   "cell_type": "markdown",
   "id": "inclusive-bandwidth",
   "metadata": {},
   "source": [
    "## Global Variables"
   ]
  },
  {
   "cell_type": "code",
   "execution_count": 2,
   "id": "dated-samoa",
   "metadata": {},
   "outputs": [],
   "source": [
    "LOCAL_DIR = '/data/lexgen/raw_corpora/'\n",
    "BUCKET_DIR = 'raw_corpora/'\n",
    "BUCKET = 'lexgen'"
   ]
  },
  {
   "cell_type": "markdown",
   "id": "confused-april",
   "metadata": {},
   "source": [
    "## Logic"
   ]
  },
  {
   "cell_type": "markdown",
   "id": "functional-following",
   "metadata": {},
   "source": [
    "### Specify Batch Variables"
   ]
  },
  {
   "cell_type": "code",
   "execution_count": 7,
   "id": "every-external",
   "metadata": {},
   "outputs": [],
   "source": [
    "batch = []"
   ]
  },
  {
   "cell_type": "code",
   "execution_count": 8,
   "id": "connected-orchestra",
   "metadata": {},
   "outputs": [],
   "source": [
    "batch.append({\n",
    "    'filename' : 'en_50k_2018.txt'\n",
    "    ,'lang_code' : 'en'\n",
    "    ,'source_url' : 'https://raw.githubusercontent.com/hermitdave/FrequencyWords/master/content/2018/en/en_50k.txt'\n",
    "    ,'last_load_dtime' : str(datetime.utcnow())\n",
    "    ,'note' : 'HermitDave\\'s version of the top 50k 2018 English file from OpenSubtitles'\n",
    "})"
   ]
  },
  {
   "cell_type": "code",
   "execution_count": 10,
   "id": "combined-coaching",
   "metadata": {},
   "outputs": [],
   "source": [
    "batch.append({\n",
    "    'filename' : 'en_full_2016.txt'\n",
    "    ,'lang_code' : 'en'\n",
    "    ,'source_url' : 'https://raw.githubusercontent.com/hermitdave/FrequencyWords/master/content/2016/en/en_full.txt'\n",
    "    ,'last_load_dtime' : str(datetime.utcnow())\n",
    "    ,'note' : 'HermitDave\\'s version of the full 2016 English file from OpenSubtitles'\n",
    "})"
   ]
  },
  {
   "cell_type": "code",
   "execution_count": 11,
   "id": "experimental-pressing",
   "metadata": {},
   "outputs": [],
   "source": [
    "batch.append({\n",
    "    'filename' : 'en_50k_2016.txt'\n",
    "    ,'lang_code' : 'en'\n",
    "    ,'source_url' : 'https://raw.githubusercontent.com/hermitdave/FrequencyWords/master/content/2016/en/en_50k.txt'\n",
    "    ,'last_load_dtime' : str(datetime.utcnow())\n",
    "    ,'note' : 'HermitDave\\'s version of the top 50k 2016 English file from OpenSubtitles'\n",
    "})"
   ]
  },
  {
   "cell_type": "markdown",
   "id": "recent-constitution",
   "metadata": {},
   "source": [
    "### Read in Raw Corpora Inventory Table"
   ]
  },
  {
   "cell_type": "code",
   "execution_count": 18,
   "id": "massive-laser",
   "metadata": {},
   "outputs": [],
   "source": [
    "raw_corpora_inventory = cloud.read_csv_from_s3('raw_corpora_inventory.dat', BUCKET_DIR, BUCKET, sep='|')"
   ]
  },
  {
   "cell_type": "code",
   "execution_count": 19,
   "id": "wrapped-bidder",
   "metadata": {},
   "outputs": [
    {
     "data": {
      "text/html": [
       "<div>\n",
       "<style scoped>\n",
       "    .dataframe tbody tr th:only-of-type {\n",
       "        vertical-align: middle;\n",
       "    }\n",
       "\n",
       "    .dataframe tbody tr th {\n",
       "        vertical-align: top;\n",
       "    }\n",
       "\n",
       "    .dataframe thead th {\n",
       "        text-align: right;\n",
       "    }\n",
       "</style>\n",
       "<table border=\"1\" class=\"dataframe\">\n",
       "  <thead>\n",
       "    <tr style=\"text-align: right;\">\n",
       "      <th></th>\n",
       "      <th>filename</th>\n",
       "      <th>lang_code</th>\n",
       "      <th>source_url</th>\n",
       "      <th>last_load_dtime</th>\n",
       "      <th>note</th>\n",
       "    </tr>\n",
       "  </thead>\n",
       "  <tbody>\n",
       "    <tr>\n",
       "      <th>0</th>\n",
       "      <td>en_full_2018.txt</td>\n",
       "      <td>en</td>\n",
       "      <td>https://raw.githubusercontent.com/hermitdave/F...</td>\n",
       "      <td>2021-03-26 02:04:07.270824</td>\n",
       "      <td>HermitDave's version of the full 2018 English ...</td>\n",
       "    </tr>\n",
       "  </tbody>\n",
       "</table>\n",
       "</div>"
      ],
      "text/plain": [
       "           filename lang_code  \\\n",
       "0  en_full_2018.txt        en   \n",
       "\n",
       "                                          source_url  \\\n",
       "0  https://raw.githubusercontent.com/hermitdave/F...   \n",
       "\n",
       "              last_load_dtime  \\\n",
       "0  2021-03-26 02:04:07.270824   \n",
       "\n",
       "                                                note  \n",
       "0  HermitDave's version of the full 2018 English ...  "
      ]
     },
     "execution_count": 19,
     "metadata": {},
     "output_type": "execute_result"
    }
   ],
   "source": [
    "raw_corpora_inventory.head()"
   ]
  },
  {
   "cell_type": "markdown",
   "id": "eight-arrangement",
   "metadata": {},
   "source": [
    "### Check Batch for Conflicts In Raw Corpora Inventory Table\n",
    "\n",
    "We don't want to overwrite any existing filenames or duplicate any source urls."
   ]
  },
  {
   "cell_type": "code",
   "execution_count": null,
   "id": "chinese-answer",
   "metadata": {},
   "outputs": [],
   "source": []
  },
  {
   "cell_type": "code",
   "execution_count": null,
   "id": "expanded-progressive",
   "metadata": {},
   "outputs": [],
   "source": []
  },
  {
   "cell_type": "code",
   "execution_count": null,
   "id": "ceramic-somerset",
   "metadata": {},
   "outputs": [],
   "source": []
  },
  {
   "cell_type": "code",
   "execution_count": null,
   "id": "japanese-canyon",
   "metadata": {},
   "outputs": [],
   "source": []
  },
  {
   "cell_type": "code",
   "execution_count": null,
   "id": "specialized-attachment",
   "metadata": {},
   "outputs": [],
   "source": []
  },
  {
   "cell_type": "code",
   "execution_count": null,
   "id": "gross-basics",
   "metadata": {},
   "outputs": [],
   "source": []
  }
 ],
 "metadata": {
  "kernelspec": {
   "display_name": "lexgen",
   "language": "python",
   "name": "lexgen"
  },
  "language_info": {
   "codemirror_mode": {
    "name": "ipython",
    "version": 3
   },
   "file_extension": ".py",
   "mimetype": "text/x-python",
   "name": "python",
   "nbconvert_exporter": "python",
   "pygments_lexer": "ipython3",
   "version": "3.7.10"
  }
 },
 "nbformat": 4,
 "nbformat_minor": 5
}
