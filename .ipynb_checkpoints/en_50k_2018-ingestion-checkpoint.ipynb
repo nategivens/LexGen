{
 "cells": [
  {
   "cell_type": "markdown",
   "metadata": {},
   "source": [
    "# Corpora Ingestion: en_50k_2018\n",
    "\n",
    "## Overview\n",
    "\n",
    "I downloaded this file from HermitDave's FrequencyWord repo: https://github.com/hermitdave/FrequencyWords/blob/master/content/2018/en/en_50k.txt\n",
    "\n",
    "## Contents\n",
    "* Imports & Settings\n",
    "* Global Variables\n",
    "* Helper Functions\n",
    "* EDA\n",
    "  * Read in Raw File\n",
    "  * Character Count Exploration (Raw Words)\n",
    "  * Identify Invalid Words\n",
    "  * Cross-Check Character Counts\n",
    "  * Character Count Exploration (Valid Words)\n",
    "  * Export Valid File"
   ]
  },
  {
   "cell_type": "markdown",
   "metadata": {},
   "source": [
    "## Imports & Settings"
   ]
  },
  {
   "cell_type": "code",
   "execution_count": 32,
   "metadata": {},
   "outputs": [
    {
     "ename": "ModuleNotFoundError",
     "evalue": "No module named 'seaborn'",
     "output_type": "error",
     "traceback": [
      "\u001b[1;31m---------------------------------------------------------------------------\u001b[0m",
      "\u001b[1;31mModuleNotFoundError\u001b[0m                       Traceback (most recent call last)",
      "\u001b[1;32m<ipython-input-32-426e1aefa588>\u001b[0m in \u001b[0;36m<module>\u001b[1;34m\u001b[0m\n\u001b[0;32m      2\u001b[0m \u001b[1;32mimport\u001b[0m \u001b[0mnumpy\u001b[0m \u001b[1;32mas\u001b[0m \u001b[0mnp\u001b[0m\u001b[1;33m\u001b[0m\u001b[1;33m\u001b[0m\u001b[0m\n\u001b[0;32m      3\u001b[0m \u001b[1;32mimport\u001b[0m \u001b[0mmatplotlib\u001b[0m\u001b[1;33m.\u001b[0m\u001b[0mpyplot\u001b[0m \u001b[1;32mas\u001b[0m \u001b[0mplt\u001b[0m\u001b[1;33m\u001b[0m\u001b[1;33m\u001b[0m\u001b[0m\n\u001b[1;32m----> 4\u001b[1;33m \u001b[1;32mimport\u001b[0m \u001b[0mseaborn\u001b[0m \u001b[1;32mas\u001b[0m \u001b[0msns\u001b[0m\u001b[1;33m\u001b[0m\u001b[1;33m\u001b[0m\u001b[0m\n\u001b[0m\u001b[0;32m      5\u001b[0m \u001b[1;32mfrom\u001b[0m \u001b[0mcollections\u001b[0m \u001b[1;32mimport\u001b[0m \u001b[0mCounter\u001b[0m\u001b[1;33m\u001b[0m\u001b[1;33m\u001b[0m\u001b[0m\n\u001b[0;32m      6\u001b[0m \u001b[0mget_ipython\u001b[0m\u001b[1;33m(\u001b[0m\u001b[1;33m)\u001b[0m\u001b[1;33m.\u001b[0m\u001b[0mrun_line_magic\u001b[0m\u001b[1;33m(\u001b[0m\u001b[1;34m'matplotlib'\u001b[0m\u001b[1;33m,\u001b[0m \u001b[1;34m'inline'\u001b[0m\u001b[1;33m)\u001b[0m\u001b[1;33m\u001b[0m\u001b[1;33m\u001b[0m\u001b[0m\n",
      "\u001b[1;31mModuleNotFoundError\u001b[0m: No module named 'seaborn'"
     ]
    }
   ],
   "source": [
    "import pandas as pd\n",
    "import numpy as np\n",
    "import matplotlib.pyplot as plt\n",
    "# import seaborn as sns \n",
    "from collections import Counter\n",
    "%matplotlib inline"
   ]
  },
  {
   "cell_type": "markdown",
   "metadata": {},
   "source": [
    "## Global Variables"
   ]
  },
  {
   "cell_type": "code",
   "execution_count": 2,
   "metadata": {},
   "outputs": [],
   "source": [
    "valid_chars = ['a', 'b', 'c', 'd', 'e', 'f', 'g', 'h', 'i', 'j', 'k', 'l', 'm'\n",
    "               , 'n', 'o', 'p', 'q', 'r', 's', 't', 'u', 'v', 'w', 'x', 'y', 'z']"
   ]
  },
  {
   "cell_type": "markdown",
   "metadata": {},
   "source": [
    "## Helper Functions"
   ]
  },
  {
   "cell_type": "code",
   "execution_count": 3,
   "metadata": {},
   "outputs": [],
   "source": [
    "def get_char_counter(words, frequencies):\n",
    "    # take a list of words and a corresponding list of frequencies\n",
    "    # return a counter with the sum of characters in all words, weighted by frequency    \n",
    "    counter = Counter()\n",
    "    for word, frequency in zip(words, frequencies):\n",
    "        new_counter = Counter(str(word))\n",
    "        for _ in new_counter.keys():\n",
    "            new_counter[_] = new_counter[_] * frequency\n",
    "        counter.update(new_counter)\n",
    "        \n",
    "    return counter\n",
    "\n",
    "def is_invalid_word(word, invalid_char_list):\n",
    "    # take a word and a list of invalid chars\n",
    "    # if any of the invalid chars are in the word, return false\n",
    "    # else, return true\n",
    "    return any(invalid_char in str(word) for invalid_char in invalid_char_list)"
   ]
  },
  {
   "cell_type": "markdown",
   "metadata": {},
   "source": [
    "## Raw File EDA\n",
    "\n",
    "### Read in Raw File"
   ]
  },
  {
   "cell_type": "code",
   "execution_count": 4,
   "metadata": {},
   "outputs": [],
   "source": [
    "raw_file_path = r'D:\\code_repos\\LexGen\\data\\corpora\\en_50k_2018\\en_50k_2018-RAW.txt'\n",
    "raw_words = pd.read_csv(raw_file_path, sep=' ', header=None, names=['word','frequency'])"
   ]
  },
  {
   "cell_type": "code",
   "execution_count": 5,
   "metadata": {},
   "outputs": [
    {
     "data": {
      "text/html": [
       "<div>\n",
       "<style scoped>\n",
       "    .dataframe tbody tr th:only-of-type {\n",
       "        vertical-align: middle;\n",
       "    }\n",
       "\n",
       "    .dataframe tbody tr th {\n",
       "        vertical-align: top;\n",
       "    }\n",
       "\n",
       "    .dataframe thead th {\n",
       "        text-align: right;\n",
       "    }\n",
       "</style>\n",
       "<table border=\"1\" class=\"dataframe\">\n",
       "  <thead>\n",
       "    <tr style=\"text-align: right;\">\n",
       "      <th></th>\n",
       "      <th>word</th>\n",
       "      <th>frequency</th>\n",
       "    </tr>\n",
       "  </thead>\n",
       "  <tbody>\n",
       "    <tr>\n",
       "      <th>0</th>\n",
       "      <td>you</td>\n",
       "      <td>28787591</td>\n",
       "    </tr>\n",
       "    <tr>\n",
       "      <th>1</th>\n",
       "      <td>i</td>\n",
       "      <td>27086011</td>\n",
       "    </tr>\n",
       "    <tr>\n",
       "      <th>2</th>\n",
       "      <td>the</td>\n",
       "      <td>22761659</td>\n",
       "    </tr>\n",
       "    <tr>\n",
       "      <th>3</th>\n",
       "      <td>to</td>\n",
       "      <td>17099834</td>\n",
       "    </tr>\n",
       "    <tr>\n",
       "      <th>4</th>\n",
       "      <td>a</td>\n",
       "      <td>14484562</td>\n",
       "    </tr>\n",
       "  </tbody>\n",
       "</table>\n",
       "</div>"
      ],
      "text/plain": [
       "  word  frequency\n",
       "0  you   28787591\n",
       "1    i   27086011\n",
       "2  the   22761659\n",
       "3   to   17099834\n",
       "4    a   14484562"
      ]
     },
     "execution_count": 5,
     "metadata": {},
     "output_type": "execute_result"
    }
   ],
   "source": [
    "raw_words.head()"
   ]
  },
  {
   "cell_type": "markdown",
   "metadata": {},
   "source": [
    "### Character Count Exploration (Raw Words)"
   ]
  },
  {
   "cell_type": "code",
   "execution_count": 6,
   "metadata": {},
   "outputs": [],
   "source": [
    "char_counter = get_char_counter(raw_words['word'].tolist(), raw_words['frequency'].tolist())"
   ]
  },
  {
   "cell_type": "code",
   "execution_count": 7,
   "metadata": {},
   "outputs": [
    {
     "name": "stdout",
     "output_type": "stream",
     "text": [
      "Counter({'e': 317758171, 't': 252863727, 'o': 243632065, 'a': 208469923, 'i': 192792447, 'n': 177477796, 'h': 159841703, 's': 159386595, 'r': 143335320, 'l': 114242322, 'u': 100426995, 'd': 95888458, 'y': 90697550, 'm': 74980830, 'w': 72508000, 'g': 66429118, 'c': 59766718, 'f': 45788687, 'b': 41078194, 'p': 40235384, \"'\": 38976555, 'k': 36833453, 'v': 26855865, 'j': 7002669, 'x': 3367545, 'z': 1745765, '-': 1623514, 'q': 1510497, '.': 1430364, '0': 114275, '1': 88837, '2': 56690, 'é': 52966, '`': 34653, '3': 31264, '4': 25179, '5': 24570, '8': 23131, '9': 22464, '6': 17965, 'ο': 17920, '7': 17633, 'ö': 15343, 'ñ': 10737, 'í': 8925, 'á': 7199, 'ü': 4462, 'ó': 4370, 'ç': 4166, 'è': 3892, 'ã': 3514, 'à': 2040, 'ú': 1587, 'â': 1152, 'ø': 982, 'ô': 785, 'ä': 742, 'î': 737, 'τ': 697, 'υ': 646, 'ò': 557, 'η': 553, 'ì': 532, 'ë': 498, 'ê': 469, 'ﬁ': 418, 'ﬂ': 415, 'æ': 373, 'ş': 366, 'İ': 328, 'ï': 320, 'ν': 308, 'û': 270, 'µ': 270, 'å': 207, 'у': 195, 'ý': 166})\n"
     ]
    }
   ],
   "source": [
    "print(char_counter)"
   ]
  },
  {
   "cell_type": "code",
   "execution_count": 8,
   "metadata": {},
   "outputs": [],
   "source": [
    "good_char_counter = {k: char_counter[k] for k in valid_chars}"
   ]
  },
  {
   "cell_type": "code",
   "execution_count": 9,
   "metadata": {},
   "outputs": [
    {
     "name": "stdout",
     "output_type": "stream",
     "text": [
      "{'a': 208469923, 'b': 41078194, 'c': 59766718, 'd': 95888458, 'e': 317758171, 'f': 45788687, 'g': 66429118, 'h': 159841703, 'i': 192792447, 'j': 7002669, 'k': 36833453, 'l': 114242322, 'm': 74980830, 'n': 177477796, 'o': 243632065, 'p': 40235384, 'q': 1510497, 'r': 143335320, 's': 159386595, 't': 252863727, 'u': 100426995, 'v': 26855865, 'w': 72508000, 'x': 3367545, 'y': 90697550, 'z': 1745765}\n"
     ]
    }
   ],
   "source": [
    "print(good_char_counter)"
   ]
  },
  {
   "cell_type": "code",
   "execution_count": 10,
   "metadata": {},
   "outputs": [],
   "source": [
    "invalid_chars = [char for char in char_counter.keys() if char not in valid_chars]"
   ]
  },
  {
   "cell_type": "code",
   "execution_count": 11,
   "metadata": {},
   "outputs": [],
   "source": [
    "bad_char_counter = {k: char_counter[k] for k in invalid_chars}"
   ]
  },
  {
   "cell_type": "code",
   "execution_count": 12,
   "metadata": {},
   "outputs": [
    {
     "name": "stdout",
     "output_type": "stream",
     "text": [
      "{\"'\": 38976555, '.': 1430364, '-': 1623514, 'ö': 15343, '2': 56690, '1': 88837, '3': 31264, '0': 114275, '`': 34653, 'é': 52966, '4': 25179, 'ñ': 10737, '8': 23131, '5': 24570, '9': 22464, '7': 17633, 'ο': 17920, '6': 17965, 'ç': 4166, 'í': 8925, 'ü': 4462, 'á': 7199, 'à': 2040, 'ã': 3514, 'ó': 4370, 'è': 3892, 'ä': 742, 'η': 553, 'â': 1152, 'ø': 982, 'ú': 1587, 'ê': 469, 'υ': 646, 'ş': 366, 'İ': 328, 'ï': 320, 'ô': 785, 'ν': 308, 'τ': 697, 'ò': 557, 'û': 270, 'ì': 532, 'µ': 270, 'î': 737, 'ë': 498, 'ﬂ': 415, 'ﬁ': 418, 'æ': 373, 'å': 207, 'у': 195, 'ý': 166}\n"
     ]
    }
   ],
   "source": [
    "print(bad_char_counter)"
   ]
  },
  {
   "cell_type": "code",
   "execution_count": 13,
   "metadata": {},
   "outputs": [
    {
     "name": "stdout",
     "output_type": "stream",
     "text": [
      "51\n"
     ]
    }
   ],
   "source": [
    "print(len(invalid_chars))"
   ]
  },
  {
   "cell_type": "code",
   "execution_count": 14,
   "metadata": {},
   "outputs": [
    {
     "name": "stdout",
     "output_type": "stream",
     "text": [
      "True\n"
     ]
    }
   ],
   "source": [
    "res = is_invalid_word('wor.d', invalid_chars)\n",
    "print(res)"
   ]
  },
  {
   "cell_type": "markdown",
   "metadata": {},
   "source": [
    "### Identify Invalid Words"
   ]
  },
  {
   "cell_type": "code",
   "execution_count": 15,
   "metadata": {},
   "outputs": [],
   "source": [
    "raw_words['invalid'] = raw_words['word'].apply(is_invalid_word, invalid_char_list=invalid_chars)"
   ]
  },
  {
   "cell_type": "code",
   "execution_count": 16,
   "metadata": {},
   "outputs": [
    {
     "data": {
      "text/html": [
       "<div>\n",
       "<style scoped>\n",
       "    .dataframe tbody tr th:only-of-type {\n",
       "        vertical-align: middle;\n",
       "    }\n",
       "\n",
       "    .dataframe tbody tr th {\n",
       "        vertical-align: top;\n",
       "    }\n",
       "\n",
       "    .dataframe thead th {\n",
       "        text-align: right;\n",
       "    }\n",
       "</style>\n",
       "<table border=\"1\" class=\"dataframe\">\n",
       "  <thead>\n",
       "    <tr style=\"text-align: right;\">\n",
       "      <th></th>\n",
       "      <th>word</th>\n",
       "      <th>frequency</th>\n",
       "      <th>invalid</th>\n",
       "    </tr>\n",
       "  </thead>\n",
       "  <tbody>\n",
       "    <tr>\n",
       "      <th>0</th>\n",
       "      <td>you</td>\n",
       "      <td>28787591</td>\n",
       "      <td>False</td>\n",
       "    </tr>\n",
       "    <tr>\n",
       "      <th>1</th>\n",
       "      <td>i</td>\n",
       "      <td>27086011</td>\n",
       "      <td>False</td>\n",
       "    </tr>\n",
       "    <tr>\n",
       "      <th>2</th>\n",
       "      <td>the</td>\n",
       "      <td>22761659</td>\n",
       "      <td>False</td>\n",
       "    </tr>\n",
       "    <tr>\n",
       "      <th>3</th>\n",
       "      <td>to</td>\n",
       "      <td>17099834</td>\n",
       "      <td>False</td>\n",
       "    </tr>\n",
       "    <tr>\n",
       "      <th>4</th>\n",
       "      <td>a</td>\n",
       "      <td>14484562</td>\n",
       "      <td>False</td>\n",
       "    </tr>\n",
       "  </tbody>\n",
       "</table>\n",
       "</div>"
      ],
      "text/plain": [
       "  word  frequency  invalid\n",
       "0  you   28787591    False\n",
       "1    i   27086011    False\n",
       "2  the   22761659    False\n",
       "3   to   17099834    False\n",
       "4    a   14484562    False"
      ]
     },
     "execution_count": 16,
     "metadata": {},
     "output_type": "execute_result"
    }
   ],
   "source": [
    "raw_words.head()"
   ]
  },
  {
   "cell_type": "code",
   "execution_count": 17,
   "metadata": {},
   "outputs": [
    {
     "data": {
      "text/plain": [
       "False    46717\n",
       "True      3283\n",
       "Name: invalid, dtype: int64"
      ]
     },
     "execution_count": 17,
     "metadata": {},
     "output_type": "execute_result"
    }
   ],
   "source": [
    "raw_words['invalid'].value_counts()"
   ]
  },
  {
   "cell_type": "code",
   "execution_count": 18,
   "metadata": {},
   "outputs": [
    {
     "data": {
      "text/html": [
       "<div>\n",
       "<style scoped>\n",
       "    .dataframe tbody tr th:only-of-type {\n",
       "        vertical-align: middle;\n",
       "    }\n",
       "\n",
       "    .dataframe tbody tr th {\n",
       "        vertical-align: top;\n",
       "    }\n",
       "\n",
       "    .dataframe thead th {\n",
       "        text-align: right;\n",
       "    }\n",
       "</style>\n",
       "<table border=\"1\" class=\"dataframe\">\n",
       "  <thead>\n",
       "    <tr style=\"text-align: right;\">\n",
       "      <th></th>\n",
       "      <th>word</th>\n",
       "      <th>frequency</th>\n",
       "      <th>invalid</th>\n",
       "    </tr>\n",
       "  </thead>\n",
       "  <tbody>\n",
       "    <tr>\n",
       "      <th>5</th>\n",
       "      <td>'s</td>\n",
       "      <td>14291013</td>\n",
       "      <td>True</td>\n",
       "    </tr>\n",
       "    <tr>\n",
       "      <th>9</th>\n",
       "      <td>'t</td>\n",
       "      <td>9628970</td>\n",
       "      <td>True</td>\n",
       "    </tr>\n",
       "    <tr>\n",
       "      <th>25</th>\n",
       "      <td>'m</td>\n",
       "      <td>4386306</td>\n",
       "      <td>True</td>\n",
       "    </tr>\n",
       "    <tr>\n",
       "      <th>31</th>\n",
       "      <td>'re</td>\n",
       "      <td>4059719</td>\n",
       "      <td>True</td>\n",
       "    </tr>\n",
       "    <tr>\n",
       "      <th>43</th>\n",
       "      <td>'ll</td>\n",
       "      <td>2913428</td>\n",
       "      <td>True</td>\n",
       "    </tr>\n",
       "    <tr>\n",
       "      <th>...</th>\n",
       "      <td>...</td>\n",
       "      <td>...</td>\n",
       "      <td>...</td>\n",
       "    </tr>\n",
       "    <tr>\n",
       "      <th>49960</th>\n",
       "      <td>podnapisi.net</td>\n",
       "      <td>159</td>\n",
       "      <td>True</td>\n",
       "    </tr>\n",
       "    <tr>\n",
       "      <th>49963</th>\n",
       "      <td>word-</td>\n",
       "      <td>159</td>\n",
       "      <td>True</td>\n",
       "    </tr>\n",
       "    <tr>\n",
       "      <th>49985</th>\n",
       "      <td>girls-</td>\n",
       "      <td>159</td>\n",
       "      <td>True</td>\n",
       "    </tr>\n",
       "    <tr>\n",
       "      <th>49996</th>\n",
       "      <td>hyeon-to</td>\n",
       "      <td>159</td>\n",
       "      <td>True</td>\n",
       "    </tr>\n",
       "    <tr>\n",
       "      <th>49999</th>\n",
       "      <td>buddy-buddy</td>\n",
       "      <td>159</td>\n",
       "      <td>True</td>\n",
       "    </tr>\n",
       "  </tbody>\n",
       "</table>\n",
       "<p>3283 rows × 3 columns</p>\n",
       "</div>"
      ],
      "text/plain": [
       "                word  frequency  invalid\n",
       "5                 's   14291013     True\n",
       "9                 't    9628970     True\n",
       "25                'm    4386306     True\n",
       "31               're    4059719     True\n",
       "43               'll    2913428     True\n",
       "...              ...        ...      ...\n",
       "49960  podnapisi.net        159     True\n",
       "49963          word-        159     True\n",
       "49985         girls-        159     True\n",
       "49996       hyeon-to        159     True\n",
       "49999    buddy-buddy        159     True\n",
       "\n",
       "[3283 rows x 3 columns]"
      ]
     },
     "execution_count": 18,
     "metadata": {},
     "output_type": "execute_result"
    }
   ],
   "source": [
    "raw_words[raw_words['invalid']]"
   ]
  },
  {
   "cell_type": "markdown",
   "metadata": {},
   "source": [
    "### Cross-check Character Counts"
   ]
  },
  {
   "cell_type": "code",
   "execution_count": 19,
   "metadata": {},
   "outputs": [
    {
     "name": "stdout",
     "output_type": "stream",
     "text": [
      "2777551998\n"
     ]
    }
   ],
   "source": [
    "total_chars = 0\n",
    "for word, frequency in zip(raw_words['word'].tolist(), raw_words['frequency'].tolist()):\n",
    "    total_chars += len(str(word)) * frequency\n",
    "print(total_chars)"
   ]
  },
  {
   "cell_type": "code",
   "execution_count": 20,
   "metadata": {},
   "outputs": [
    {
     "name": "stdout",
     "output_type": "stream",
     "text": [
      "2777551998\n"
     ]
    }
   ],
   "source": [
    "total_chars_check = 0\n",
    "for val in char_counter.values():\n",
    "    total_chars_check += val\n",
    "print(total_chars_check)"
   ]
  },
  {
   "cell_type": "code",
   "execution_count": 21,
   "metadata": {},
   "outputs": [
    {
     "name": "stdout",
     "output_type": "stream",
     "text": [
      "2777551998\n"
     ]
    }
   ],
   "source": [
    "total_chars_check2 = 0\n",
    "for val in good_char_counter.values():\n",
    "    total_chars_check2 += val\n",
    "for val in bad_char_counter.values():\n",
    "    total_chars_check2 += val\n",
    "print(total_chars_check2)"
   ]
  },
  {
   "cell_type": "markdown",
   "metadata": {},
   "source": [
    "### Character Count Exploration (Valid Words)"
   ]
  },
  {
   "cell_type": "code",
   "execution_count": 27,
   "metadata": {},
   "outputs": [],
   "source": [
    "valid_char_counter = get_char_counter(valid_words['word'].tolist(), valid_words['frequency'].tolist())"
   ]
  },
  {
   "cell_type": "code",
   "execution_count": 28,
   "metadata": {},
   "outputs": [
    {
     "name": "stdout",
     "output_type": "stream",
     "text": [
      "Counter({'e': 310435656, 'o': 242569229, 't': 242368699, 'a': 207388687, 'i': 191841013, 'n': 176722893, 'h': 158932362, 's': 144207001, 'r': 137908205, 'l': 107790682, 'u': 99838393, 'd': 94112053, 'y': 90354450, 'w': 72224544, 'm': 69192204, 'g': 66165888, 'c': 59318799, 'f': 45470432, 'b': 40841346, 'p': 40017891, 'k': 36661933, 'v': 24790978, 'j': 6925990, 'x': 3318865, 'z': 1738394, 'q': 1503229})\n"
     ]
    }
   ],
   "source": [
    "print(valid_char_counter)"
   ]
  },
  {
   "cell_type": "code",
   "execution_count": 31,
   "metadata": {},
   "outputs": [
    {
     "data": {
      "text/plain": [
       "<BarContainer object of 26 artists>"
      ]
     },
     "execution_count": 31,
     "metadata": {},
     "output_type": "execute_result"
    },
    {
     "data": {
      "image/png": "[encoded data removed]",
      "text/plain": [
       "<Figure size 432x288 with 1 Axes>"
      ]
     },
     "metadata": {
      "needs_background": "light"
     },
     "output_type": "display_data"
    }
   ],
   "source": [
    "plt.bar(valid_char_counter.keys(), valid_char_counter.values())"
   ]
  },
  {
   "cell_type": "markdown",
   "metadata": {},
   "source": [
    "### Export Final Words"
   ]
  },
  {
   "cell_type": "code",
   "execution_count": 25,
   "metadata": {},
   "outputs": [],
   "source": [
    "valid_words = raw_words[raw_words['invalid'] == False]"
   ]
  },
  {
   "cell_type": "code",
   "execution_count": 26,
   "metadata": {},
   "outputs": [
    {
     "data": {
      "text/plain": [
       "(46717, 3)"
      ]
     },
     "execution_count": 26,
     "metadata": {},
     "output_type": "execute_result"
    }
   ],
   "source": [
    "valid_words.shape"
   ]
  },
  {
   "cell_type": "code",
   "execution_count": 24,
   "metadata": {},
   "outputs": [],
   "source": [
    "valid_file_path = r'D:\\code_repos\\LexGen\\data\\corpora\\en_50k_2018\\en_50k_2018-VALID.txt'"
   ]
  },
  {
   "cell_type": "code",
   "execution_count": null,
   "metadata": {},
   "outputs": [],
   "source": []
  }
 ],
 "metadata": {
  "kernelspec": {
   "display_name": "Python 3",
   "language": "python",
   "name": "python3"
  },
  "language_info": {
   "codemirror_mode": {
    "name": "ipython",
    "version": 3
   },
   "file_extension": ".py",
   "mimetype": "text/x-python",
   "name": "python",
   "nbconvert_exporter": "python",
   "pygments_lexer": "ipython3",
   "version": "3.8.5"
  }
 },
 "nbformat": 4,
 "nbformat_minor": 4
}
