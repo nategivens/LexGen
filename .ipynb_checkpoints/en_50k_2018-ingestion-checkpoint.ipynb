{
 "cells": [
  {
   "cell_type": "markdown",
   "metadata": {},
   "source": [
    "# Corpora Ingestion: en_50k_2018\n",
    "\n",
    "## Overview\n",
    "\n",
    "I downloaded this file from HermitDave's FrequencyWord repo: https://github.com/hermitdave/FrequencyWords/blob/master/content/2018/en/en_50k.txt\n",
    "\n",
    "## Contents\n",
    "* Imports & Settings\n",
    "* Global Variables\n",
    "* Helper Functions\n",
    "* EDA\n",
    "  * Read in Raw File\n",
    "  * Character Count Exploration (Raw Words)\n",
    "  * Identify Invalid Words\n",
    "  * Cross-Check Character Counts\n",
    "  * Export Valid File\n",
    "  * Character Count Exploration (Valid Words)\n",
    "    * Plot of Character Frequency for Valid Words\n",
    "    * Plot of Character Frequency for Valid Words vs. All Words\n",
    "    * Plot of Character Frequency for Valid Words vs. All Words vs. Baseline for English\n",
    "* EDA Conclusions\n",
    "  * Character Validity\n",
    "  * Word Validity\n",
    "  * Character Frequency\n",
    "* Outlier Detection / Removal"
   ]
  },
  {
   "cell_type": "markdown",
   "metadata": {},
   "source": [
    "## Imports & Settings"
   ]
  },
  {
   "cell_type": "code",
   "execution_count": 2,
   "metadata": {},
   "outputs": [],
   "source": [
    "import pandas as pd\n",
    "import numpy as np\n",
    "import matplotlib.pyplot as plt\n",
    "# import seaborn as sns \n",
    "import operator\n",
    "import copy\n",
    "from collections import Counter\n",
    "%matplotlib inline"
   ]
  },
  {
   "cell_type": "markdown",
   "metadata": {},
   "source": [
    "## Global Variables"
   ]
  },
  {
   "cell_type": "code",
   "execution_count": 3,
   "metadata": {},
   "outputs": [],
   "source": [
    "valid_chars = ['a', 'b', 'c', 'd', 'e', 'f', 'g', 'h', 'i', 'j', 'k', 'l', 'm'\n",
    "               , 'n', 'o', 'p', 'q', 'r', 's', 't', 'u', 'v', 'w', 'x', 'y', 'z']"
   ]
  },
  {
   "cell_type": "markdown",
   "metadata": {},
   "source": [
    "## Helper Functions"
   ]
  },
  {
   "cell_type": "code",
   "execution_count": 4,
   "metadata": {},
   "outputs": [],
   "source": [
    "def get_char_counter(words, frequencies):\n",
    "    # take a list of words and a corresponding list of frequencies\n",
    "    # return a counter with the sum of characters in all words, weighted by frequency    \n",
    "    counter = Counter()\n",
    "    for word, frequency in zip(words, frequencies):\n",
    "        new_counter = Counter(str(word))\n",
    "        for _ in new_counter.keys():\n",
    "            new_counter[_] = new_counter[_] * frequency\n",
    "        counter.update(new_counter)\n",
    "        \n",
    "    return counter\n",
    "\n",
    "def is_invalid_word(word, invalid_char_list):\n",
    "    # take a word and a list of invalid chars\n",
    "    # if any of the invalid chars are in the word, return false\n",
    "    # else, return true\n",
    "    return any(invalid_char in str(word) for invalid_char in invalid_char_list)"
   ]
  },
  {
   "cell_type": "markdown",
   "metadata": {},
   "source": [
    "## Raw File EDA\n",
    "\n",
    "### Read in Raw File"
   ]
  },
  {
   "cell_type": "code",
   "execution_count": 5,
   "metadata": {},
   "outputs": [],
   "source": [
    "raw_file_path = r'D:\\code_repos\\LexGen\\data\\corpora\\en_50k_2018\\en_50k_2018-RAW.txt'\n",
    "raw_words = pd.read_csv(raw_file_path, sep=' ', header=None, names=['word','frequency'])"
   ]
  },
  {
   "cell_type": "code",
   "execution_count": 6,
   "metadata": {},
   "outputs": [
    {
     "data": {
      "text/html": [
       "<div>\n",
       "<style scoped>\n",
       "    .dataframe tbody tr th:only-of-type {\n",
       "        vertical-align: middle;\n",
       "    }\n",
       "\n",
       "    .dataframe tbody tr th {\n",
       "        vertical-align: top;\n",
       "    }\n",
       "\n",
       "    .dataframe thead th {\n",
       "        text-align: right;\n",
       "    }\n",
       "</style>\n",
       "<table border=\"1\" class=\"dataframe\">\n",
       "  <thead>\n",
       "    <tr style=\"text-align: right;\">\n",
       "      <th></th>\n",
       "      <th>word</th>\n",
       "      <th>frequency</th>\n",
       "    </tr>\n",
       "  </thead>\n",
       "  <tbody>\n",
       "    <tr>\n",
       "      <th>0</th>\n",
       "      <td>you</td>\n",
       "      <td>28787591</td>\n",
       "    </tr>\n",
       "    <tr>\n",
       "      <th>1</th>\n",
       "      <td>i</td>\n",
       "      <td>27086011</td>\n",
       "    </tr>\n",
       "    <tr>\n",
       "      <th>2</th>\n",
       "      <td>the</td>\n",
       "      <td>22761659</td>\n",
       "    </tr>\n",
       "    <tr>\n",
       "      <th>3</th>\n",
       "      <td>to</td>\n",
       "      <td>17099834</td>\n",
       "    </tr>\n",
       "    <tr>\n",
       "      <th>4</th>\n",
       "      <td>a</td>\n",
       "      <td>14484562</td>\n",
       "    </tr>\n",
       "  </tbody>\n",
       "</table>\n",
       "</div>"
      ],
      "text/plain": [
       "  word  frequency\n",
       "0  you   28787591\n",
       "1    i   27086011\n",
       "2  the   22761659\n",
       "3   to   17099834\n",
       "4    a   14484562"
      ]
     },
     "execution_count": 6,
     "metadata": {},
     "output_type": "execute_result"
    }
   ],
   "source": [
    "raw_words.head()"
   ]
  },
  {
   "cell_type": "markdown",
   "metadata": {},
   "source": [
    "### Character Count Exploration (Raw Words)"
   ]
  },
  {
   "cell_type": "code",
   "execution_count": 7,
   "metadata": {},
   "outputs": [],
   "source": [
    "all_char_counter = get_char_counter(raw_words['word'].tolist(), raw_words['frequency'].tolist())"
   ]
  },
  {
   "cell_type": "code",
   "execution_count": 8,
   "metadata": {},
   "outputs": [
    {
     "name": "stdout",
     "output_type": "stream",
     "text": [
      "[('e', 317758171), ('t', 252863727), ('o', 243632065), ('a', 208469923), ('i', 192792447), ('n', 177477796), ('h', 159841703), ('s', 159386595), ('r', 143335320), ('l', 114242322), ('u', 100426995), ('d', 95888458), ('y', 90697550), ('m', 74980830), ('w', 72508000), ('g', 66429118), ('c', 59766718), ('f', 45788687), ('b', 41078194), ('p', 40235384), (\"'\", 38976555), ('k', 36833453), ('v', 26855865), ('j', 7002669), ('x', 3367545), ('z', 1745765), ('-', 1623514), ('q', 1510497), ('.', 1430364), ('0', 114275), ('1', 88837), ('2', 56690), ('é', 52966), ('`', 34653), ('3', 31264), ('4', 25179), ('5', 24570), ('8', 23131), ('9', 22464), ('6', 17965), ('ο', 17920), ('7', 17633), ('ö', 15343), ('ñ', 10737), ('í', 8925), ('á', 7199), ('ü', 4462), ('ó', 4370), ('ç', 4166), ('è', 3892), ('ã', 3514), ('à', 2040), ('ú', 1587), ('â', 1152), ('ø', 982), ('ô', 785), ('ä', 742), ('î', 737), ('τ', 697), ('υ', 646), ('ò', 557), ('η', 553), ('ì', 532), ('ë', 498), ('ê', 469), ('ﬁ', 418), ('ﬂ', 415), ('æ', 373), ('ş', 366), ('İ', 328), ('ï', 320), ('ν', 308), ('û', 270), ('µ', 270), ('å', 207), ('у', 195), ('ý', 166)]\n"
     ]
    }
   ],
   "source": [
    "print(all_char_counter.most_common())"
   ]
  },
  {
   "cell_type": "code",
   "execution_count": 9,
   "metadata": {},
   "outputs": [],
   "source": [
    "good_char_counter = {k: all_char_counter[k] for k in valid_chars}"
   ]
  },
  {
   "cell_type": "code",
   "execution_count": 10,
   "metadata": {},
   "outputs": [
    {
     "name": "stdout",
     "output_type": "stream",
     "text": [
      "[('e', 317758171), ('t', 252863727), ('o', 243632065), ('a', 208469923), ('i', 192792447), ('n', 177477796), ('h', 159841703), ('s', 159386595), ('r', 143335320), ('l', 114242322), ('u', 100426995), ('d', 95888458), ('y', 90697550), ('m', 74980830), ('w', 72508000), ('g', 66429118), ('c', 59766718), ('f', 45788687), ('b', 41078194), ('p', 40235384), ('k', 36833453), ('v', 26855865), ('j', 7002669), ('x', 3367545), ('z', 1745765), ('q', 1510497)]\n"
     ]
    }
   ],
   "source": [
    "print(Counter(good_char_counter).most_common())"
   ]
  },
  {
   "cell_type": "code",
   "execution_count": 11,
   "metadata": {},
   "outputs": [],
   "source": [
    "invalid_chars = [char for char in all_char_counter.keys() if char not in valid_chars]"
   ]
  },
  {
   "cell_type": "code",
   "execution_count": 12,
   "metadata": {},
   "outputs": [],
   "source": [
    "bad_char_counter = {k: all_char_counter[k] for k in invalid_chars}"
   ]
  },
  {
   "cell_type": "code",
   "execution_count": 13,
   "metadata": {},
   "outputs": [
    {
     "name": "stdout",
     "output_type": "stream",
     "text": [
      "[(\"'\", 38976555), ('-', 1623514), ('.', 1430364), ('0', 114275), ('1', 88837), ('2', 56690), ('é', 52966), ('`', 34653), ('3', 31264), ('4', 25179), ('5', 24570), ('8', 23131), ('9', 22464), ('6', 17965), ('ο', 17920), ('7', 17633), ('ö', 15343), ('ñ', 10737), ('í', 8925), ('á', 7199), ('ü', 4462), ('ó', 4370), ('ç', 4166), ('è', 3892), ('ã', 3514), ('à', 2040), ('ú', 1587), ('â', 1152), ('ø', 982), ('ô', 785), ('ä', 742), ('î', 737), ('τ', 697), ('υ', 646), ('ò', 557), ('η', 553), ('ì', 532), ('ë', 498), ('ê', 469), ('ﬁ', 418), ('ﬂ', 415), ('æ', 373), ('ş', 366), ('İ', 328), ('ï', 320), ('ν', 308), ('û', 270), ('µ', 270), ('å', 207), ('у', 195), ('ý', 166)]\n"
     ]
    }
   ],
   "source": [
    "print(Counter(bad_char_counter).most_common())"
   ]
  },
  {
   "cell_type": "code",
   "execution_count": 14,
   "metadata": {},
   "outputs": [
    {
     "name": "stdout",
     "output_type": "stream",
     "text": [
      "51\n"
     ]
    }
   ],
   "source": [
    "print(len(invalid_chars))"
   ]
  },
  {
   "cell_type": "markdown",
   "metadata": {},
   "source": [
    "### Identify Invalid Words"
   ]
  },
  {
   "cell_type": "code",
   "execution_count": 15,
   "metadata": {},
   "outputs": [],
   "source": [
    "raw_words['invalid'] = raw_words['word'].apply(is_invalid_word, invalid_char_list=invalid_chars)"
   ]
  },
  {
   "cell_type": "code",
   "execution_count": 16,
   "metadata": {},
   "outputs": [
    {
     "data": {
      "text/html": [
       "<div>\n",
       "<style scoped>\n",
       "    .dataframe tbody tr th:only-of-type {\n",
       "        vertical-align: middle;\n",
       "    }\n",
       "\n",
       "    .dataframe tbody tr th {\n",
       "        vertical-align: top;\n",
       "    }\n",
       "\n",
       "    .dataframe thead th {\n",
       "        text-align: right;\n",
       "    }\n",
       "</style>\n",
       "<table border=\"1\" class=\"dataframe\">\n",
       "  <thead>\n",
       "    <tr style=\"text-align: right;\">\n",
       "      <th></th>\n",
       "      <th>word</th>\n",
       "      <th>frequency</th>\n",
       "      <th>invalid</th>\n",
       "    </tr>\n",
       "  </thead>\n",
       "  <tbody>\n",
       "    <tr>\n",
       "      <th>0</th>\n",
       "      <td>you</td>\n",
       "      <td>28787591</td>\n",
       "      <td>False</td>\n",
       "    </tr>\n",
       "    <tr>\n",
       "      <th>1</th>\n",
       "      <td>i</td>\n",
       "      <td>27086011</td>\n",
       "      <td>False</td>\n",
       "    </tr>\n",
       "    <tr>\n",
       "      <th>2</th>\n",
       "      <td>the</td>\n",
       "      <td>22761659</td>\n",
       "      <td>False</td>\n",
       "    </tr>\n",
       "    <tr>\n",
       "      <th>3</th>\n",
       "      <td>to</td>\n",
       "      <td>17099834</td>\n",
       "      <td>False</td>\n",
       "    </tr>\n",
       "    <tr>\n",
       "      <th>4</th>\n",
       "      <td>a</td>\n",
       "      <td>14484562</td>\n",
       "      <td>False</td>\n",
       "    </tr>\n",
       "  </tbody>\n",
       "</table>\n",
       "</div>"
      ],
      "text/plain": [
       "  word  frequency  invalid\n",
       "0  you   28787591    False\n",
       "1    i   27086011    False\n",
       "2  the   22761659    False\n",
       "3   to   17099834    False\n",
       "4    a   14484562    False"
      ]
     },
     "execution_count": 16,
     "metadata": {},
     "output_type": "execute_result"
    }
   ],
   "source": [
    "raw_words.head()"
   ]
  },
  {
   "cell_type": "code",
   "execution_count": 17,
   "metadata": {},
   "outputs": [
    {
     "data": {
      "text/plain": [
       "False    46717\n",
       "True      3283\n",
       "Name: invalid, dtype: int64"
      ]
     },
     "execution_count": 17,
     "metadata": {},
     "output_type": "execute_result"
    }
   ],
   "source": [
    "raw_words['invalid'].value_counts()"
   ]
  },
  {
   "cell_type": "code",
   "execution_count": 18,
   "metadata": {},
   "outputs": [
    {
     "data": {
      "text/html": [
       "<div>\n",
       "<style scoped>\n",
       "    .dataframe tbody tr th:only-of-type {\n",
       "        vertical-align: middle;\n",
       "    }\n",
       "\n",
       "    .dataframe tbody tr th {\n",
       "        vertical-align: top;\n",
       "    }\n",
       "\n",
       "    .dataframe thead th {\n",
       "        text-align: right;\n",
       "    }\n",
       "</style>\n",
       "<table border=\"1\" class=\"dataframe\">\n",
       "  <thead>\n",
       "    <tr style=\"text-align: right;\">\n",
       "      <th></th>\n",
       "      <th>word</th>\n",
       "      <th>frequency</th>\n",
       "      <th>invalid</th>\n",
       "    </tr>\n",
       "  </thead>\n",
       "  <tbody>\n",
       "    <tr>\n",
       "      <th>5</th>\n",
       "      <td>'s</td>\n",
       "      <td>14291013</td>\n",
       "      <td>True</td>\n",
       "    </tr>\n",
       "    <tr>\n",
       "      <th>9</th>\n",
       "      <td>'t</td>\n",
       "      <td>9628970</td>\n",
       "      <td>True</td>\n",
       "    </tr>\n",
       "    <tr>\n",
       "      <th>25</th>\n",
       "      <td>'m</td>\n",
       "      <td>4386306</td>\n",
       "      <td>True</td>\n",
       "    </tr>\n",
       "    <tr>\n",
       "      <th>31</th>\n",
       "      <td>'re</td>\n",
       "      <td>4059719</td>\n",
       "      <td>True</td>\n",
       "    </tr>\n",
       "    <tr>\n",
       "      <th>43</th>\n",
       "      <td>'ll</td>\n",
       "      <td>2913428</td>\n",
       "      <td>True</td>\n",
       "    </tr>\n",
       "    <tr>\n",
       "      <th>...</th>\n",
       "      <td>...</td>\n",
       "      <td>...</td>\n",
       "      <td>...</td>\n",
       "    </tr>\n",
       "    <tr>\n",
       "      <th>49960</th>\n",
       "      <td>podnapisi.net</td>\n",
       "      <td>159</td>\n",
       "      <td>True</td>\n",
       "    </tr>\n",
       "    <tr>\n",
       "      <th>49963</th>\n",
       "      <td>word-</td>\n",
       "      <td>159</td>\n",
       "      <td>True</td>\n",
       "    </tr>\n",
       "    <tr>\n",
       "      <th>49985</th>\n",
       "      <td>girls-</td>\n",
       "      <td>159</td>\n",
       "      <td>True</td>\n",
       "    </tr>\n",
       "    <tr>\n",
       "      <th>49996</th>\n",
       "      <td>hyeon-to</td>\n",
       "      <td>159</td>\n",
       "      <td>True</td>\n",
       "    </tr>\n",
       "    <tr>\n",
       "      <th>49999</th>\n",
       "      <td>buddy-buddy</td>\n",
       "      <td>159</td>\n",
       "      <td>True</td>\n",
       "    </tr>\n",
       "  </tbody>\n",
       "</table>\n",
       "<p>3283 rows × 3 columns</p>\n",
       "</div>"
      ],
      "text/plain": [
       "                word  frequency  invalid\n",
       "5                 's   14291013     True\n",
       "9                 't    9628970     True\n",
       "25                'm    4386306     True\n",
       "31               're    4059719     True\n",
       "43               'll    2913428     True\n",
       "...              ...        ...      ...\n",
       "49960  podnapisi.net        159     True\n",
       "49963          word-        159     True\n",
       "49985         girls-        159     True\n",
       "49996       hyeon-to        159     True\n",
       "49999    buddy-buddy        159     True\n",
       "\n",
       "[3283 rows x 3 columns]"
      ]
     },
     "execution_count": 18,
     "metadata": {},
     "output_type": "execute_result"
    }
   ],
   "source": [
    "raw_words[raw_words['invalid']]"
   ]
  },
  {
   "cell_type": "markdown",
   "metadata": {},
   "source": [
    "### Cross-check Character Counts"
   ]
  },
  {
   "cell_type": "markdown",
   "metadata": {},
   "source": [
    "Check the character counts from the raw_words dataframe"
   ]
  },
  {
   "cell_type": "code",
   "execution_count": 19,
   "metadata": {},
   "outputs": [
    {
     "name": "stdout",
     "output_type": "stream",
     "text": [
      "2777551998\n"
     ]
    }
   ],
   "source": [
    "total_chars = 0\n",
    "for word, frequency in zip(raw_words['word'].tolist(), raw_words['frequency'].tolist()):\n",
    "    total_chars += len(str(word)) * frequency\n",
    "print(total_chars)"
   ]
  },
  {
   "cell_type": "markdown",
   "metadata": {},
   "source": [
    "Check the character counts from all_char_counter "
   ]
  },
  {
   "cell_type": "code",
   "execution_count": 20,
   "metadata": {},
   "outputs": [
    {
     "name": "stdout",
     "output_type": "stream",
     "text": [
      "2777551998\n"
     ]
    }
   ],
   "source": [
    "total_chars_check = 0\n",
    "for val in all_char_counter.values():\n",
    "    total_chars_check += val\n",
    "print(total_chars_check)"
   ]
  },
  {
   "cell_type": "markdown",
   "metadata": {},
   "source": [
    "Check the character counts from sum of good_char_counter and bad_char_counter"
   ]
  },
  {
   "cell_type": "code",
   "execution_count": 21,
   "metadata": {},
   "outputs": [
    {
     "name": "stdout",
     "output_type": "stream",
     "text": [
      "2777551998\n"
     ]
    }
   ],
   "source": [
    "total_chars_check2 = 0\n",
    "for val in good_char_counter.values():\n",
    "    total_chars_check2 += val\n",
    "for val in bad_char_counter.values():\n",
    "    total_chars_check2 += val\n",
    "print(total_chars_check2)"
   ]
  },
  {
   "cell_type": "markdown",
   "metadata": {},
   "source": [
    "### Create Valid Words Dataframe"
   ]
  },
  {
   "cell_type": "code",
   "execution_count": 22,
   "metadata": {},
   "outputs": [],
   "source": [
    "valid_words = raw_words[raw_words['invalid'] == False]"
   ]
  },
  {
   "cell_type": "code",
   "execution_count": 23,
   "metadata": {},
   "outputs": [],
   "source": [
    "valid_words = valid_words.drop('invalid' , axis='columns')"
   ]
  },
  {
   "cell_type": "code",
   "execution_count": 24,
   "metadata": {},
   "outputs": [
    {
     "data": {
      "text/plain": [
       "(46717, 2)"
      ]
     },
     "execution_count": 24,
     "metadata": {},
     "output_type": "execute_result"
    }
   ],
   "source": [
    "valid_words.shape"
   ]
  },
  {
   "cell_type": "code",
   "execution_count": 25,
   "metadata": {},
   "outputs": [],
   "source": [
    "# valid_file_path = r'D:\\code_repos\\LexGen\\data\\corpora\\en_50k_2018\\en_50k_2018-VALID.txt'"
   ]
  },
  {
   "cell_type": "code",
   "execution_count": 26,
   "metadata": {},
   "outputs": [],
   "source": [
    "# valid_words.to_csv(valid_file_path, sep=' ', index=False)"
   ]
  },
  {
   "cell_type": "markdown",
   "metadata": {},
   "source": [
    "### Character Count Exploration (Valid Words)\n",
    "\n",
    "#### Plot of Character Frequency for Valid Words"
   ]
  },
  {
   "cell_type": "code",
   "execution_count": 27,
   "metadata": {},
   "outputs": [],
   "source": [
    "# get a new counter based on just the valid words\n",
    "valid_char_counter = get_char_counter(valid_words['word'].tolist(), valid_words['frequency'].tolist())\n",
    "# create a copy that we're going to normalize (relative frequency instead of nominal frequency)\n",
    "valid_char_counter_rel = copy.deepcopy(valid_char_counter)"
   ]
  },
  {
   "cell_type": "code",
   "execution_count": 28,
   "metadata": {},
   "outputs": [],
   "source": [
    "# normalize the counts\n",
    "total_valid_chars = sum(valid_char_counter.values())\n",
    "for key in valid_char_counter_rel:\n",
    "    valid_char_counter_rel[key] /= total_valid_chars"
   ]
  },
  {
   "cell_type": "code",
   "execution_count": 29,
   "metadata": {},
   "outputs": [
    {
     "name": "stdout",
     "output_type": "stream",
     "text": [
      "Counter({'e': 0.1161531958558534, 'o': 0.09076016436926419, 't': 0.0906851336828247, 'a': 0.07759694582055122, 'i': 0.0717795985270916, 'n': 0.06612297397577946, 'h': 0.059466435038697335, 's': 0.053956765942306084, 'r': 0.051599996443366616, 'l': 0.04033116671939905, 'u': 0.037355723132727586, 'd': 0.035213144860220105, 'y': 0.033807192970442525, 'w': 0.027023672837477475, 'm': 0.025889086732067156, 'g': 0.02475675457796143, 'c': 0.02219483472665589, 'f': 0.017013303374359367, 'b': 0.015281275746735339, 'p': 0.014973170256773576, 'k': 0.013717498624588327, 'v': 0.009275839509531576, 'j': 0.0025914415996263073, 'x': 0.0012417928447115525, 'z': 0.0006504408074716791, 'q': 0.0005624510235164438})\n"
     ]
    }
   ],
   "source": [
    "print(valid_char_counter_rel)"
   ]
  },
  {
   "cell_type": "code",
   "execution_count": 30,
   "metadata": {},
   "outputs": [
    {
     "data": {
      "text/plain": [
       "<BarContainer object of 26 artists>"
      ]
     },
     "execution_count": 30,
     "metadata": {},
     "output_type": "execute_result"
    },
    {
     "data": {
      "image/png": "[encoded data removed]",
      "text/plain": [
       "<Figure size 1152x576 with 1 Axes>"
      ]
     },
     "metadata": {
      "needs_background": "light"
     },
     "output_type": "display_data"
    }
   ],
   "source": [
    "# print out a bar plot of the normalized count of characters from the valid words\n",
    "plt.figure(figsize=(16,8))\n",
    "plt.xlabel('Characters', size=15)\n",
    "plt.ylabel('Relative Frequency', size=15)\n",
    "plt.title('Relative Frequency of Characters in Valid Words from en_50k_2018 Corpus', size=18)\n",
    "plt.tight_layout()\n",
    "chars, norm_freqs = map(list, zip(*valid_char_counter_rel.most_common()))\n",
    "plt.bar(chars, norm_freqs)"
   ]
  },
  {
   "cell_type": "markdown",
   "metadata": {},
   "source": [
    "#### Plot of Character Frequency for Valid Words vs. All Words"
   ]
  },
  {
   "cell_type": "code",
   "execution_count": 31,
   "metadata": {},
   "outputs": [],
   "source": [
    "# normalize the counts of good characters (from valid + invalid words)\n",
    "good_char_counter_rel = copy.deepcopy(good_char_counter)\n",
    "total_good_chars = sum(good_char_counter.values())\n",
    "for key in good_char_counter_rel:\n",
    "    good_char_counter_rel[key] /= total_good_chars"
   ]
  },
  {
   "cell_type": "code",
   "execution_count": 32,
   "metadata": {},
   "outputs": [
    {
     "name": "stdout",
     "output_type": "stream",
     "text": [
      "{'a': 0.07622535334677435, 'b': 0.015019911781218177, 'c': 0.021853220514342585, 'd': 0.03506084469042248, 'e': 0.11618572365136695, 'f': 0.016742265721755235, 'g': 0.024289273575759746, 'h': 0.058444835184810626, 'i': 0.07049301013635557, 'j': 0.002560469688932072, 'k': 0.013467856319526754, 'l': 0.04177178768184211, 'm': 0.02741613839894026, 'n': 0.0648933309737287, 'o': 0.08908210821965573, 'p': 0.014711745072420597, 'q': 0.000552301098869992, 'r': 0.05240940878590421, 's': 0.058278428599094455, 't': 0.09245759130038766, 'u': 0.03672032430035359, 'v': 0.00981963138662583, 'w': 0.0265119679660836, 'x': 0.0012313157881108981, 'y': 0.033162830862832594, 'z': 0.0006383249538852256}\n"
     ]
    }
   ],
   "source": [
    "print(good_char_counter_rel)"
   ]
  },
  {
   "cell_type": "code",
   "execution_count": 33,
   "metadata": {},
   "outputs": [],
   "source": [
    "x = []\n",
    "for key in valid_char_counter_rel:\n",
    "    x.append((key, valid_char_counter_rel[key], good_char_counter_rel[key]))\n",
    "x.sort()\n",
    "x, valid_chars, good_chars = map(list, zip(*x))\n",
    "x_labels = x\n",
    "x = np.arange(26)"
   ]
  },
  {
   "cell_type": "code",
   "execution_count": 34,
   "metadata": {},
   "outputs": [
    {
     "name": "stderr",
     "output_type": "stream",
     "text": [
      "<ipython-input-34-2af0e3673c00>:6: MatplotlibDeprecationWarning: Adding an axes using the same arguments as a previous axes currently reuses the earlier instance.  In a future version, a new instance will always be created and returned.  Meanwhile, this warning can be suppressed, and the future behavior ensured, by passing a unique label to each axes instance.\n",
      "  ax1 = plt.subplot(111)\n"
     ]
    },
    {
     "data": {
      "image/png": "[encoded data removed]",
      "text/plain": [
       "<Figure size 1152x576 with 2 Axes>"
      ]
     },
     "metadata": {
      "needs_background": "light"
     },
     "output_type": "display_data"
    }
   ],
   "source": [
    "# print out a bar plot of the normalized count of characters from the valid words\n",
    "plt.figure(figsize=(16,8))\n",
    "plt.xlabel('Characters', size=15)\n",
    "plt.ylabel('Relative Frequency', size=15)\n",
    "plt.title('Relative Frequency of Characters in Valid Words vs. All Words from en_50k_2018 Corpus', size=18)\n",
    "ax1 = plt.subplot(111)\n",
    "w = 0.4\n",
    "plt.xticks(x + w /2, x_labels)\n",
    "valid = ax1.bar(x, valid_chars, width=w, color='b', align='center')\n",
    "ax2=ax1.twinx()\n",
    "good = ax2.bar(x+w, good_chars, width=w, color='g', align='center')\n",
    "plt.legend([valid, good],['Chars from Valid Words Only', 'Chars from All Words in Corpus'])\n",
    "plt.show()\n"
   ]
  },
  {
   "cell_type": "code",
   "execution_count": 35,
   "metadata": {},
   "outputs": [
    {
     "data": {
      "text/plain": [
       "(array([ 1.,  0.,  0.,  0.,  3.,  1.,  1., 12.,  4.,  4.]),\n",
       " array([-0.00432166, -0.00372169, -0.00312172, -0.00252175, -0.00192178,\n",
       "        -0.0013218 , -0.00072183, -0.00012186,  0.00047811,  0.00107808,\n",
       "         0.00167806]),\n",
       " <BarContainer object of 10 artists>)"
      ]
     },
     "execution_count": 35,
     "metadata": {},
     "output_type": "execute_result"
    },
    {
     "data": {
      "image/png": "[encoded data removed]",
      "text/plain": [
       "<Figure size 432x288 with 1 Axes>"
      ]
     },
     "metadata": {
      "needs_background": "light"
     },
     "output_type": "display_data"
    }
   ],
   "source": [
    "differences = list(map(operator.sub, valid_chars, good_chars))\n",
    "plt.hist(differences)"
   ]
  },
  {
   "cell_type": "code",
   "execution_count": 36,
   "metadata": {},
   "outputs": [
    {
     "name": "stdout",
     "output_type": "stream",
     "text": [
      "    Min Nom Difference: -0.004321662656788371\n",
      "    Max Nom Difference: 0.0016780561496084617\n",
      "    Mean Nom Difference: 2.7522055147708957e-19\n",
      "    Median Nom Difference: 0.0002555031352893672\n",
      "    StDev of Nom Differences: 0.0012057341819267076\n",
      "    \n"
     ]
    }
   ],
   "source": [
    "print(f'''    Min Nom Difference: {min(differences)}\n",
    "    Max Nom Difference: {max(differences)}\n",
    "    Mean Nom Difference: {np.average(differences)}\n",
    "    Median Nom Difference: {np.median(differences)}\n",
    "    StDev of Nom Differences: {np.std(differences)}\n",
    "    ''')"
   ]
  },
  {
   "cell_type": "code",
   "execution_count": 37,
   "metadata": {},
   "outputs": [
    {
     "data": {
      "text/plain": [
       "(array([ 1.,  0.,  2.,  0.,  1.,  0.,  2.,  0.,  3., 17.]),\n",
       " array([-0.08009492, -0.07017943, -0.06026395, -0.05034847, -0.04043299,\n",
       "        -0.0305175 , -0.02060202, -0.01068654, -0.00077105,  0.00914443,\n",
       "         0.01905991]),\n",
       " <BarContainer object of 10 artists>)"
      ]
     },
     "execution_count": 37,
     "metadata": {},
     "output_type": "execute_result"
    },
    {
     "data": {
      "image/png": "[encoded data removed]",
      "text/plain": [
       "<Figure size 432x288 with 1 Axes>"
      ]
     },
     "metadata": {
      "needs_background": "light"
     },
     "output_type": "display_data"
    }
   ],
   "source": [
    "rel_differences = list(map(operator.truediv, differences, valid_chars))\n",
    "plt.hist(rel_differences)"
   ]
  },
  {
   "cell_type": "code",
   "execution_count": 38,
   "metadata": {},
   "outputs": [
    {
     "name": "stdout",
     "output_type": "stream",
     "text": [
      "    Min Rel Difference: -0.08009491638934328\n",
      "    Max Rel Difference: 0.019059911545252908\n",
      "    Mean Rel Difference: 0.0015495567546582848\n",
      "    Median Rel Difference: 0.017056477075563393\n",
      "    StDev of Rel Differences: 0.028066991651253256\n",
      "    \n"
     ]
    }
   ],
   "source": [
    "print(f'''    Min Rel Difference: {min(rel_differences)}\n",
    "    Max Rel Difference: {max(rel_differences)}\n",
    "    Mean Rel Difference: {np.average(rel_differences)}\n",
    "    Median Rel Difference: {np.median(rel_differences)}\n",
    "    StDev of Rel Differences: {np.std(rel_differences)}\n",
    "    ''')"
   ]
  },
  {
   "cell_type": "markdown",
   "metadata": {},
   "source": [
    "#### Plot of Character Frequency for Valid Words vs. All Words vs. Baseline for English\n",
    "\n",
    "Source: https://en.wikipedia.org/wiki/Letter_frequency"
   ]
  },
  {
   "cell_type": "code",
   "execution_count": 39,
   "metadata": {},
   "outputs": [],
   "source": [
    "en_char_freq_file = r'D:\\code_repos\\LexGen\\data\\ref\\en_char_fequency.csv'\n",
    "en_char_freq = pd.read_csv(en_char_freq_file)"
   ]
  },
  {
   "cell_type": "code",
   "execution_count": 40,
   "metadata": {},
   "outputs": [],
   "source": [
    "baseline_chars = list(en_char_freq['texts'])"
   ]
  },
  {
   "cell_type": "code",
   "execution_count": 41,
   "metadata": {},
   "outputs": [
    {
     "name": "stderr",
     "output_type": "stream",
     "text": [
      "<ipython-input-41-1ae928b68d8e>:6: MatplotlibDeprecationWarning: Adding an axes using the same arguments as a previous axes currently reuses the earlier instance.  In a future version, a new instance will always be created and returned.  Meanwhile, this warning can be suppressed, and the future behavior ensured, by passing a unique label to each axes instance.\n",
      "  ax1 = plt.subplot(111)\n"
     ]
    },
    {
     "data": {
      "image/png": "[encoded data removed]",
      "text/plain": [
       "<Figure size 1152x576 with 3 Axes>"
      ]
     },
     "metadata": {
      "needs_background": "light"
     },
     "output_type": "display_data"
    }
   ],
   "source": [
    "# print out a bar plot of the normalized count of characters from the valid words\n",
    "plt.figure(figsize=(16,8))\n",
    "plt.xlabel('Characters', size=15)\n",
    "plt.ylabel('Relative Frequency', size=15)\n",
    "plt.title('Relative Frequency of Characters in Valid Words vs. All Words from en_50k_2018 Corpusvs. Baseline', size=18)\n",
    "ax1 = plt.subplot(111)\n",
    "w = 0.3\n",
    "plt.xticks(x + w /3, x_labels)\n",
    "valid = ax1.bar(x-w, valid_chars, width=w, color='b', align='center')\n",
    "ax2=ax1.twinx()\n",
    "good = ax2.bar(x, good_chars, width=w, color='g', align='center')\n",
    "ax3=ax1.twinx()\n",
    "baseline=ax3.bar(x+w, baseline_chars, width=w, color='r', align='center')\n",
    "plt.legend([valid, good, baseline],['Chars from Valid Words Only', 'Chars from All Words in Corpus', 'Baseline Char Frequency'])\n",
    "plt.show()"
   ]
  },
  {
   "cell_type": "code",
   "execution_count": 42,
   "metadata": {},
   "outputs": [
    {
     "data": {
      "text/plain": [
       "(array([ 1.,  2.,  3.,  2., 10.,  3.,  2.,  1.,  0.,  2.]),\n",
       " array([-0.0138468 , -0.01088611, -0.00792541, -0.00496471, -0.00200402,\n",
       "         0.00095668,  0.00391738,  0.00687807,  0.00983877,  0.01279947,\n",
       "         0.01576016]),\n",
       " <BarContainer object of 10 artists>)"
      ]
     },
     "execution_count": 42,
     "metadata": {},
     "output_type": "execute_result"
    },
    {
     "data": {
      "image/png": "[encoded data removed]",
      "text/plain": [
       "<Figure size 432x288 with 1 Axes>"
      ]
     },
     "metadata": {
      "needs_background": "light"
     },
     "output_type": "display_data"
    }
   ],
   "source": [
    "baseline_differences = list(map(operator.sub, valid_chars, baseline_chars))\n",
    "plt.hist(baseline_differences)"
   ]
  },
  {
   "cell_type": "code",
   "execution_count": 43,
   "metadata": {},
   "outputs": [
    {
     "data": {
      "text/plain": [
       "(array([1., 1., 1., 0., 4., 4., 7., 3., 3., 2.]),\n",
       " array([-0.77793258, -0.65845899, -0.53898541, -0.41951182, -0.30003823,\n",
       "        -0.18056464, -0.06109106,  0.05838253,  0.17785612,  0.29732971,\n",
       "         0.41680329]),\n",
       " <BarContainer object of 10 artists>)"
      ]
     },
     "execution_count": 43,
     "metadata": {},
     "output_type": "execute_result"
    },
    {
     "data": {
      "image/png": "[encoded data removed]",
      "text/plain": [
       "<Figure size 432x288 with 1 Axes>"
      ]
     },
     "metadata": {
      "needs_background": "light"
     },
     "output_type": "display_data"
    }
   ],
   "source": [
    "baseline_rel_differences = list(map(operator.truediv, baseline_differences, valid_chars))\n",
    "plt.hist(baseline_rel_differences)"
   ]
  },
  {
   "cell_type": "code",
   "execution_count": 44,
   "metadata": {},
   "outputs": [
    {
     "name": "stdout",
     "output_type": "stream",
     "text": [
      "    Min Rel Difference: -0.7779325811303532\n",
      "    Max Rel Difference: 0.41680329490537227\n",
      "    Mean Rel Difference: -0.06506354668381784\n",
      "    Median Rel Difference: -0.01952615438677218\n",
      "    StDev of Rel Differences: 0.28096853775508007\n",
      "    \n"
     ]
    }
   ],
   "source": [
    "print(f'''    Min Rel Difference: {min(baseline_rel_differences)}\n",
    "    Max Rel Difference: {max(baseline_rel_differences)}\n",
    "    Mean Rel Difference: {np.average(baseline_rel_differences)}\n",
    "    Median Rel Difference: {np.median(baseline_rel_differences)}\n",
    "    StDev of Rel Differences: {np.std(baseline_rel_differences)}\n",
    "    ''')"
   ]
  },
  {
   "cell_type": "markdown",
   "metadata": {},
   "source": [
    "# EDA Conclusion\n",
    "\n",
    "## Character Validity\n",
    "\n",
    "I started with 50,000 words. I examined them to see if I had any invalid characters, and found that I had 51. Some of these were very common, e.g. ' (single quote) occurred 38,976,555 times. This makes it the 21st most-common character, more common than 5 actual letters. This is an important finding, because it illustrates that automatic detection of valid characters can't be based on a naive split based on frequency. A lot of invalid characters are very rare (ý appears only 165 times), but as long as some are more common than valid characters, we won't be able to trivially automate the process of identifying them (e.g. in other languages).\n",
    "\n",
    "Another note: some of the invalid characters are indistinguishable from valid characters, e.g. y (valid) vs. у (invalid). I presume there's a difference under the hood (different character codes), but I can't spot any visual difference at all. \n",
    "\n",
    "## Word Validity\n",
    "\n",
    "I decided to remove any words that 1 or more invalid characters. I removed 3,283 words that way, leaving a total of 46,717 words (from the original sample of 50k). I output the new list as the file: en_50k_2018-VALID.txt (space-separate as the original file, but with a header this time).\n",
    "\n",
    "## Character Frequency\n",
    "\n",
    "I compared relative character frequency (valid characters only) from the following sets:\n",
    "1. All Words\n",
    "2. All Valid Words\n",
    "3. Baseline Character Frequency (from Wikipedia)\n",
    "\n",
    "I found that there are some pretty significant differences, especially in the change in relative frequency between the All Valid Words set and the Baseline set. In general, the All Valid Words set had slightly higher frequency for many characters and much lower frequency for a small population of characters. \n",
    "\n",
    "My only real conclusion to this fact is the observation that character frequency *does* change significantly within a given language from corpus to corpus. I suspect the nature of subtitles is sufficiently different from the texts used to generate the baseline character occurrence rates (probably fiction and/or non-fiction prose) to explain this difference. In particular, the word 'you' is the most common in the data set (by far) and the letters 'y', 'o', and 'u' are all in the small set that are significantly overrepresented in the All Valid Words set vs. the baseline. If this is the case, than simply removing 'you' (and maybe some additional outliers) would bring the character frequencies closer together.\n",
    "\n",
    "It's also possible that restricing to just the top 50k words is skewing the results. I'm thinking about starting over with the full data set, but I want to finish up what I've got so far first."
   ]
  },
  {
   "cell_type": "markdown",
   "metadata": {},
   "source": [
    "# Outlier Detection / Removal"
   ]
  },
  {
   "cell_type": "markdown",
   "metadata": {},
   "source": [
    "Based on the EDA, I suspect that a couple of very high-frequency words (like 'you' and 'I') that are common in subtitles but not in overall English texts are skewing my character counts away from the baseline. I think the simplest way to check this hypothesis (and to erase the skew if my hunch is right) would be to just remove those super-common words. "
   ]
  },
  {
   "cell_type": "code",
   "execution_count": 45,
   "metadata": {},
   "outputs": [
    {
     "data": {
      "text/plain": [
       "[<matplotlib.lines.Line2D at 0x2169fb41c10>]"
      ]
     },
     "execution_count": 45,
     "metadata": {},
     "output_type": "execute_result"
    },
    {
     "data": {
      "image/png": "[encoded data removed]",
      "text/plain": [
       "<Figure size 1152x576 with 1 Axes>"
      ]
     },
     "metadata": {
      "needs_background": "light"
     },
     "output_type": "display_data"
    }
   ],
   "source": [
    "# Let's look at the frequency of the entire data set\n",
    "plt.figure(figsize=(16,8))\n",
    "plt.plot(np.arange(len(valid_words['frequency'].tolist())), valid_words['frequency'].tolist())"
   ]
  },
  {
   "cell_type": "code",
   "execution_count": 46,
   "metadata": {},
   "outputs": [
    {
     "data": {
      "text/plain": [
       "[<matplotlib.lines.Line2D at 0x2169fa3b850>]"
      ]
     },
     "execution_count": 46,
     "metadata": {},
     "output_type": "execute_result"
    },
    {
     "data": {
      "image/png": "[encoded data removed]",
      "text/plain": [
       "<Figure size 1152x576 with 1 Axes>"
      ]
     },
     "metadata": {
      "needs_background": "light"
     },
     "output_type": "display_data"
    }
   ],
   "source": [
    "# Let's look at log-log plot\n",
    "plt.figure(figsize=(16,8))\n",
    "plt.yscale('log')\n",
    "plt.xscale('log')\n",
    "plt.plot(np.arange(len(valid_words['frequency'].tolist())), valid_words['frequency'].tolist())"
   ]
  },
  {
   "cell_type": "markdown",
   "metadata": {},
   "source": [
    "Basd on the prior 2 charts, it looks like we're dealing with a power law overall, which is expected. It's just a different one than the power law for texts, I suppose. This makes me less inclined to try and identify and remove outliers since, you know, that's sort of the definition of the power law. However, we still have a problem with 'you' (especially) being so popular in this data set.\n",
    "\n",
    "I compared with the [list of most common English words](https://en.wikipedia.org/wiki/Most_common_words_in_English) (Wikipedia) and sure enough, 'you' is supposed to be around 14 or so, not way up at the top slot. Keeping in mind the steep curve of the power law, this is a huge reduction in frequency. \n",
    "\n",
    "Another thing to keep in mind is our end goal: coming up with transition matrices that will help us generate words that feel link English. Even if the occurence of words like 'you' (in the subtitle corpus) or 'the' (in most written English corpora) are organic, they might still be bad for our end purposes. \n",
    "\n",
    "So technically this might not be outliers (in the sense that they're not mistakes or aberrations, but the organic results of a power law), but I still want to remove them (or in some way mitigate them) and that means deciding two things:\n",
    "* Which words to treat as outliers\n",
    "* What to do with them"
   ]
  },
  {
   "cell_type": "code",
   "execution_count": 47,
   "metadata": {},
   "outputs": [
    {
     "data": {
      "text/plain": [
       "[<matplotlib.lines.Line2D at 0x2169ef24a30>]"
      ]
     },
     "execution_count": 47,
     "metadata": {},
     "output_type": "execute_result"
    },
    {
     "data": {
      "image/png": "[encoded data removed]",
      "text/plain": [
       "<Figure size 1152x576 with 1 Axes>"
      ]
     },
     "metadata": {
      "needs_background": "light"
     },
     "output_type": "display_data"
    }
   ],
   "source": [
    "# Let's zoom in on the first 1000\n",
    "plt.figure(figsize=(16,8))\n",
    "plt.plot(np.arange(len(valid_words['frequency'].tolist()[:1000])), valid_words['frequency'].tolist()[:1000])"
   ]
  },
  {
   "cell_type": "code",
   "execution_count": 48,
   "metadata": {},
   "outputs": [],
   "source": [
    "# let's look at fall off \n",
    "first_1000_frequencies = valid_words['frequency'].tolist()[:1000]\n",
    "fall_offs = [first_1000_frequencies[i - 1] - x for i, x in enumerate(first_1000_frequencies)][1:]"
   ]
  },
  {
   "cell_type": "code",
   "execution_count": 49,
   "metadata": {},
   "outputs": [
    {
     "data": {
      "text/plain": [
       "[<matplotlib.lines.Line2D at 0x2169ee06850>]"
      ]
     },
     "execution_count": 49,
     "metadata": {},
     "output_type": "execute_result"
    },
    {
     "data": {
      "image/png": "[encoded data removed]",
      "text/plain": [
       "<Figure size 1152x576 with 1 Axes>"
      ]
     },
     "metadata": {
      "needs_background": "light"
     },
     "output_type": "display_data"
    }
   ],
   "source": [
    "plt.figure(figsize=(16,8))\n",
    "plt.plot(np.arange(999), fall_offs)"
   ]
  },
  {
   "cell_type": "markdown",
   "metadata": {},
   "source": [
    "Based on the fall-off chart in particular, it makes sense to cut the first few *or* about the first 100. I'm going to do those in sequence, remove the first ~25 and compare the character frequency to the baseline and then remove the first 200 and repeat the comparison. I looked at a .head(200) statement and say that 400,000 is really consistent, so I decided to use that as my benchmark, with a 10% padding. So, ceiling is 440k."
   ]
  },
  {
   "cell_type": "code",
   "execution_count": 53,
   "metadata": {},
   "outputs": [],
   "source": [
    "valid_words_440k_cutoff = valid_words[valid_words['frequency'] < 440000]"
   ]
  },
  {
   "cell_type": "code",
   "execution_count": 56,
   "metadata": {},
   "outputs": [
    {
     "name": "stdout",
     "output_type": "stream",
     "text": [
      "we removed 185 words.\n"
     ]
    }
   ],
   "source": [
    "print(f\"we removed {valid_words.shape[0] - valid_words_440k_cutoff.shape[0]} words.\")"
   ]
  },
  {
   "cell_type": "code",
   "execution_count": null,
   "metadata": {},
   "outputs": [],
   "source": []
  }
 ],
 "metadata": {
  "kernelspec": {
   "display_name": "Python 3",
   "language": "python",
   "name": "python3"
  },
  "language_info": {
   "codemirror_mode": {
    "name": "ipython",
    "version": 3
   },
   "file_extension": ".py",
   "mimetype": "text/x-python",
   "name": "python",
   "nbconvert_exporter": "python",
   "pygments_lexer": "ipython3",
   "version": "3.8.5"
  }
 },
 "nbformat": 4,
 "nbformat_minor": 4
}
