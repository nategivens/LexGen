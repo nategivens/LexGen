{
 "cells": [
  {
   "cell_type": "markdown",
   "id": "driven-knock",
   "metadata": {},
   "source": [
    "# Clean Corpora - One Off"
   ]
  },
  {
   "cell_type": "markdown",
   "id": "straight-sender",
   "metadata": {},
   "source": [
    "## Imports and Settings"
   ]
  },
  {
   "cell_type": "code",
   "execution_count": 125,
   "id": "limiting-handy",
   "metadata": {},
   "outputs": [],
   "source": [
    "from nate_givens_toolkit import cloud_io as cloud\n",
    "import pandas as pd\n",
    "from datetime import datetime"
   ]
  },
  {
   "cell_type": "markdown",
   "id": "independent-curtis",
   "metadata": {},
   "source": [
    "## Global Variables"
   ]
  },
  {
   "cell_type": "code",
   "execution_count": 19,
   "id": "killing-speaking",
   "metadata": {},
   "outputs": [],
   "source": [
    "RAW_CORPORA_DIR = 'raw_corpora/'\n",
    "CLEAN_CORPORA_DIR = 'clean_corpora/'\n",
    "DATA_DIR = 'data_files/'\n",
    "BUCKET = 'lexgen'"
   ]
  },
  {
   "cell_type": "markdown",
   "id": "assured-laugh",
   "metadata": {},
   "source": [
    "## Functions"
   ]
  },
  {
   "cell_type": "code",
   "execution_count": 66,
   "id": "buried-knight",
   "metadata": {},
   "outputs": [],
   "source": [
    "def is_invalid_word(word, valid_chars):\n",
    "    # take a word and list of valid chars\n",
    "    # return true if the word contains any chars *not* in valid_chars\n",
    "    # otherwise return false\n",
    "    return any([x not in valid_chars for x in str(word)])"
   ]
  },
  {
   "cell_type": "markdown",
   "id": "handy-absence",
   "metadata": {},
   "source": [
    "## Logic"
   ]
  },
  {
   "cell_type": "markdown",
   "id": "medieval-pierre",
   "metadata": {},
   "source": [
    "### Specify Clean Corpus Variables"
   ]
  },
  {
   "cell_type": "code",
   "execution_count": 121,
   "id": "fewer-complement",
   "metadata": {},
   "outputs": [],
   "source": [
    "raw_corpus_filename = 'en_50k_2018.txt'\n",
    "clean_corpus_filename = 'en_50k_2018_A.txt'\n",
    "clean_corpus_note = 'Cleaned version of en_50k_2018 with top 200 words having frequency reset to exclusive mean'"
   ]
  },
  {
   "cell_type": "markdown",
   "id": "fancy-landing",
   "metadata": {},
   "source": [
    "### Read in Data Tables"
   ]
  },
  {
   "cell_type": "markdown",
   "id": "vocational-batch",
   "metadata": {},
   "source": [
    "#### Raw Corpora"
   ]
  },
  {
   "cell_type": "code",
   "execution_count": 9,
   "id": "spanish-victim",
   "metadata": {},
   "outputs": [],
   "source": [
    "raw_corpora = cloud.read_csv_from_s3('raw_corpora_inventory.dat', DATA_DIR, BUCKET, sep='|')"
   ]
  },
  {
   "cell_type": "code",
   "execution_count": 10,
   "id": "lonely-mumbai",
   "metadata": {},
   "outputs": [
    {
     "data": {
      "text/html": [
       "<div>\n",
       "<style scoped>\n",
       "    .dataframe tbody tr th:only-of-type {\n",
       "        vertical-align: middle;\n",
       "    }\n",
       "\n",
       "    .dataframe tbody tr th {\n",
       "        vertical-align: top;\n",
       "    }\n",
       "\n",
       "    .dataframe thead th {\n",
       "        text-align: right;\n",
       "    }\n",
       "</style>\n",
       "<table border=\"1\" class=\"dataframe\">\n",
       "  <thead>\n",
       "    <tr style=\"text-align: right;\">\n",
       "      <th></th>\n",
       "      <th>filename</th>\n",
       "      <th>lang_code</th>\n",
       "      <th>source_url</th>\n",
       "      <th>last_load_dtime</th>\n",
       "      <th>note</th>\n",
       "    </tr>\n",
       "  </thead>\n",
       "  <tbody>\n",
       "    <tr>\n",
       "      <th>0</th>\n",
       "      <td>en_full_2018.txt</td>\n",
       "      <td>en</td>\n",
       "      <td>https://raw.githubusercontent.com/hermitdave/F...</td>\n",
       "      <td>2021-03-26 02:04:07.270824</td>\n",
       "      <td>HermitDave's version of the full 2018 English ...</td>\n",
       "    </tr>\n",
       "    <tr>\n",
       "      <th>1</th>\n",
       "      <td>en_50k_2018.txt</td>\n",
       "      <td>en</td>\n",
       "      <td>https://raw.githubusercontent.com/hermitdave/F...</td>\n",
       "      <td>2021-03-26 03:25:53.589244</td>\n",
       "      <td>HermitDave's version of the top 50k 2018 Engli...</td>\n",
       "    </tr>\n",
       "    <tr>\n",
       "      <th>2</th>\n",
       "      <td>en_full_2016.txt</td>\n",
       "      <td>en</td>\n",
       "      <td>https://raw.githubusercontent.com/hermitdave/F...</td>\n",
       "      <td>2021-03-26 03:25:53.984856</td>\n",
       "      <td>HermitDave's version of the full 2016 English ...</td>\n",
       "    </tr>\n",
       "    <tr>\n",
       "      <th>3</th>\n",
       "      <td>en_50k_2016.txt</td>\n",
       "      <td>en</td>\n",
       "      <td>https://raw.githubusercontent.com/hermitdave/F...</td>\n",
       "      <td>2021-03-26 03:25:54.377632</td>\n",
       "      <td>HermitDave's version of the top 50k 2016 Engli...</td>\n",
       "    </tr>\n",
       "  </tbody>\n",
       "</table>\n",
       "</div>"
      ],
      "text/plain": [
       "           filename lang_code  \\\n",
       "0  en_full_2018.txt        en   \n",
       "1   en_50k_2018.txt        en   \n",
       "2  en_full_2016.txt        en   \n",
       "3   en_50k_2016.txt        en   \n",
       "\n",
       "                                          source_url  \\\n",
       "0  https://raw.githubusercontent.com/hermitdave/F...   \n",
       "1  https://raw.githubusercontent.com/hermitdave/F...   \n",
       "2  https://raw.githubusercontent.com/hermitdave/F...   \n",
       "3  https://raw.githubusercontent.com/hermitdave/F...   \n",
       "\n",
       "              last_load_dtime  \\\n",
       "0  2021-03-26 02:04:07.270824   \n",
       "1  2021-03-26 03:25:53.589244   \n",
       "2  2021-03-26 03:25:53.984856   \n",
       "3  2021-03-26 03:25:54.377632   \n",
       "\n",
       "                                                note  \n",
       "0  HermitDave's version of the full 2018 English ...  \n",
       "1  HermitDave's version of the top 50k 2018 Engli...  \n",
       "2  HermitDave's version of the full 2016 English ...  \n",
       "3  HermitDave's version of the top 50k 2016 Engli...  "
      ]
     },
     "execution_count": 10,
     "metadata": {},
     "output_type": "execute_result"
    }
   ],
   "source": [
    "raw_corpora.head()"
   ]
  },
  {
   "cell_type": "markdown",
   "id": "durable-harvard",
   "metadata": {},
   "source": [
    "#### Clean Corpora"
   ]
  },
  {
   "cell_type": "code",
   "execution_count": 153,
   "id": "permanent-proportion",
   "metadata": {},
   "outputs": [],
   "source": [
    "clean_corpora = cloud.read_csv_from_s3('clean_corpora_inventory.dat', DATA_DIR, BUCKET, sep='|')"
   ]
  },
  {
   "cell_type": "code",
   "execution_count": 154,
   "id": "swedish-junior",
   "metadata": {},
   "outputs": [
    {
     "data": {
      "text/html": [
       "<div>\n",
       "<style scoped>\n",
       "    .dataframe tbody tr th:only-of-type {\n",
       "        vertical-align: middle;\n",
       "    }\n",
       "\n",
       "    .dataframe tbody tr th {\n",
       "        vertical-align: top;\n",
       "    }\n",
       "\n",
       "    .dataframe thead th {\n",
       "        text-align: right;\n",
       "    }\n",
       "</style>\n",
       "<table border=\"1\" class=\"dataframe\">\n",
       "  <thead>\n",
       "    <tr style=\"text-align: right;\">\n",
       "      <th></th>\n",
       "      <th>filename</th>\n",
       "      <th>raw_corpora_filename</th>\n",
       "      <th>last_load_dtime</th>\n",
       "      <th>note</th>\n",
       "    </tr>\n",
       "  </thead>\n",
       "  <tbody>\n",
       "  </tbody>\n",
       "</table>\n",
       "</div>"
      ],
      "text/plain": [
       "Empty DataFrame\n",
       "Columns: [filename, raw_corpora_filename, last_load_dtime, note]\n",
       "Index: []"
      ]
     },
     "execution_count": 154,
     "metadata": {},
     "output_type": "execute_result"
    }
   ],
   "source": [
    "clean_corpora.head()"
   ]
  },
  {
   "cell_type": "markdown",
   "id": "absent-astrology",
   "metadata": {},
   "source": [
    "#### Clean Characters"
   ]
  },
  {
   "cell_type": "code",
   "execution_count": 131,
   "id": "stunning-reform",
   "metadata": {},
   "outputs": [],
   "source": [
    "clean_chars_table = cloud.read_csv_from_s3('clean_chars.dat', DATA_DIR, BUCKET, sep='|')"
   ]
  },
  {
   "cell_type": "code",
   "execution_count": 132,
   "id": "julian-argentina",
   "metadata": {},
   "outputs": [
    {
     "data": {
      "text/html": [
       "<div>\n",
       "<style scoped>\n",
       "    .dataframe tbody tr th:only-of-type {\n",
       "        vertical-align: middle;\n",
       "    }\n",
       "\n",
       "    .dataframe tbody tr th {\n",
       "        vertical-align: top;\n",
       "    }\n",
       "\n",
       "    .dataframe thead th {\n",
       "        text-align: right;\n",
       "    }\n",
       "</style>\n",
       "<table border=\"1\" class=\"dataframe\">\n",
       "  <thead>\n",
       "    <tr style=\"text-align: right;\">\n",
       "      <th></th>\n",
       "      <th>lang_code</th>\n",
       "      <th>clean_char_list</th>\n",
       "    </tr>\n",
       "  </thead>\n",
       "  <tbody>\n",
       "    <tr>\n",
       "      <th>0</th>\n",
       "      <td>en</td>\n",
       "      <td>a,b,c,d,e,f,g,h,i,j,k,l,m,n,o,p,q,r,s,t,u,v,w,...</td>\n",
       "    </tr>\n",
       "  </tbody>\n",
       "</table>\n",
       "</div>"
      ],
      "text/plain": [
       "  lang_code                                    clean_char_list\n",
       "0        en  a,b,c,d,e,f,g,h,i,j,k,l,m,n,o,p,q,r,s,t,u,v,w,..."
      ]
     },
     "execution_count": 132,
     "metadata": {},
     "output_type": "execute_result"
    }
   ],
   "source": [
    "clean_chars_table.head()"
   ]
  },
  {
   "cell_type": "markdown",
   "id": "rough-production",
   "metadata": {},
   "source": [
    "## Populate Secondary Variables"
   ]
  },
  {
   "cell_type": "markdown",
   "id": "superb-herald",
   "metadata": {},
   "source": [
    "#### Use raw_corpus_filename to get lang_code"
   ]
  },
  {
   "cell_type": "code",
   "execution_count": 133,
   "id": "forbidden-granny",
   "metadata": {},
   "outputs": [],
   "source": [
    "lang_code = raw_corpora.loc[raw_corpora['filename'] == raw_corpus_filename]['lang_code'].values[0]"
   ]
  },
  {
   "cell_type": "markdown",
   "id": "comparable-receipt",
   "metadata": {},
   "source": [
    "#### Use lang_code to get clean_chars"
   ]
  },
  {
   "cell_type": "code",
   "execution_count": 134,
   "id": "clear-spoke",
   "metadata": {},
   "outputs": [],
   "source": [
    "clean_chars = clean_chars_table.loc[clean_chars_table['lang_code'] == lang_code]['clean_char_list'].values[0].split(',')"
   ]
  },
  {
   "cell_type": "markdown",
   "id": "latest-newport",
   "metadata": {},
   "source": [
    "### Read in Raw Corpus"
   ]
  },
  {
   "cell_type": "code",
   "execution_count": 135,
   "id": "precious-defense",
   "metadata": {},
   "outputs": [],
   "source": [
    "raw_corpus = cloud.read_csv_from_s3(raw_corpus_filename, RAW_CORPORA_DIR, BUCKET, sep=' ', header = None, names = ['word', 'freq'])"
   ]
  },
  {
   "cell_type": "code",
   "execution_count": 136,
   "id": "intellectual-stream",
   "metadata": {},
   "outputs": [
    {
     "data": {
      "text/html": [
       "<div>\n",
       "<style scoped>\n",
       "    .dataframe tbody tr th:only-of-type {\n",
       "        vertical-align: middle;\n",
       "    }\n",
       "\n",
       "    .dataframe tbody tr th {\n",
       "        vertical-align: top;\n",
       "    }\n",
       "\n",
       "    .dataframe thead th {\n",
       "        text-align: right;\n",
       "    }\n",
       "</style>\n",
       "<table border=\"1\" class=\"dataframe\">\n",
       "  <thead>\n",
       "    <tr style=\"text-align: right;\">\n",
       "      <th></th>\n",
       "      <th>word</th>\n",
       "      <th>freq</th>\n",
       "    </tr>\n",
       "  </thead>\n",
       "  <tbody>\n",
       "    <tr>\n",
       "      <th>0</th>\n",
       "      <td>you</td>\n",
       "      <td>28787591</td>\n",
       "    </tr>\n",
       "    <tr>\n",
       "      <th>1</th>\n",
       "      <td>i</td>\n",
       "      <td>27086011</td>\n",
       "    </tr>\n",
       "    <tr>\n",
       "      <th>2</th>\n",
       "      <td>the</td>\n",
       "      <td>22761659</td>\n",
       "    </tr>\n",
       "    <tr>\n",
       "      <th>3</th>\n",
       "      <td>to</td>\n",
       "      <td>17099834</td>\n",
       "    </tr>\n",
       "    <tr>\n",
       "      <th>4</th>\n",
       "      <td>a</td>\n",
       "      <td>14484562</td>\n",
       "    </tr>\n",
       "  </tbody>\n",
       "</table>\n",
       "</div>"
      ],
      "text/plain": [
       "  word      freq\n",
       "0  you  28787591\n",
       "1    i  27086011\n",
       "2  the  22761659\n",
       "3   to  17099834\n",
       "4    a  14484562"
      ]
     },
     "execution_count": 136,
     "metadata": {},
     "output_type": "execute_result"
    }
   ],
   "source": [
    "raw_corpus.head()"
   ]
  },
  {
   "cell_type": "markdown",
   "id": "fitted-conversion",
   "metadata": {},
   "source": [
    "### Clean Raw Corpus"
   ]
  },
  {
   "cell_type": "markdown",
   "id": "administrative-button",
   "metadata": {},
   "source": [
    "#### Flag and then remove words that contain invalid characters"
   ]
  },
  {
   "cell_type": "code",
   "execution_count": 137,
   "id": "choice-laugh",
   "metadata": {},
   "outputs": [],
   "source": [
    "raw_corpus['invalid'] = raw_corpus['word'].apply(is_invalid_word, valid_chars=clean_chars)"
   ]
  },
  {
   "cell_type": "code",
   "execution_count": 138,
   "id": "fresh-department",
   "metadata": {},
   "outputs": [],
   "source": [
    "valid_corpus = raw_corpus.copy(deep=True)"
   ]
  },
  {
   "cell_type": "code",
   "execution_count": 139,
   "id": "lasting-smith",
   "metadata": {},
   "outputs": [],
   "source": [
    "valid_corpus = valid_corpus[raw_corpus['invalid'] == False]"
   ]
  },
  {
   "cell_type": "code",
   "execution_count": 140,
   "id": "hairy-housing",
   "metadata": {},
   "outputs": [],
   "source": [
    "valid_corpus.drop(labels='invalid', axis=1, inplace=True)"
   ]
  },
  {
   "cell_type": "code",
   "execution_count": 141,
   "id": "curious-remark",
   "metadata": {},
   "outputs": [
    {
     "data": {
      "text/plain": [
       "<bound method DataFrame.reset_index of               word      freq\n",
       "0              you  28787591\n",
       "1                i  27086011\n",
       "2              the  22761659\n",
       "3               to  17099834\n",
       "4                a  14484562\n",
       "...            ...       ...\n",
       "49993         mati       159\n",
       "49994  pericardial       159\n",
       "49995        rolli       159\n",
       "49997      redline       159\n",
       "49998          pho       159\n",
       "\n",
       "[46717 rows x 2 columns]>"
      ]
     },
     "execution_count": 141,
     "metadata": {},
     "output_type": "execute_result"
    }
   ],
   "source": [
    "valid_corpus.reset_index"
   ]
  },
  {
   "cell_type": "markdown",
   "id": "conventional-genetics",
   "metadata": {},
   "source": [
    "#### Replace the frequency of the top-200 words with the average frequency"
   ]
  },
  {
   "cell_type": "code",
   "execution_count": 142,
   "id": "alike-accent",
   "metadata": {},
   "outputs": [],
   "source": [
    "mean_freq = valid_corpus.loc[200:, 'freq'].mean()"
   ]
  },
  {
   "cell_type": "code",
   "execution_count": 143,
   "id": "virgin-greeting",
   "metadata": {},
   "outputs": [],
   "source": [
    "valid_corpus.loc[:199, 'freq'] = mean_freq"
   ]
  },
  {
   "cell_type": "markdown",
   "id": "another-congo",
   "metadata": {},
   "source": [
    "### Write Clean Corpora to S3"
   ]
  },
  {
   "cell_type": "code",
   "execution_count": 152,
   "id": "generous-while",
   "metadata": {},
   "outputs": [],
   "source": [
    "cloud.write_csv_to_s3(clean_corpus_filename, CLEAN_CORPORA_DIR, BUCKET, valid_corpus, sep='|', index=False)"
   ]
  },
  {
   "cell_type": "markdown",
   "id": "empty-testament",
   "metadata": {},
   "source": [
    "### Update Clean Corpora Inventory"
   ]
  },
  {
   "cell_type": "code",
   "execution_count": 155,
   "id": "stupid-discharge",
   "metadata": {},
   "outputs": [],
   "source": [
    "new_row = {\n",
    "    'filename': clean_corpus_filename\n",
    "    ,'raw_corpora_filename': raw_corpus_filename\n",
    "    ,'last_load_dtime': str(datetime.utcnow())\n",
    "    ,'note': clean_corpus_note\n",
    "}"
   ]
  },
  {
   "cell_type": "code",
   "execution_count": 159,
   "id": "applicable-anchor",
   "metadata": {},
   "outputs": [],
   "source": [
    "clean_corpora = clean_corpora.append(new_row, ignore_index=True)"
   ]
  },
  {
   "cell_type": "code",
   "execution_count": 160,
   "id": "utility-president",
   "metadata": {},
   "outputs": [],
   "source": [
    "cloud.write_csv_to_s3('clean_corpora_inventory.dat', DATA_DIR, BUCKET, clean_corpora, sep='|', index=False)"
   ]
  }
 ],
 "metadata": {
  "kernelspec": {
   "display_name": "lexgen",
   "language": "python",
   "name": "lexgen"
  },
  "language_info": {
   "codemirror_mode": {
    "name": "ipython",
    "version": 3
   },
   "file_extension": ".py",
   "mimetype": "text/x-python",
   "name": "python",
   "nbconvert_exporter": "python",
   "pygments_lexer": "ipython3",
   "version": "3.7.10"
  }
 },
 "nbformat": 4,
 "nbformat_minor": 5
}
