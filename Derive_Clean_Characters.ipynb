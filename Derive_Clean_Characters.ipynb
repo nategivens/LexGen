{
 "cells": [
  {
   "cell_type": "markdown",
   "id": "stupid-music",
   "metadata": {},
   "source": [
    "# Derive Valid Characters"
   ]
  },
  {
   "cell_type": "markdown",
   "id": "outside-circus",
   "metadata": {},
   "source": [
    "## Import Statements"
   ]
  },
  {
   "cell_type": "code",
   "execution_count": 1,
   "id": "analyzed-forty",
   "metadata": {},
   "outputs": [],
   "source": [
    "from nate_givens_toolkit import cloud_io as cloud\n",
    "from collections import Counter\n",
    "import pandas as pd"
   ]
  },
  {
   "cell_type": "markdown",
   "id": "charming-margin",
   "metadata": {},
   "source": [
    "## Global Variables"
   ]
  },
  {
   "cell_type": "code",
   "execution_count": 2,
   "id": "trained-knife",
   "metadata": {},
   "outputs": [],
   "source": [
    "RAW_CORPORA_DIR = 'raw_corpora/'\n",
    "CLEAN_CORPORA_DIR = 'clean_corpora/'\n",
    "DATA_DIR = 'data_files/'\n",
    "BUCKET = 'lexgen'"
   ]
  },
  {
   "cell_type": "markdown",
   "id": "related-bunch",
   "metadata": {},
   "source": [
    "## Custom Functions"
   ]
  },
  {
   "cell_type": "code",
   "execution_count": 3,
   "id": "smoking-slovakia",
   "metadata": {},
   "outputs": [],
   "source": [
    "def get_char_counter(words, frequencies):\n",
    "    # take a list of words and a corresponding list of frequencies\n",
    "    # return a counter with the sum of characters in all words, weighted by frequency    \n",
    "    counter = Counter()\n",
    "    for word, frequency in zip(words, frequencies):\n",
    "        new_counter = Counter(str(word))\n",
    "        for _ in new_counter.keys():\n",
    "            new_counter[_] = new_counter[_] * frequency\n",
    "        counter.update(new_counter)\n",
    "        \n",
    "    return counter"
   ]
  },
  {
   "cell_type": "markdown",
   "id": "metric-peripheral",
   "metadata": {},
   "source": [
    "## Logic"
   ]
  },
  {
   "cell_type": "markdown",
   "id": "premium-matter",
   "metadata": {},
   "source": [
    "### Read in raw corpora"
   ]
  },
  {
   "cell_type": "code",
   "execution_count": 4,
   "id": "canadian-gross",
   "metadata": {},
   "outputs": [],
   "source": [
    "raw_corpora = cloud.read_csv_from_s3('raw_corpora_inventory.dat', DATA_DIR, BUCKET, sep='|')"
   ]
  },
  {
   "cell_type": "code",
   "execution_count": 5,
   "id": "norman-terry",
   "metadata": {},
   "outputs": [
    {
     "data": {
      "text/html": [
       "<div>\n",
       "<style scoped>\n",
       "    .dataframe tbody tr th:only-of-type {\n",
       "        vertical-align: middle;\n",
       "    }\n",
       "\n",
       "    .dataframe tbody tr th {\n",
       "        vertical-align: top;\n",
       "    }\n",
       "\n",
       "    .dataframe thead th {\n",
       "        text-align: right;\n",
       "    }\n",
       "</style>\n",
       "<table border=\"1\" class=\"dataframe\">\n",
       "  <thead>\n",
       "    <tr style=\"text-align: right;\">\n",
       "      <th></th>\n",
       "      <th>filename</th>\n",
       "      <th>lang_code</th>\n",
       "      <th>source_url</th>\n",
       "      <th>last_load_dtime</th>\n",
       "      <th>note</th>\n",
       "    </tr>\n",
       "  </thead>\n",
       "  <tbody>\n",
       "    <tr>\n",
       "      <th>0</th>\n",
       "      <td>en_full_2018.txt</td>\n",
       "      <td>en</td>\n",
       "      <td>https://raw.githubusercontent.com/hermitdave/F...</td>\n",
       "      <td>2021-03-26 02:04:07.270824</td>\n",
       "      <td>HermitDave's version of the full 2018 English ...</td>\n",
       "    </tr>\n",
       "    <tr>\n",
       "      <th>1</th>\n",
       "      <td>en_50k_2018.txt</td>\n",
       "      <td>en</td>\n",
       "      <td>https://raw.githubusercontent.com/hermitdave/F...</td>\n",
       "      <td>2021-03-26 03:25:53.589244</td>\n",
       "      <td>HermitDave's version of the top 50k 2018 Engli...</td>\n",
       "    </tr>\n",
       "    <tr>\n",
       "      <th>2</th>\n",
       "      <td>en_full_2016.txt</td>\n",
       "      <td>en</td>\n",
       "      <td>https://raw.githubusercontent.com/hermitdave/F...</td>\n",
       "      <td>2021-03-26 03:25:53.984856</td>\n",
       "      <td>HermitDave's version of the full 2016 English ...</td>\n",
       "    </tr>\n",
       "    <tr>\n",
       "      <th>3</th>\n",
       "      <td>en_50k_2016.txt</td>\n",
       "      <td>en</td>\n",
       "      <td>https://raw.githubusercontent.com/hermitdave/F...</td>\n",
       "      <td>2021-03-26 03:25:54.377632</td>\n",
       "      <td>HermitDave's version of the top 50k 2016 Engli...</td>\n",
       "    </tr>\n",
       "    <tr>\n",
       "      <th>4</th>\n",
       "      <td>de_full_2018.txt</td>\n",
       "      <td>de</td>\n",
       "      <td>https://raw.githubusercontent.com/hermitdave/F...</td>\n",
       "      <td>2021-04-06 19:42:26.967039</td>\n",
       "      <td>HermitDave's version of the full 2018 German f...</td>\n",
       "    </tr>\n",
       "  </tbody>\n",
       "</table>\n",
       "</div>"
      ],
      "text/plain": [
       "           filename lang_code  \\\n",
       "0  en_full_2018.txt        en   \n",
       "1   en_50k_2018.txt        en   \n",
       "2  en_full_2016.txt        en   \n",
       "3   en_50k_2016.txt        en   \n",
       "4  de_full_2018.txt        de   \n",
       "\n",
       "                                          source_url  \\\n",
       "0  https://raw.githubusercontent.com/hermitdave/F...   \n",
       "1  https://raw.githubusercontent.com/hermitdave/F...   \n",
       "2  https://raw.githubusercontent.com/hermitdave/F...   \n",
       "3  https://raw.githubusercontent.com/hermitdave/F...   \n",
       "4  https://raw.githubusercontent.com/hermitdave/F...   \n",
       "\n",
       "              last_load_dtime  \\\n",
       "0  2021-03-26 02:04:07.270824   \n",
       "1  2021-03-26 03:25:53.589244   \n",
       "2  2021-03-26 03:25:53.984856   \n",
       "3  2021-03-26 03:25:54.377632   \n",
       "4  2021-04-06 19:42:26.967039   \n",
       "\n",
       "                                                note  \n",
       "0  HermitDave's version of the full 2018 English ...  \n",
       "1  HermitDave's version of the top 50k 2018 Engli...  \n",
       "2  HermitDave's version of the full 2016 English ...  \n",
       "3  HermitDave's version of the top 50k 2016 Engli...  \n",
       "4  HermitDave's version of the full 2018 German f...  "
      ]
     },
     "execution_count": 5,
     "metadata": {},
     "output_type": "execute_result"
    }
   ],
   "source": [
    "raw_corpora.head()"
   ]
  },
  {
   "cell_type": "markdown",
   "id": "blank-example",
   "metadata": {},
   "source": [
    "### Read in valid chars"
   ]
  },
  {
   "cell_type": "code",
   "execution_count": 6,
   "id": "under-skill",
   "metadata": {},
   "outputs": [],
   "source": [
    "valid_chars_table = cloud.read_csv_from_s3('valid_chars.dat', DATA_DIR, BUCKET, sep='|')"
   ]
  },
  {
   "cell_type": "code",
   "execution_count": 7,
   "id": "cordless-inventory",
   "metadata": {},
   "outputs": [
    {
     "data": {
      "text/html": [
       "<div>\n",
       "<style scoped>\n",
       "    .dataframe tbody tr th:only-of-type {\n",
       "        vertical-align: middle;\n",
       "    }\n",
       "\n",
       "    .dataframe tbody tr th {\n",
       "        vertical-align: top;\n",
       "    }\n",
       "\n",
       "    .dataframe thead th {\n",
       "        text-align: right;\n",
       "    }\n",
       "</style>\n",
       "<table border=\"1\" class=\"dataframe\">\n",
       "  <thead>\n",
       "    <tr style=\"text-align: right;\">\n",
       "      <th></th>\n",
       "      <th>lang_code</th>\n",
       "      <th>valid_chars</th>\n",
       "    </tr>\n",
       "  </thead>\n",
       "  <tbody>\n",
       "    <tr>\n",
       "      <th>0</th>\n",
       "      <td>en</td>\n",
       "      <td>a,b,c,d,e,f,g,h,i,j,k,l,m,n,o,p,q,r,s,t,u,v,w,...</td>\n",
       "    </tr>\n",
       "    <tr>\n",
       "      <th>1</th>\n",
       "      <td>de</td>\n",
       "      <td>i,c,h,s,e,d,a,t,u,n,r,w,z,j,m,f,b,o,ü,v,k,g,l,...</td>\n",
       "    </tr>\n",
       "  </tbody>\n",
       "</table>\n",
       "</div>"
      ],
      "text/plain": [
       "  lang_code                                        valid_chars\n",
       "0        en  a,b,c,d,e,f,g,h,i,j,k,l,m,n,o,p,q,r,s,t,u,v,w,...\n",
       "1        de  i,c,h,s,e,d,a,t,u,n,r,w,z,j,m,f,b,o,ü,v,k,g,l,..."
      ]
     },
     "execution_count": 7,
     "metadata": {},
     "output_type": "execute_result"
    }
   ],
   "source": [
    "valid_chars_table.head()"
   ]
  },
  {
   "cell_type": "markdown",
   "id": "simple-glossary",
   "metadata": {},
   "source": [
    "### Read in a raw corpus"
   ]
  },
  {
   "cell_type": "code",
   "execution_count": 8,
   "id": "angry-guatemala",
   "metadata": {},
   "outputs": [],
   "source": [
    "raw_corpus_filename = 'af_full_2018.txt'"
   ]
  },
  {
   "cell_type": "code",
   "execution_count": 9,
   "id": "macro-moscow",
   "metadata": {},
   "outputs": [],
   "source": [
    "if raw_corpus_filename in raw_corpora['filename'].tolist():\n",
    "    raw_corpus = cloud.read_csv_from_s3(raw_corpus_filename, RAW_CORPORA_DIR, BUCKET, sep=' ', header = None, names = ['word', 'freq'])"
   ]
  },
  {
   "cell_type": "code",
   "execution_count": 10,
   "id": "mediterranean-listing",
   "metadata": {},
   "outputs": [
    {
     "data": {
      "text/html": [
       "<div>\n",
       "<style scoped>\n",
       "    .dataframe tbody tr th:only-of-type {\n",
       "        vertical-align: middle;\n",
       "    }\n",
       "\n",
       "    .dataframe tbody tr th {\n",
       "        vertical-align: top;\n",
       "    }\n",
       "\n",
       "    .dataframe thead th {\n",
       "        text-align: right;\n",
       "    }\n",
       "</style>\n",
       "<table border=\"1\" class=\"dataframe\">\n",
       "  <thead>\n",
       "    <tr style=\"text-align: right;\">\n",
       "      <th></th>\n",
       "      <th>word</th>\n",
       "      <th>freq</th>\n",
       "    </tr>\n",
       "  </thead>\n",
       "  <tbody>\n",
       "    <tr>\n",
       "      <th>0</th>\n",
       "      <td>die</td>\n",
       "      <td>12974</td>\n",
       "    </tr>\n",
       "    <tr>\n",
       "      <th>1</th>\n",
       "      <td>nie</td>\n",
       "      <td>12403</td>\n",
       "    </tr>\n",
       "    <tr>\n",
       "      <th>2</th>\n",
       "      <td>ek</td>\n",
       "      <td>12328</td>\n",
       "    </tr>\n",
       "    <tr>\n",
       "      <th>3</th>\n",
       "      <td>is</td>\n",
       "      <td>9816</td>\n",
       "    </tr>\n",
       "    <tr>\n",
       "      <th>4</th>\n",
       "      <td>het</td>\n",
       "      <td>8332</td>\n",
       "    </tr>\n",
       "  </tbody>\n",
       "</table>\n",
       "</div>"
      ],
      "text/plain": [
       "  word   freq\n",
       "0  die  12974\n",
       "1  nie  12403\n",
       "2   ek  12328\n",
       "3   is   9816\n",
       "4  het   8332"
      ]
     },
     "execution_count": 10,
     "metadata": {},
     "output_type": "execute_result"
    }
   ],
   "source": [
    "raw_corpus.head()"
   ]
  },
  {
   "cell_type": "markdown",
   "id": "moving-canal",
   "metadata": {},
   "source": [
    "### Get a counter with all characters"
   ]
  },
  {
   "cell_type": "code",
   "execution_count": 11,
   "id": "optimum-external",
   "metadata": {},
   "outputs": [],
   "source": [
    "all_char_counter = get_char_counter(raw_corpus['word'].tolist(), raw_corpus['freq'].tolist())"
   ]
  },
  {
   "cell_type": "markdown",
   "id": "ready-opera",
   "metadata": {},
   "source": [
    "### Derive valid chars"
   ]
  },
  {
   "cell_type": "code",
   "execution_count": 12,
   "id": "veterinary-impression",
   "metadata": {},
   "outputs": [
    {
     "name": "stdout",
     "output_type": "stream",
     "text": [
      "Counter({'e': 219585, 'a': 116906, 'i': 107748, 'n': 104310, 'o': 89998, 's': 84357, 'r': 78152, 't': 72934, 'd': 66182, 'l': 53109, 'k': 52964, 'm': 44400, 'g': 43203, 'h': 32355, 'u': 31772, 'y': 28072, 'w': 26592, 'v': 22984, 'j': 18548, 'b': 16779, 'p': 15742, 'f': 9219, 'c': 2415, 'ê': 2161, '-': 1055, 'ë': 777, 'z': 767, 'ô': 268, 'é': 231, 'x': 207, '.': 157, 'ö': 101, 'ï': 78, '0': 76, '1': 75, 'q': 67, 'è': 62, 'ü': 60, '2': 49, '4': 45, '6': 43, '5': 34, '3': 29, 'ä': 20, 'ł': 20, '7': 18, '8': 16, 'â': 11, 'ó': 9, '9': 8, 'ȇ': 7, 'û': 6, 'ń': 6, 'á': 5, 'ś': 3, 'ñ': 2, 'ę': 2, 'í': 2, 'ż': 2, ',': 2, 'ç': 2, 'ź': 1, 'à': 1, 'î': 1, 'ß': 1})\n"
     ]
    }
   ],
   "source": [
    "print(all_char_counter)"
   ]
  },
  {
   "cell_type": "code",
   "execution_count": 13,
   "id": "formal-crisis",
   "metadata": {},
   "outputs": [
    {
     "name": "stdout",
     "output_type": "stream",
     "text": [
      "dict_keys(['d', 'i', 'e', 'n', 'k', 's', 'h', 't', 'j', 'y', 'm', 'o', 'w', 'a', 'u', 'v', 'r', 'g', 'l', 'p', 'b', 'ê', 'f', 'ô', 'ë', 'z', 'c', 'é', 'x', 'ü', 'q', '6', 'è', 'ö', 'ä', '.', '-', 'ï', 'â', 'û', '3', '4', '0', '1', '5', 'ȇ', '2', '7', 'ó', '9', '8', 'ł', 'ñ', 'ę', 'í', 'á', 'ń', 'ś', 'ź', 'ż', 'à', 'î', ',', 'ß', 'ç'])\n"
     ]
    }
   ],
   "source": [
    "print(all_char_counter.keys())"
   ]
  },
  {
   "cell_type": "code",
   "execution_count": 17,
   "id": "radical-monitor",
   "metadata": {},
   "outputs": [],
   "source": [
    "# copy-pasted list of what I expect for this language\n",
    "valid_chars_ext = ['a', 'b', 'c', 'd', 'e', 'è', 'ê', 'ë', 'f', 'g', 'h', 'i', 'î', 'ï', 'j', 'k', 'l', 'm', 'n', 'o', 'ô', 'ö', 'p', 'q', 'r', 's', 't', 'u', 'û', 'ü', 'v', 'w', 'x', 'y', 'z']"
   ]
  },
  {
   "cell_type": "code",
   "execution_count": 24,
   "id": "banner-hobby",
   "metadata": {},
   "outputs": [],
   "source": [
    "# copy-paste the keys and then ues Google + frequencies above to eliminate the invalid chars\n",
    "# valid_char_list = ['d', 'i', 'e', 'n', 'k', 's', 'h', 't', 'j', 'y', 'm', 'o', 'w', 'a', 'u', 'v', 'r', 'g', 'l', 'p', 'b', 'ê', 'f', 'ô', 'ë', 'z', 'c', 'é', 'x', 'ü', 'q', '6', 'è', 'ö', 'ä', 'ï', 'â', 'û', '3', '4', '0', '1', '5', 'ȇ', '2', '7', 'ó', '9', '8', 'ł', 'ñ', 'ę', 'í', 'á', 'ń', 'ś', 'ź', 'ż', 'à', 'î', ',', 'ß', 'ç']"
   ]
  },
  {
   "cell_type": "code",
   "execution_count": 15,
   "id": "chubby-acceptance",
   "metadata": {},
   "outputs": [],
   "source": [
    "valid_char_list = [char for char in all_char_counter.keys() if char in valid_chars_ext]"
   ]
  },
  {
   "cell_type": "code",
   "execution_count": 16,
   "id": "casual-algeria",
   "metadata": {},
   "outputs": [
    {
     "data": {
      "text/plain": [
       "35"
      ]
     },
     "execution_count": 16,
     "metadata": {},
     "output_type": "execute_result"
    }
   ],
   "source": [
    "# check the length\n",
    "len(valid_char_list)"
   ]
  },
  {
   "cell_type": "code",
   "execution_count": 18,
   "id": "adaptive-church",
   "metadata": {},
   "outputs": [
    {
     "name": "stdout",
     "output_type": "stream",
     "text": [
      "d,i,e,n,k,s,h,t,j,y,m,o,w,a,u,v,r,g,l,p,b,ê,f,ô,ë,z,c,x,ü,q,è,ö,ï,û,î\n"
     ]
    }
   ],
   "source": [
    "# convert to a string\n",
    "valid_chars = ','.join(valid_char_list)\n",
    "print(valid_chars)"
   ]
  },
  {
   "cell_type": "markdown",
   "id": "buried-houston",
   "metadata": {},
   "source": [
    "### Write valid chars to S3"
   ]
  },
  {
   "cell_type": "code",
   "execution_count": 19,
   "id": "identified-despite",
   "metadata": {},
   "outputs": [],
   "source": [
    "new_row = {\n",
    "    'lang_code':'af'\n",
    "    ,'valid_chars':valid_chars\n",
    "}"
   ]
  },
  {
   "cell_type": "code",
   "execution_count": 20,
   "id": "applied-comment",
   "metadata": {},
   "outputs": [],
   "source": [
    "if new_row['lang_code'] not in valid_chars_table['lang_code'].tolist():\n",
    "    valid_chars_table = valid_chars_table.append(new_row, ignore_index = True)\n",
    "    cloud.write_csv_to_s3('valid_chars.dat', DATA_DIR, BUCKET, valid_chars_table, sep='|', index=False)"
   ]
  },
  {
   "cell_type": "code",
   "execution_count": null,
   "id": "least-processor",
   "metadata": {},
   "outputs": [],
   "source": []
  }
 ],
 "metadata": {
  "kernelspec": {
   "display_name": "lexgen",
   "language": "python",
   "name": "lexgen"
  },
  "language_info": {
   "codemirror_mode": {
    "name": "ipython",
    "version": 3
   },
   "file_extension": ".py",
   "mimetype": "text/x-python",
   "name": "python",
   "nbconvert_exporter": "python",
   "pygments_lexer": "ipython3",
   "version": "3.7.10"
  }
 },
 "nbformat": 4,
 "nbformat_minor": 5
}
