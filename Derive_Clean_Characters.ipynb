{
 "cells": [
  {
   "cell_type": "markdown",
   "id": "raising-bradford",
   "metadata": {},
   "source": [
    "# Derive Valid Characters"
   ]
  },
  {
   "cell_type": "markdown",
   "id": "coordinated-copper",
   "metadata": {},
   "source": [
    "## Import Statements"
   ]
  },
  {
   "cell_type": "code",
   "execution_count": 18,
   "id": "younger-sodium",
   "metadata": {},
   "outputs": [],
   "source": [
    "from nate_givens_toolkit import cloud_io as cloud\n",
    "from collections import Counter\n",
    "import pandas as pd"
   ]
  },
  {
   "cell_type": "markdown",
   "id": "intimate-traveler",
   "metadata": {},
   "source": [
    "## Global Variables"
   ]
  },
  {
   "cell_type": "code",
   "execution_count": 4,
   "id": "steady-tobago",
   "metadata": {},
   "outputs": [],
   "source": [
    "RAW_CORPORA_DIR = 'raw_corpora/'\n",
    "CLEAN_CORPORA_DIR = 'clean_corpora/'\n",
    "DATA_DIR = 'data_files/'\n",
    "BUCKET = 'lexgen'"
   ]
  },
  {
   "cell_type": "markdown",
   "id": "black-campaign",
   "metadata": {},
   "source": [
    "## Custom Functions"
   ]
  },
  {
   "cell_type": "code",
   "execution_count": 13,
   "id": "racial-process",
   "metadata": {},
   "outputs": [],
   "source": [
    "def get_char_counter(words, frequencies):\n",
    "    # take a list of words and a corresponding list of frequencies\n",
    "    # return a counter with the sum of characters in all words, weighted by frequency    \n",
    "    counter = Counter()\n",
    "    for word, frequency in zip(words, frequencies):\n",
    "        new_counter = Counter(str(word))\n",
    "        for _ in new_counter.keys():\n",
    "            new_counter[_] = new_counter[_] * frequency\n",
    "        counter.update(new_counter)\n",
    "        \n",
    "    return counter"
   ]
  },
  {
   "cell_type": "markdown",
   "id": "anonymous-swiss",
   "metadata": {},
   "source": [
    "## Logic"
   ]
  },
  {
   "cell_type": "markdown",
   "id": "familiar-minutes",
   "metadata": {},
   "source": [
    "### Read in raw corpora"
   ]
  },
  {
   "cell_type": "code",
   "execution_count": 7,
   "id": "fundamental-japan",
   "metadata": {},
   "outputs": [],
   "source": [
    "raw_corpora = cloud.read_csv_from_s3('raw_corpora_inventory.dat', DATA_DIR, BUCKET, sep='|')"
   ]
  },
  {
   "cell_type": "code",
   "execution_count": 8,
   "id": "engaging-territory",
   "metadata": {},
   "outputs": [
    {
     "data": {
      "text/html": [
       "<div>\n",
       "<style scoped>\n",
       "    .dataframe tbody tr th:only-of-type {\n",
       "        vertical-align: middle;\n",
       "    }\n",
       "\n",
       "    .dataframe tbody tr th {\n",
       "        vertical-align: top;\n",
       "    }\n",
       "\n",
       "    .dataframe thead th {\n",
       "        text-align: right;\n",
       "    }\n",
       "</style>\n",
       "<table border=\"1\" class=\"dataframe\">\n",
       "  <thead>\n",
       "    <tr style=\"text-align: right;\">\n",
       "      <th></th>\n",
       "      <th>filename</th>\n",
       "      <th>lang_code</th>\n",
       "      <th>source_url</th>\n",
       "      <th>last_load_dtime</th>\n",
       "      <th>note</th>\n",
       "    </tr>\n",
       "  </thead>\n",
       "  <tbody>\n",
       "    <tr>\n",
       "      <th>0</th>\n",
       "      <td>en_full_2018.txt</td>\n",
       "      <td>en</td>\n",
       "      <td>https://raw.githubusercontent.com/hermitdave/F...</td>\n",
       "      <td>2021-03-26 02:04:07.270824</td>\n",
       "      <td>HermitDave's version of the full 2018 English ...</td>\n",
       "    </tr>\n",
       "    <tr>\n",
       "      <th>1</th>\n",
       "      <td>en_50k_2018.txt</td>\n",
       "      <td>en</td>\n",
       "      <td>https://raw.githubusercontent.com/hermitdave/F...</td>\n",
       "      <td>2021-03-26 03:25:53.589244</td>\n",
       "      <td>HermitDave's version of the top 50k 2018 Engli...</td>\n",
       "    </tr>\n",
       "    <tr>\n",
       "      <th>2</th>\n",
       "      <td>en_full_2016.txt</td>\n",
       "      <td>en</td>\n",
       "      <td>https://raw.githubusercontent.com/hermitdave/F...</td>\n",
       "      <td>2021-03-26 03:25:53.984856</td>\n",
       "      <td>HermitDave's version of the full 2016 English ...</td>\n",
       "    </tr>\n",
       "    <tr>\n",
       "      <th>3</th>\n",
       "      <td>en_50k_2016.txt</td>\n",
       "      <td>en</td>\n",
       "      <td>https://raw.githubusercontent.com/hermitdave/F...</td>\n",
       "      <td>2021-03-26 03:25:54.377632</td>\n",
       "      <td>HermitDave's version of the top 50k 2016 Engli...</td>\n",
       "    </tr>\n",
       "    <tr>\n",
       "      <th>4</th>\n",
       "      <td>de_full_2018.txt</td>\n",
       "      <td>de</td>\n",
       "      <td>https://raw.githubusercontent.com/hermitdave/F...</td>\n",
       "      <td>2021-04-06 19:42:26.967039</td>\n",
       "      <td>HermitDave's version of the full 2018 German f...</td>\n",
       "    </tr>\n",
       "  </tbody>\n",
       "</table>\n",
       "</div>"
      ],
      "text/plain": [
       "           filename lang_code  \\\n",
       "0  en_full_2018.txt        en   \n",
       "1   en_50k_2018.txt        en   \n",
       "2  en_full_2016.txt        en   \n",
       "3   en_50k_2016.txt        en   \n",
       "4  de_full_2018.txt        de   \n",
       "\n",
       "                                          source_url  \\\n",
       "0  https://raw.githubusercontent.com/hermitdave/F...   \n",
       "1  https://raw.githubusercontent.com/hermitdave/F...   \n",
       "2  https://raw.githubusercontent.com/hermitdave/F...   \n",
       "3  https://raw.githubusercontent.com/hermitdave/F...   \n",
       "4  https://raw.githubusercontent.com/hermitdave/F...   \n",
       "\n",
       "              last_load_dtime  \\\n",
       "0  2021-03-26 02:04:07.270824   \n",
       "1  2021-03-26 03:25:53.589244   \n",
       "2  2021-03-26 03:25:53.984856   \n",
       "3  2021-03-26 03:25:54.377632   \n",
       "4  2021-04-06 19:42:26.967039   \n",
       "\n",
       "                                                note  \n",
       "0  HermitDave's version of the full 2018 English ...  \n",
       "1  HermitDave's version of the top 50k 2018 Engli...  \n",
       "2  HermitDave's version of the full 2016 English ...  \n",
       "3  HermitDave's version of the top 50k 2016 Engli...  \n",
       "4  HermitDave's version of the full 2018 German f...  "
      ]
     },
     "execution_count": 8,
     "metadata": {},
     "output_type": "execute_result"
    }
   ],
   "source": [
    "raw_corpora.head()"
   ]
  },
  {
   "cell_type": "markdown",
   "id": "optional-thumb",
   "metadata": {},
   "source": [
    "### Read in valid chars"
   ]
  },
  {
   "cell_type": "code",
   "execution_count": 32,
   "id": "union-conducting",
   "metadata": {},
   "outputs": [],
   "source": [
    "valid_chars_table = cloud.read_csv_from_s3('valid_chars.dat', DATA_DIR, BUCKET, sep='|')"
   ]
  },
  {
   "cell_type": "code",
   "execution_count": 35,
   "id": "productive-stake",
   "metadata": {},
   "outputs": [
    {
     "data": {
      "text/html": [
       "<div>\n",
       "<style scoped>\n",
       "    .dataframe tbody tr th:only-of-type {\n",
       "        vertical-align: middle;\n",
       "    }\n",
       "\n",
       "    .dataframe tbody tr th {\n",
       "        vertical-align: top;\n",
       "    }\n",
       "\n",
       "    .dataframe thead th {\n",
       "        text-align: right;\n",
       "    }\n",
       "</style>\n",
       "<table border=\"1\" class=\"dataframe\">\n",
       "  <thead>\n",
       "    <tr style=\"text-align: right;\">\n",
       "      <th></th>\n",
       "      <th>lang_code</th>\n",
       "      <th>valid_chars</th>\n",
       "    </tr>\n",
       "  </thead>\n",
       "  <tbody>\n",
       "    <tr>\n",
       "      <th>0</th>\n",
       "      <td>en</td>\n",
       "      <td>a,b,c,d,e,f,g,h,i,j,k,l,m,n,o,p,q,r,s,t,u,v,w,...</td>\n",
       "    </tr>\n",
       "  </tbody>\n",
       "</table>\n",
       "</div>"
      ],
      "text/plain": [
       "  lang_code                                        valid_chars\n",
       "0        en  a,b,c,d,e,f,g,h,i,j,k,l,m,n,o,p,q,r,s,t,u,v,w,..."
      ]
     },
     "execution_count": 35,
     "metadata": {},
     "output_type": "execute_result"
    }
   ],
   "source": [
    "valid_chars_table.head()"
   ]
  },
  {
   "cell_type": "markdown",
   "id": "adopted-baseline",
   "metadata": {},
   "source": [
    "### Read in a raw corpus"
   ]
  },
  {
   "cell_type": "code",
   "execution_count": 11,
   "id": "funded-highland",
   "metadata": {},
   "outputs": [],
   "source": [
    "raw_corpus_filename = 'de_full_2018.txt'"
   ]
  },
  {
   "cell_type": "code",
   "execution_count": 12,
   "id": "verbal-teach",
   "metadata": {},
   "outputs": [],
   "source": [
    "if raw_corpus_filename in raw_corpora['filename'].tolist():\n",
    "    raw_corpus = cloud.read_csv_from_s3(raw_corpus_filename, RAW_CORPORA_DIR, BUCKET, sep=' ', header = None, names = ['word', 'freq'])"
   ]
  },
  {
   "cell_type": "code",
   "execution_count": 16,
   "id": "attended-workstation",
   "metadata": {},
   "outputs": [
    {
     "data": {
      "text/html": [
       "<div>\n",
       "<style scoped>\n",
       "    .dataframe tbody tr th:only-of-type {\n",
       "        vertical-align: middle;\n",
       "    }\n",
       "\n",
       "    .dataframe tbody tr th {\n",
       "        vertical-align: top;\n",
       "    }\n",
       "\n",
       "    .dataframe thead th {\n",
       "        text-align: right;\n",
       "    }\n",
       "</style>\n",
       "<table border=\"1\" class=\"dataframe\">\n",
       "  <thead>\n",
       "    <tr style=\"text-align: right;\">\n",
       "      <th></th>\n",
       "      <th>word</th>\n",
       "      <th>freq</th>\n",
       "    </tr>\n",
       "  </thead>\n",
       "  <tbody>\n",
       "    <tr>\n",
       "      <th>0</th>\n",
       "      <td>ich</td>\n",
       "      <td>5890279</td>\n",
       "    </tr>\n",
       "    <tr>\n",
       "      <th>1</th>\n",
       "      <td>sie</td>\n",
       "      <td>3806767</td>\n",
       "    </tr>\n",
       "    <tr>\n",
       "      <th>2</th>\n",
       "      <td>das</td>\n",
       "      <td>3122198</td>\n",
       "    </tr>\n",
       "    <tr>\n",
       "      <th>3</th>\n",
       "      <td>ist</td>\n",
       "      <td>3025610</td>\n",
       "    </tr>\n",
       "    <tr>\n",
       "      <th>4</th>\n",
       "      <td>du</td>\n",
       "      <td>2947020</td>\n",
       "    </tr>\n",
       "  </tbody>\n",
       "</table>\n",
       "</div>"
      ],
      "text/plain": [
       "  word     freq\n",
       "0  ich  5890279\n",
       "1  sie  3806767\n",
       "2  das  3122198\n",
       "3  ist  3025610\n",
       "4   du  2947020"
      ]
     },
     "execution_count": 16,
     "metadata": {},
     "output_type": "execute_result"
    }
   ],
   "source": [
    "raw_corpus.head()"
   ]
  },
  {
   "cell_type": "markdown",
   "id": "enclosed-kazakhstan",
   "metadata": {},
   "source": [
    "### Get a counter with all characters"
   ]
  },
  {
   "cell_type": "code",
   "execution_count": 19,
   "id": "prerequisite-lightweight",
   "metadata": {},
   "outputs": [],
   "source": [
    "all_char_counter = get_char_counter(raw_corpus['word'].tolist(), raw_corpus['freq'].tolist())"
   ]
  },
  {
   "cell_type": "markdown",
   "id": "inner-thompson",
   "metadata": {},
   "source": [
    "### Derive valid chars"
   ]
  },
  {
   "cell_type": "code",
   "execution_count": 20,
   "id": "saving-percentage",
   "metadata": {},
   "outputs": [
    {
     "name": "stdout",
     "output_type": "stream",
     "text": [
      "Counter({'e': 110037950, 'n': 69631298, 'i': 67774894, 's': 53684871, 'r': 47256356, 'a': 46870308, 't': 44486226, 'h': 43631118, 'd': 33252087, 'c': 28056596, 'u': 26122793, 'l': 25585891, 'm': 21624302, 'g': 18235674, 'o': 18098994, 'w': 16256823, 'b': 14513070, 'k': 10501365, 'f': 10374888, 'z': 6821909, 'v': 5160971, 'p': 4741384, 'ü': 4170553, 'j': 2957530, 'ä': 2883019, 'ö': 2191455, 'y': 1721890, 'ß': 1492100, '-': 536179, '.': 362103, 'x': 298728, 'q': 124688, '0': 49740, 'é': 29773, '1': 23139, '2': 18019, '4': 16776, '3': 13201, '5': 11018, '9': 8173, '6': 8002, '7': 7810, '8': 7433, 'ã': 7219, 'ñ': 6549, 'è': 4626, 'á': 3976, 'í': 3185, 'ó': 2924, 'ç': 2095, 'à': 1667, 'ô': 1634, '`': 1441, 'ø': 1068, 'û': 953, 'ú': 875, 'å': 798, 'ο': 696, 'ÿ': 691, 'ý': 648, 'â': 639, 'ð': 638, 'ê': 634, 'ë': 607, 'ï': 576, 'î': 543, 'ν': 485, 'ì': 444, ',': 425, 'ı': 379, 'ﬂ': 286, 'İ': 285, 'š': 285, 'ş': 272, 'æ': 269, 'þ': 253, 'ﬁ': 231, 'ò': 230, 'ğ': 216, 'κ': 178, 'œ': 173, 'õ': 172, 'ù': 153, 'μ': 138, 'α': 137, 'η': 109, 'ž': 103, 'ō': 86, 'τ': 72, 'ε': 68, 'č': 63, 'ρ': 54, 'β': 54, 'ă': 52, 'ł': 45, 'ь': 31, 'ā': 28, 'ě': 20, 'ż': 19, 'ř': 17, 'ė': 16, 'д': 16, 'ť': 13, 'º': 12, 'ū': 11, 'ц': 11, 'µ': 10, 'ń': 10, 'ś': 9, 'ҫ': 8, 'ď': 7, 'ć': 6, 'ĺ': 4, 'ē': 4, 'ę': 3, 'ǎ': 2, '黤': 2, 'ţ': 2, 'ą': 2, 'ª': 2, 'я': 2, '適': 2, 'ů': 2, 'χ': 1, 'ệ': 1, 'ĩ': 1, 'б': 1, 'ѐ': 1, '膕': 1, '遳': 1, 'ﬀ': 1, 'ő': 1})\n"
     ]
    }
   ],
   "source": [
    "print(all_char_counter)"
   ]
  },
  {
   "cell_type": "code",
   "execution_count": 23,
   "id": "czech-repository",
   "metadata": {},
   "outputs": [
    {
     "name": "stdout",
     "output_type": "stream",
     "text": [
      "dict_keys(['i', 'c', 'h', 's', 'e', 'd', 'a', 't', 'u', 'n', 'r', 'w', 'z', 'j', 'm', 'f', 'b', 'o', 'ü', 'v', 'k', 'g', 'l', 'ß', 'ö', 'y', 'ä', '.', 'p', 'x', 'q', '0', '4', 'ñ', '-', 'é', 'ç', '2', 'ã', 'à', '9', '3', '6', '1', 'í', 'è', 'á', '8', 'ó', '7', '5', 'ô', 'İ', 'ø', 'â', 'î', 'ÿ', '`', 'û', 'ï', 'ú', 'ı', 'å', 'ë', 'ğ', 'ý', 'þ', 'ê', 'ð', 'ş', 'ò', 'ì', 'ù', 'ν', 'ο', ',', 'æ', 'α', 'č', 'ρ', 'μ', 'š', 'ﬂ', 'ă', 'œ', 'õ', 'ε', 'ō', 'ž', 'ě', 'ﬁ', 'κ', 'ė', 'ā', 'ł', 'η', 'ż', 'ь', 'µ', 'ń', 'τ', 'ť', 'ř', 'ĺ', 'ū', 'ď', 'β', 'ć', 'д', 'ц', 'º', 'ҫ', 'ǎ', '黤', 'ţ', 'χ', 'ệ', 'ĩ', 'ś', 'ą', 'ę', 'ª', 'я', 'б', 'ѐ', 'ē', '膕', '適', '遳', 'ů', 'ﬀ', 'ő'])\n"
     ]
    }
   ],
   "source": [
    "print(all_char_counter.keys())"
   ]
  },
  {
   "cell_type": "code",
   "execution_count": 24,
   "id": "fifteen-rouge",
   "metadata": {},
   "outputs": [],
   "source": [
    "# copy-paste the keys and then ues Google + frequencies above to eliminate the invalid chars\n",
    "valid_char_list = ['i', 'c', 'h', 's', 'e', 'd', 'a', 't', 'u', 'n', 'r', 'w', 'z', 'j', 'm', 'f', 'b', 'o', 'ü', 'v', 'k', 'g', 'l', 'ß', 'ö', 'y', 'ä', 'p', 'x', 'q']"
   ]
  },
  {
   "cell_type": "code",
   "execution_count": 26,
   "id": "earlier-township",
   "metadata": {},
   "outputs": [
    {
     "data": {
      "text/plain": [
       "30"
      ]
     },
     "execution_count": 26,
     "metadata": {},
     "output_type": "execute_result"
    }
   ],
   "source": [
    "# check the length\n",
    "len(valid_char_list)"
   ]
  },
  {
   "cell_type": "code",
   "execution_count": 27,
   "id": "given-accreditation",
   "metadata": {},
   "outputs": [
    {
     "name": "stdout",
     "output_type": "stream",
     "text": [
      "i,c,h,s,e,d,a,t,u,n,r,w,z,j,m,f,b,o,ü,v,k,g,l,ß,ö,y,ä,p,x,q\n"
     ]
    }
   ],
   "source": [
    "# convert to a string\n",
    "valid_chars = ','.join(valid_char_list)\n",
    "print(valid_chars)"
   ]
  },
  {
   "cell_type": "markdown",
   "id": "valuable-liechtenstein",
   "metadata": {},
   "source": [
    "### Write valid chars to S3"
   ]
  },
  {
   "cell_type": "code",
   "execution_count": 36,
   "id": "supreme-marker",
   "metadata": {},
   "outputs": [],
   "source": [
    "new_row = {\n",
    "    'lang_code':'de'\n",
    "    ,'valid_chars':valid_chars\n",
    "}"
   ]
  },
  {
   "cell_type": "code",
   "execution_count": 39,
   "id": "maritime-height",
   "metadata": {},
   "outputs": [],
   "source": [
    "if new_row['lang_code'] not in valid_chars_table['lang_code'].tolist():\n",
    "    valid_chars_table = valid_chars_table.append(new_row, ignore_index = True)\n",
    "    cloud.write_csv_to_s3('valid_chars.dat', DATA_DIR, BUCKET, valid_chars_table, sep='|', index=False)"
   ]
  },
  {
   "cell_type": "code",
   "execution_count": null,
   "id": "renewable-reservoir",
   "metadata": {},
   "outputs": [],
   "source": []
  }
 ],
 "metadata": {
  "kernelspec": {
   "display_name": "lexgen",
   "language": "python",
   "name": "lexgen"
  },
  "language_info": {
   "codemirror_mode": {
    "name": "ipython",
    "version": 3
   },
   "file_extension": ".py",
   "mimetype": "text/x-python",
   "name": "python",
   "nbconvert_exporter": "python",
   "pygments_lexer": "ipython3",
   "version": "3.7.10"
  }
 },
 "nbformat": 4,
 "nbformat_minor": 5
}
