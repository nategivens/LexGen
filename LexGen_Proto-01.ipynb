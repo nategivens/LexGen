{
 "cells": [
  {
   "cell_type": "markdown",
   "id": "1af16e2d",
   "metadata": {},
   "source": [
    "# Lexicon Generator - Prototype 1"
   ]
  },
  {
   "cell_type": "markdown",
   "id": "e5f0e1fd",
   "metadata": {},
   "source": [
    "## Import Statements"
   ]
  },
  {
   "cell_type": "code",
   "execution_count": 1,
   "id": "347b94d0",
   "metadata": {},
   "outputs": [],
   "source": [
    "from nate_givens_toolkit import cloud_io as cloud\n",
    "from nate_givens_toolkit import local_io as local\n",
    "import pandas as pd\n",
    "import numpy as np\n",
    "import sys\n",
    "from tqdm import tqdm"
   ]
  },
  {
   "cell_type": "markdown",
   "id": "dcd25a4f",
   "metadata": {},
   "source": [
    "## Global Variables"
   ]
  },
  {
   "cell_type": "code",
   "execution_count": 2,
   "id": "850a9573",
   "metadata": {},
   "outputs": [],
   "source": [
    "CLEAN_CORPORA_DIR = 'clean_corpora/'\n",
    "DATA_DIR = 'data_files/'\n",
    "TRANS_MATS_DIR = 'transition_matrices/'\n",
    "BUCKET = 'lexgen'"
   ]
  },
  {
   "cell_type": "markdown",
   "id": "41528d56",
   "metadata": {},
   "source": [
    "## Read in Data Files"
   ]
  },
  {
   "cell_type": "markdown",
   "id": "a58942d3",
   "metadata": {},
   "source": [
    "### Raw Corpora"
   ]
  },
  {
   "cell_type": "code",
   "execution_count": 3,
   "id": "9ce2a2f3",
   "metadata": {},
   "outputs": [],
   "source": [
    "raw_corpora = cloud.read_csv_from_s3('raw_corpora_inventory.dat', DATA_DIR, BUCKET, sep='|')"
   ]
  },
  {
   "cell_type": "code",
   "execution_count": 4,
   "id": "4ca4f700",
   "metadata": {},
   "outputs": [
    {
     "data": {
      "text/html": [
       "<div>\n",
       "<style scoped>\n",
       "    .dataframe tbody tr th:only-of-type {\n",
       "        vertical-align: middle;\n",
       "    }\n",
       "\n",
       "    .dataframe tbody tr th {\n",
       "        vertical-align: top;\n",
       "    }\n",
       "\n",
       "    .dataframe thead th {\n",
       "        text-align: right;\n",
       "    }\n",
       "</style>\n",
       "<table border=\"1\" class=\"dataframe\">\n",
       "  <thead>\n",
       "    <tr style=\"text-align: right;\">\n",
       "      <th></th>\n",
       "      <th>filename</th>\n",
       "      <th>lang_code</th>\n",
       "      <th>source_url</th>\n",
       "      <th>last_load_dtime</th>\n",
       "      <th>note</th>\n",
       "    </tr>\n",
       "  </thead>\n",
       "  <tbody>\n",
       "    <tr>\n",
       "      <th>0</th>\n",
       "      <td>en_full_2018.txt</td>\n",
       "      <td>en</td>\n",
       "      <td>https://raw.githubusercontent.com/hermitdave/F...</td>\n",
       "      <td>2021-03-26 02:04:07.270824</td>\n",
       "      <td>HermitDave's version of the full 2018 English ...</td>\n",
       "    </tr>\n",
       "    <tr>\n",
       "      <th>1</th>\n",
       "      <td>en_50k_2018.txt</td>\n",
       "      <td>en</td>\n",
       "      <td>https://raw.githubusercontent.com/hermitdave/F...</td>\n",
       "      <td>2021-03-26 03:25:53.589244</td>\n",
       "      <td>HermitDave's version of the top 50k 2018 Engli...</td>\n",
       "    </tr>\n",
       "    <tr>\n",
       "      <th>2</th>\n",
       "      <td>en_full_2016.txt</td>\n",
       "      <td>en</td>\n",
       "      <td>https://raw.githubusercontent.com/hermitdave/F...</td>\n",
       "      <td>2021-03-26 03:25:53.984856</td>\n",
       "      <td>HermitDave's version of the full 2016 English ...</td>\n",
       "    </tr>\n",
       "    <tr>\n",
       "      <th>3</th>\n",
       "      <td>en_50k_2016.txt</td>\n",
       "      <td>en</td>\n",
       "      <td>https://raw.githubusercontent.com/hermitdave/F...</td>\n",
       "      <td>2021-03-26 03:25:54.377632</td>\n",
       "      <td>HermitDave's version of the top 50k 2016 Engli...</td>\n",
       "    </tr>\n",
       "    <tr>\n",
       "      <th>4</th>\n",
       "      <td>de_full_2018.txt</td>\n",
       "      <td>de</td>\n",
       "      <td>https://raw.githubusercontent.com/hermitdave/F...</td>\n",
       "      <td>2021-04-06 19:42:26.967039</td>\n",
       "      <td>HermitDave's version of the full 2018 German f...</td>\n",
       "    </tr>\n",
       "    <tr>\n",
       "      <th>5</th>\n",
       "      <td>de_50k_2018.txt</td>\n",
       "      <td>de</td>\n",
       "      <td>https://raw.githubusercontent.com/hermitdave/F...</td>\n",
       "      <td>2021-04-06 19:42:26.970505</td>\n",
       "      <td>HermitDave's version of the top 50k 2018 Germa...</td>\n",
       "    </tr>\n",
       "    <tr>\n",
       "      <th>6</th>\n",
       "      <td>de_full_2016.txt</td>\n",
       "      <td>de</td>\n",
       "      <td>https://raw.githubusercontent.com/hermitdave/F...</td>\n",
       "      <td>2021-04-06 19:42:26.974519</td>\n",
       "      <td>HermitDave's version of the full 2016 English ...</td>\n",
       "    </tr>\n",
       "    <tr>\n",
       "      <th>7</th>\n",
       "      <td>de_50k_2016.txt</td>\n",
       "      <td>de</td>\n",
       "      <td>https://raw.githubusercontent.com/hermitdave/F...</td>\n",
       "      <td>2021-04-06 19:42:26.978002</td>\n",
       "      <td>HermitDave's version of the top 50k 2016 Engli...</td>\n",
       "    </tr>\n",
       "    <tr>\n",
       "      <th>8</th>\n",
       "      <td>af_full_2018.txt</td>\n",
       "      <td>af</td>\n",
       "      <td>https://raw.githubusercontent.com/hermitdave/F...</td>\n",
       "      <td>2021-04-07 20:09:57.721287</td>\n",
       "      <td>HermitDave's version of the full 2018 Afrikaan...</td>\n",
       "    </tr>\n",
       "    <tr>\n",
       "      <th>9</th>\n",
       "      <td>af_full_2016.txt</td>\n",
       "      <td>af</td>\n",
       "      <td>https://raw.githubusercontent.com/hermitdave/F...</td>\n",
       "      <td>2021-04-07 20:13:55.305772</td>\n",
       "      <td>HermitDave's version of the full 2016 Afrikaan...</td>\n",
       "    </tr>\n",
       "    <tr>\n",
       "      <th>10</th>\n",
       "      <td>af_50k_2016.txt</td>\n",
       "      <td>af</td>\n",
       "      <td>https://raw.githubusercontent.com/hermitdave/F...</td>\n",
       "      <td>2021-04-07 20:13:55.309405</td>\n",
       "      <td>HermitDave's version of the top 50k 2016 Afrik...</td>\n",
       "    </tr>\n",
       "  </tbody>\n",
       "</table>\n",
       "</div>"
      ],
      "text/plain": [
       "            filename lang_code  \\\n",
       "0   en_full_2018.txt        en   \n",
       "1    en_50k_2018.txt        en   \n",
       "2   en_full_2016.txt        en   \n",
       "3    en_50k_2016.txt        en   \n",
       "4   de_full_2018.txt        de   \n",
       "5    de_50k_2018.txt        de   \n",
       "6   de_full_2016.txt        de   \n",
       "7    de_50k_2016.txt        de   \n",
       "8   af_full_2018.txt        af   \n",
       "9   af_full_2016.txt        af   \n",
       "10   af_50k_2016.txt        af   \n",
       "\n",
       "                                           source_url  \\\n",
       "0   https://raw.githubusercontent.com/hermitdave/F...   \n",
       "1   https://raw.githubusercontent.com/hermitdave/F...   \n",
       "2   https://raw.githubusercontent.com/hermitdave/F...   \n",
       "3   https://raw.githubusercontent.com/hermitdave/F...   \n",
       "4   https://raw.githubusercontent.com/hermitdave/F...   \n",
       "5   https://raw.githubusercontent.com/hermitdave/F...   \n",
       "6   https://raw.githubusercontent.com/hermitdave/F...   \n",
       "7   https://raw.githubusercontent.com/hermitdave/F...   \n",
       "8   https://raw.githubusercontent.com/hermitdave/F...   \n",
       "9   https://raw.githubusercontent.com/hermitdave/F...   \n",
       "10  https://raw.githubusercontent.com/hermitdave/F...   \n",
       "\n",
       "               last_load_dtime  \\\n",
       "0   2021-03-26 02:04:07.270824   \n",
       "1   2021-03-26 03:25:53.589244   \n",
       "2   2021-03-26 03:25:53.984856   \n",
       "3   2021-03-26 03:25:54.377632   \n",
       "4   2021-04-06 19:42:26.967039   \n",
       "5   2021-04-06 19:42:26.970505   \n",
       "6   2021-04-06 19:42:26.974519   \n",
       "7   2021-04-06 19:42:26.978002   \n",
       "8   2021-04-07 20:09:57.721287   \n",
       "9   2021-04-07 20:13:55.305772   \n",
       "10  2021-04-07 20:13:55.309405   \n",
       "\n",
       "                                                 note  \n",
       "0   HermitDave's version of the full 2018 English ...  \n",
       "1   HermitDave's version of the top 50k 2018 Engli...  \n",
       "2   HermitDave's version of the full 2016 English ...  \n",
       "3   HermitDave's version of the top 50k 2016 Engli...  \n",
       "4   HermitDave's version of the full 2018 German f...  \n",
       "5   HermitDave's version of the top 50k 2018 Germa...  \n",
       "6   HermitDave's version of the full 2016 English ...  \n",
       "7   HermitDave's version of the top 50k 2016 Engli...  \n",
       "8   HermitDave's version of the full 2018 Afrikaan...  \n",
       "9   HermitDave's version of the full 2016 Afrikaan...  \n",
       "10  HermitDave's version of the top 50k 2016 Afrik...  "
      ]
     },
     "execution_count": 4,
     "metadata": {},
     "output_type": "execute_result"
    }
   ],
   "source": [
    "raw_corpora"
   ]
  },
  {
   "cell_type": "markdown",
   "id": "2c10d3bf",
   "metadata": {},
   "source": [
    "### Clean Corpora"
   ]
  },
  {
   "cell_type": "code",
   "execution_count": 5,
   "id": "755ec32f",
   "metadata": {},
   "outputs": [],
   "source": [
    "clean_corpora = cloud.read_csv_from_s3('clean_corpora_inventory.dat', DATA_DIR, BUCKET, sep='|')"
   ]
  },
  {
   "cell_type": "code",
   "execution_count": 6,
   "id": "1a4b59c1",
   "metadata": {},
   "outputs": [
    {
     "data": {
      "text/html": [
       "<div>\n",
       "<style scoped>\n",
       "    .dataframe tbody tr th:only-of-type {\n",
       "        vertical-align: middle;\n",
       "    }\n",
       "\n",
       "    .dataframe tbody tr th {\n",
       "        vertical-align: top;\n",
       "    }\n",
       "\n",
       "    .dataframe thead th {\n",
       "        text-align: right;\n",
       "    }\n",
       "</style>\n",
       "<table border=\"1\" class=\"dataframe\">\n",
       "  <thead>\n",
       "    <tr style=\"text-align: right;\">\n",
       "      <th></th>\n",
       "      <th>filename</th>\n",
       "      <th>raw_corpora_filename</th>\n",
       "      <th>last_load_dtime</th>\n",
       "      <th>note</th>\n",
       "    </tr>\n",
       "  </thead>\n",
       "  <tbody>\n",
       "    <tr>\n",
       "      <th>0</th>\n",
       "      <td>en_50k_2018_A.txt</td>\n",
       "      <td>en_50k_2018.txt</td>\n",
       "      <td>2021-04-01 01:07:27.259981</td>\n",
       "      <td>Cleaned version of en_50k_2018 with top 200 wo...</td>\n",
       "    </tr>\n",
       "    <tr>\n",
       "      <th>1</th>\n",
       "      <td>de_50k_2018_A.txt</td>\n",
       "      <td>de_50k_2018.txt</td>\n",
       "      <td>2021-04-06 20:25:02.967162</td>\n",
       "      <td>Cleaned version of de_50k_2018 with top 200 wo...</td>\n",
       "    </tr>\n",
       "    <tr>\n",
       "      <th>2</th>\n",
       "      <td>af_full_2018_A.txt</td>\n",
       "      <td>af_full_2018.txt</td>\n",
       "      <td>2021-04-07 20:30:13.085269</td>\n",
       "      <td>Cleaned version of af_full_2018 with top 200 w...</td>\n",
       "    </tr>\n",
       "  </tbody>\n",
       "</table>\n",
       "</div>"
      ],
      "text/plain": [
       "             filename raw_corpora_filename             last_load_dtime  \\\n",
       "0   en_50k_2018_A.txt      en_50k_2018.txt  2021-04-01 01:07:27.259981   \n",
       "1   de_50k_2018_A.txt      de_50k_2018.txt  2021-04-06 20:25:02.967162   \n",
       "2  af_full_2018_A.txt     af_full_2018.txt  2021-04-07 20:30:13.085269   \n",
       "\n",
       "                                                note  \n",
       "0  Cleaned version of en_50k_2018 with top 200 wo...  \n",
       "1  Cleaned version of de_50k_2018 with top 200 wo...  \n",
       "2  Cleaned version of af_full_2018 with top 200 w...  "
      ]
     },
     "execution_count": 6,
     "metadata": {},
     "output_type": "execute_result"
    }
   ],
   "source": [
    "clean_corpora"
   ]
  },
  {
   "cell_type": "markdown",
   "id": "3384df4c",
   "metadata": {},
   "source": [
    "### Transition Matrices"
   ]
  },
  {
   "cell_type": "code",
   "execution_count": 7,
   "id": "e659023b",
   "metadata": {},
   "outputs": [],
   "source": [
    "trans_mats = cloud.read_csv_from_s3('trans_mats_inventory.dat', DATA_DIR, BUCKET, sep='|')"
   ]
  },
  {
   "cell_type": "code",
   "execution_count": 8,
   "id": "6516d073",
   "metadata": {},
   "outputs": [
    {
     "data": {
      "text/html": [
       "<div>\n",
       "<style scoped>\n",
       "    .dataframe tbody tr th:only-of-type {\n",
       "        vertical-align: middle;\n",
       "    }\n",
       "\n",
       "    .dataframe tbody tr th {\n",
       "        vertical-align: top;\n",
       "    }\n",
       "\n",
       "    .dataframe thead th {\n",
       "        text-align: right;\n",
       "    }\n",
       "</style>\n",
       "<table border=\"1\" class=\"dataframe\">\n",
       "  <thead>\n",
       "    <tr style=\"text-align: right;\">\n",
       "      <th></th>\n",
       "      <th>filename</th>\n",
       "      <th>clean_corpus_filename</th>\n",
       "      <th>prefix_len</th>\n",
       "      <th>last_load_dtime</th>\n",
       "    </tr>\n",
       "  </thead>\n",
       "  <tbody>\n",
       "    <tr>\n",
       "      <th>0</th>\n",
       "      <td>en_50k_2018_A-tm1.dat</td>\n",
       "      <td>en_50k_2018_A.txt</td>\n",
       "      <td>1</td>\n",
       "      <td>2021-04-02 01:26:32.184511</td>\n",
       "    </tr>\n",
       "    <tr>\n",
       "      <th>1</th>\n",
       "      <td>en_50k_2018_A-tm2.dat</td>\n",
       "      <td>en_50k_2018_A.txt</td>\n",
       "      <td>2</td>\n",
       "      <td>2021-04-02 01:26:32.184511</td>\n",
       "    </tr>\n",
       "    <tr>\n",
       "      <th>2</th>\n",
       "      <td>en_50k_2018_A-tm3.dat</td>\n",
       "      <td>en_50k_2018_A.txt</td>\n",
       "      <td>3</td>\n",
       "      <td>2021-04-02 01:26:32.184511</td>\n",
       "    </tr>\n",
       "    <tr>\n",
       "      <th>3</th>\n",
       "      <td>en_50k_2018_A-tm4.dat</td>\n",
       "      <td>en_50k_2018_A.txt</td>\n",
       "      <td>4</td>\n",
       "      <td>2021-04-02 01:26:32.184511</td>\n",
       "    </tr>\n",
       "    <tr>\n",
       "      <th>4</th>\n",
       "      <td>de_50k_2018_A-tm1.dat</td>\n",
       "      <td>de_50k_2018_A.txt</td>\n",
       "      <td>1</td>\n",
       "      <td>2021-04-07 20:03:20.399818</td>\n",
       "    </tr>\n",
       "    <tr>\n",
       "      <th>5</th>\n",
       "      <td>de_50k_2018_A-tm2.dat</td>\n",
       "      <td>de_50k_2018_A.txt</td>\n",
       "      <td>2</td>\n",
       "      <td>2021-04-07 20:03:20.399818</td>\n",
       "    </tr>\n",
       "    <tr>\n",
       "      <th>6</th>\n",
       "      <td>de_50k_2018_A-tm3.dat</td>\n",
       "      <td>de_50k_2018_A.txt</td>\n",
       "      <td>3</td>\n",
       "      <td>2021-04-07 20:03:20.399818</td>\n",
       "    </tr>\n",
       "    <tr>\n",
       "      <th>7</th>\n",
       "      <td>de_50k_2018_A-tm4.dat</td>\n",
       "      <td>de_50k_2018_A.txt</td>\n",
       "      <td>4</td>\n",
       "      <td>2021-04-07 20:03:20.399818</td>\n",
       "    </tr>\n",
       "    <tr>\n",
       "      <th>8</th>\n",
       "      <td>af_full_2018_A-tm1.dat</td>\n",
       "      <td>af_full_2018_A.txt</td>\n",
       "      <td>1</td>\n",
       "      <td>2021-04-07 20:31:26.257230</td>\n",
       "    </tr>\n",
       "    <tr>\n",
       "      <th>9</th>\n",
       "      <td>af_full_2018_A-tm2.dat</td>\n",
       "      <td>af_full_2018_A.txt</td>\n",
       "      <td>2</td>\n",
       "      <td>2021-04-07 20:31:26.257230</td>\n",
       "    </tr>\n",
       "    <tr>\n",
       "      <th>10</th>\n",
       "      <td>af_full_2018_A-tm3.dat</td>\n",
       "      <td>af_full_2018_A.txt</td>\n",
       "      <td>3</td>\n",
       "      <td>2021-04-07 20:31:26.257230</td>\n",
       "    </tr>\n",
       "    <tr>\n",
       "      <th>11</th>\n",
       "      <td>af_full_2018_A-tm4.dat</td>\n",
       "      <td>af_full_2018_A.txt</td>\n",
       "      <td>4</td>\n",
       "      <td>2021-04-07 20:31:26.257230</td>\n",
       "    </tr>\n",
       "  </tbody>\n",
       "</table>\n",
       "</div>"
      ],
      "text/plain": [
       "                  filename clean_corpus_filename  prefix_len  \\\n",
       "0    en_50k_2018_A-tm1.dat     en_50k_2018_A.txt           1   \n",
       "1    en_50k_2018_A-tm2.dat     en_50k_2018_A.txt           2   \n",
       "2    en_50k_2018_A-tm3.dat     en_50k_2018_A.txt           3   \n",
       "3    en_50k_2018_A-tm4.dat     en_50k_2018_A.txt           4   \n",
       "4    de_50k_2018_A-tm1.dat     de_50k_2018_A.txt           1   \n",
       "5    de_50k_2018_A-tm2.dat     de_50k_2018_A.txt           2   \n",
       "6    de_50k_2018_A-tm3.dat     de_50k_2018_A.txt           3   \n",
       "7    de_50k_2018_A-tm4.dat     de_50k_2018_A.txt           4   \n",
       "8   af_full_2018_A-tm1.dat    af_full_2018_A.txt           1   \n",
       "9   af_full_2018_A-tm2.dat    af_full_2018_A.txt           2   \n",
       "10  af_full_2018_A-tm3.dat    af_full_2018_A.txt           3   \n",
       "11  af_full_2018_A-tm4.dat    af_full_2018_A.txt           4   \n",
       "\n",
       "               last_load_dtime  \n",
       "0   2021-04-02 01:26:32.184511  \n",
       "1   2021-04-02 01:26:32.184511  \n",
       "2   2021-04-02 01:26:32.184511  \n",
       "3   2021-04-02 01:26:32.184511  \n",
       "4   2021-04-07 20:03:20.399818  \n",
       "5   2021-04-07 20:03:20.399818  \n",
       "6   2021-04-07 20:03:20.399818  \n",
       "7   2021-04-07 20:03:20.399818  \n",
       "8   2021-04-07 20:31:26.257230  \n",
       "9   2021-04-07 20:31:26.257230  \n",
       "10  2021-04-07 20:31:26.257230  \n",
       "11  2021-04-07 20:31:26.257230  "
      ]
     },
     "execution_count": 8,
     "metadata": {},
     "output_type": "execute_result"
    }
   ],
   "source": [
    "trans_mats"
   ]
  },
  {
   "cell_type": "markdown",
   "id": "1b05b8cd",
   "metadata": {},
   "source": [
    "## Logic"
   ]
  },
  {
   "cell_type": "markdown",
   "id": "dc8f3770",
   "metadata": {},
   "source": [
    "## Select Corpora\n",
    "\n",
    "For this prototype, we'll pick 2, assign weighs, and then check to make sure they exist"
   ]
  },
  {
   "cell_type": "code",
   "execution_count": 9,
   "id": "55ce971f",
   "metadata": {},
   "outputs": [],
   "source": [
    "# enter the corpora\n",
    "selected_corpora = [{\n",
    "    'filename' : 'en_50k_2018_A.txt' \n",
    "    , 'weight' : 60\n",
    "    }\n",
    "    ,{\n",
    "    'filename' : 'de_50k_2018_A.txt'\n",
    "    , 'weight' : 40\n",
    "    }\n",
    "]"
   ]
  },
  {
   "cell_type": "code",
   "execution_count": 10,
   "id": "8199b8a1",
   "metadata": {},
   "outputs": [],
   "source": [
    "# normalize the weights \n",
    "total_weight = 0.0\n",
    "for corpus in selected_corpora:\n",
    "    total_weight += corpus['weight']\n",
    "for corpus in selected_corpora:\n",
    "    corpus['weight'] = corpus['weight'] / total_weight"
   ]
  },
  {
   "cell_type": "markdown",
   "id": "e4c7a9ee",
   "metadata": {},
   "source": [
    "### Merge Transition Matrices"
   ]
  },
  {
   "cell_type": "code",
   "execution_count": 11,
   "id": "eae4f088",
   "metadata": {},
   "outputs": [],
   "source": [
    "# read in all the transition matrices\n",
    "original_trans_mats = {\n",
    "    'prefix_1':[]\n",
    "    ,'prefix_2':[]\n",
    "    ,'prefix_3':[]\n",
    "    ,'prefix_4':[]\n",
    "}\n",
    "\n",
    "for corpus in selected_corpora:     \n",
    "    for key, tm in zip(original_trans_mats.keys(), [f'{corpus[\"filename\"].replace(local.get_file_extension(corpus[\"filename\"]), \"\")}-tm{x}.dat' for x in range(1,5)]):\n",
    "        original_trans_mats[key].append(cloud.read_csv_from_s3(tm, TRANS_MATS_DIR, BUCKET, sep='|'))"
   ]
  },
  {
   "cell_type": "code",
   "execution_count": 12,
   "id": "9e1e54b0",
   "metadata": {},
   "outputs": [
    {
     "data": {
      "text/html": [
       "<div>\n",
       "<style scoped>\n",
       "    .dataframe tbody tr th:only-of-type {\n",
       "        vertical-align: middle;\n",
       "    }\n",
       "\n",
       "    .dataframe tbody tr th {\n",
       "        vertical-align: top;\n",
       "    }\n",
       "\n",
       "    .dataframe thead th {\n",
       "        text-align: right;\n",
       "    }\n",
       "</style>\n",
       "<table border=\"1\" class=\"dataframe\">\n",
       "  <thead>\n",
       "    <tr style=\"text-align: right;\">\n",
       "      <th></th>\n",
       "      <th>from_str</th>\n",
       "      <th>to_char</th>\n",
       "      <th>rel_frequency</th>\n",
       "    </tr>\n",
       "  </thead>\n",
       "  <tbody>\n",
       "    <tr>\n",
       "      <th>0</th>\n",
       "      <td></td>\n",
       "      <td>y</td>\n",
       "      <td>0.008568</td>\n",
       "    </tr>\n",
       "    <tr>\n",
       "      <th>1</th>\n",
       "      <td></td>\n",
       "      <td>i</td>\n",
       "      <td>0.019913</td>\n",
       "    </tr>\n",
       "    <tr>\n",
       "      <th>2</th>\n",
       "      <td></td>\n",
       "      <td>t</td>\n",
       "      <td>0.059300</td>\n",
       "    </tr>\n",
       "    <tr>\n",
       "      <th>3</th>\n",
       "      <td></td>\n",
       "      <td>a</td>\n",
       "      <td>0.057908</td>\n",
       "    </tr>\n",
       "    <tr>\n",
       "      <th>4</th>\n",
       "      <td></td>\n",
       "      <td>o</td>\n",
       "      <td>0.019873</td>\n",
       "    </tr>\n",
       "  </tbody>\n",
       "</table>\n",
       "</div>"
      ],
      "text/plain": [
       "  from_str to_char  rel_frequency\n",
       "0                y       0.008568\n",
       "1                i       0.019913\n",
       "2                t       0.059300\n",
       "3                a       0.057908\n",
       "4                o       0.019873"
      ]
     },
     "execution_count": 12,
     "metadata": {},
     "output_type": "execute_result"
    }
   ],
   "source": [
    "original_trans_mats['prefix_1'][0].head()"
   ]
  },
  {
   "cell_type": "code",
   "execution_count": 13,
   "id": "836a93be",
   "metadata": {},
   "outputs": [],
   "source": [
    "# merge the dataframes using the provided weights\n",
    "new_tms = {}\n",
    "\n",
    "for prefix_key in original_trans_mats.keys():\n",
    "    for corpus, df in zip(selected_corpora, original_trans_mats[prefix_key]):\n",
    "        df['weight'] = float(corpus['weight'])\n",
    "    new_tm = pd.concat(original_trans_mats[prefix_key])\n",
    "    new_tm['new_weight'] = new_tm['rel_frequency'] * new_tm['weight']\n",
    "    new_tm = new_tm.drop(['rel_frequency', 'weight'], axis=1)\n",
    "    new_tm = new_tm.groupby(['from_str', 'to_char']).sum().reset_index()\n",
    "    new_tms[prefix_key] = new_tm"
   ]
  },
  {
   "cell_type": "code",
   "execution_count": 16,
   "id": "0f547710",
   "metadata": {},
   "outputs": [
    {
     "name": "stderr",
     "output_type": "stream",
     "text": [
      "100%|██████████| 31/31 [00:00<00:00, 1421.58it/s]\n",
      "100%|██████████| 804/804 [00:01<00:00, 657.19it/s]\n",
      "100%|██████████| 9715/9715 [00:50<00:00, 193.72it/s]\n",
      "100%|██████████| 47706/47706 [10:07<00:00, 78.58it/s] \n"
     ]
    }
   ],
   "source": [
    "# renormalize the weights for the new_tms\n",
    "\n",
    "for df in new_tms.values():\n",
    "    for from_str in tqdm(df['from_str'].unique().tolist()):\n",
    "        total_weight = df.loc[df['from_str'] == from_str, 'new_weight'].sum()\n",
    "        if abs(total_weight - 1) < 0.01:\n",
    "            pass\n",
    "        else:\n",
    "            multiple = 1.0 / total_weight\n",
    "            df.loc[df['from_str'] == from_str, ['new_weight']] *= multiple"
   ]
  },
  {
   "cell_type": "markdown",
   "id": "a5dd24d4",
   "metadata": {},
   "source": [
    "### Build Words"
   ]
  },
  {
   "cell_type": "code",
   "execution_count": null,
   "id": "cf7e4bc7",
   "metadata": {},
   "outputs": [],
   "source": []
  },
  {
   "cell_type": "code",
   "execution_count": null,
   "id": "410a1e14",
   "metadata": {},
   "outputs": [],
   "source": []
  },
  {
   "cell_type": "code",
   "execution_count": null,
   "id": "5f2aa92a",
   "metadata": {},
   "outputs": [],
   "source": []
  },
  {
   "cell_type": "code",
   "execution_count": null,
   "id": "fda5fb65",
   "metadata": {},
   "outputs": [],
   "source": []
  },
  {
   "cell_type": "code",
   "execution_count": null,
   "id": "63d8e9b6",
   "metadata": {},
   "outputs": [],
   "source": []
  },
  {
   "cell_type": "code",
   "execution_count": null,
   "id": "269d3683",
   "metadata": {},
   "outputs": [],
   "source": []
  },
  {
   "cell_type": "code",
   "execution_count": null,
   "id": "08ddcb9d",
   "metadata": {},
   "outputs": [],
   "source": []
  },
  {
   "cell_type": "code",
   "execution_count": null,
   "id": "68c92b61",
   "metadata": {},
   "outputs": [],
   "source": []
  },
  {
   "cell_type": "code",
   "execution_count": null,
   "id": "7efe8b87",
   "metadata": {},
   "outputs": [],
   "source": []
  },
  {
   "cell_type": "code",
   "execution_count": null,
   "id": "ee6f43ee",
   "metadata": {},
   "outputs": [],
   "source": []
  },
  {
   "cell_type": "code",
   "execution_count": null,
   "id": "7e42bdd0",
   "metadata": {},
   "outputs": [],
   "source": []
  },
  {
   "cell_type": "code",
   "execution_count": null,
   "id": "ea9a265a",
   "metadata": {},
   "outputs": [],
   "source": []
  },
  {
   "cell_type": "code",
   "execution_count": null,
   "id": "ed57c6f4",
   "metadata": {},
   "outputs": [],
   "source": []
  },
  {
   "cell_type": "code",
   "execution_count": null,
   "id": "0644cde2",
   "metadata": {},
   "outputs": [],
   "source": []
  }
 ],
 "metadata": {
  "kernelspec": {
   "display_name": "lexgen",
   "language": "python",
   "name": "lexgen"
  },
  "language_info": {
   "codemirror_mode": {
    "name": "ipython",
    "version": 3
   },
   "file_extension": ".py",
   "mimetype": "text/x-python",
   "name": "python",
   "nbconvert_exporter": "python",
   "pygments_lexer": "ipython3",
   "version": "3.7.10"
  }
 },
 "nbformat": 4,
 "nbformat_minor": 5
}
