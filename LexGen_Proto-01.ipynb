{
 "cells": [
  {
   "cell_type": "markdown",
   "id": "31c56102",
   "metadata": {},
   "source": [
    "# Lexicon Generator - Prototype 1"
   ]
  },
  {
   "cell_type": "markdown",
   "id": "3ec83518",
   "metadata": {},
   "source": [
    "## Import Statements"
   ]
  },
  {
   "cell_type": "code",
   "execution_count": 40,
   "id": "461695d3",
   "metadata": {},
   "outputs": [],
   "source": [
    "from nate_givens_toolkit import cloud_io as cloud\n",
    "from nate_givens_toolkit import local_io as local\n",
    "import pandas as pd\n",
    "import numpy as np\n",
    "import sys"
   ]
  },
  {
   "cell_type": "markdown",
   "id": "372c8d77",
   "metadata": {},
   "source": [
    "## Global Variables"
   ]
  },
  {
   "cell_type": "code",
   "execution_count": 2,
   "id": "9ead6ba8",
   "metadata": {},
   "outputs": [],
   "source": [
    "CLEAN_CORPORA_DIR = 'clean_corpora/'\n",
    "DATA_DIR = 'data_files/'\n",
    "TRANS_MATS_DIR = 'transition_matrices/'\n",
    "BUCKET = 'lexgen'"
   ]
  },
  {
   "cell_type": "markdown",
   "id": "1702e829",
   "metadata": {},
   "source": [
    "## Read in Data Files"
   ]
  },
  {
   "cell_type": "markdown",
   "id": "7938dfa6",
   "metadata": {},
   "source": [
    "### Raw Corpora"
   ]
  },
  {
   "cell_type": "code",
   "execution_count": 5,
   "id": "046ee46c",
   "metadata": {},
   "outputs": [],
   "source": [
    "raw_corpora = cloud.read_csv_from_s3('raw_corpora_inventory.dat', DATA_DIR, BUCKET, sep='|')"
   ]
  },
  {
   "cell_type": "code",
   "execution_count": 6,
   "id": "06baa1b5",
   "metadata": {},
   "outputs": [
    {
     "data": {
      "text/html": [
       "<div>\n",
       "<style scoped>\n",
       "    .dataframe tbody tr th:only-of-type {\n",
       "        vertical-align: middle;\n",
       "    }\n",
       "\n",
       "    .dataframe tbody tr th {\n",
       "        vertical-align: top;\n",
       "    }\n",
       "\n",
       "    .dataframe thead th {\n",
       "        text-align: right;\n",
       "    }\n",
       "</style>\n",
       "<table border=\"1\" class=\"dataframe\">\n",
       "  <thead>\n",
       "    <tr style=\"text-align: right;\">\n",
       "      <th></th>\n",
       "      <th>filename</th>\n",
       "      <th>lang_code</th>\n",
       "      <th>source_url</th>\n",
       "      <th>last_load_dtime</th>\n",
       "      <th>note</th>\n",
       "    </tr>\n",
       "  </thead>\n",
       "  <tbody>\n",
       "    <tr>\n",
       "      <th>0</th>\n",
       "      <td>en_full_2018.txt</td>\n",
       "      <td>en</td>\n",
       "      <td>https://raw.githubusercontent.com/hermitdave/F...</td>\n",
       "      <td>2021-03-26 02:04:07.270824</td>\n",
       "      <td>HermitDave's version of the full 2018 English ...</td>\n",
       "    </tr>\n",
       "    <tr>\n",
       "      <th>1</th>\n",
       "      <td>en_50k_2018.txt</td>\n",
       "      <td>en</td>\n",
       "      <td>https://raw.githubusercontent.com/hermitdave/F...</td>\n",
       "      <td>2021-03-26 03:25:53.589244</td>\n",
       "      <td>HermitDave's version of the top 50k 2018 Engli...</td>\n",
       "    </tr>\n",
       "    <tr>\n",
       "      <th>2</th>\n",
       "      <td>en_full_2016.txt</td>\n",
       "      <td>en</td>\n",
       "      <td>https://raw.githubusercontent.com/hermitdave/F...</td>\n",
       "      <td>2021-03-26 03:25:53.984856</td>\n",
       "      <td>HermitDave's version of the full 2016 English ...</td>\n",
       "    </tr>\n",
       "    <tr>\n",
       "      <th>3</th>\n",
       "      <td>en_50k_2016.txt</td>\n",
       "      <td>en</td>\n",
       "      <td>https://raw.githubusercontent.com/hermitdave/F...</td>\n",
       "      <td>2021-03-26 03:25:54.377632</td>\n",
       "      <td>HermitDave's version of the top 50k 2016 Engli...</td>\n",
       "    </tr>\n",
       "    <tr>\n",
       "      <th>4</th>\n",
       "      <td>de_full_2018.txt</td>\n",
       "      <td>de</td>\n",
       "      <td>https://raw.githubusercontent.com/hermitdave/F...</td>\n",
       "      <td>2021-04-06 19:42:26.967039</td>\n",
       "      <td>HermitDave's version of the full 2018 German f...</td>\n",
       "    </tr>\n",
       "    <tr>\n",
       "      <th>5</th>\n",
       "      <td>de_50k_2018.txt</td>\n",
       "      <td>de</td>\n",
       "      <td>https://raw.githubusercontent.com/hermitdave/F...</td>\n",
       "      <td>2021-04-06 19:42:26.970505</td>\n",
       "      <td>HermitDave's version of the top 50k 2018 Germa...</td>\n",
       "    </tr>\n",
       "    <tr>\n",
       "      <th>6</th>\n",
       "      <td>de_full_2016.txt</td>\n",
       "      <td>de</td>\n",
       "      <td>https://raw.githubusercontent.com/hermitdave/F...</td>\n",
       "      <td>2021-04-06 19:42:26.974519</td>\n",
       "      <td>HermitDave's version of the full 2016 English ...</td>\n",
       "    </tr>\n",
       "    <tr>\n",
       "      <th>7</th>\n",
       "      <td>de_50k_2016.txt</td>\n",
       "      <td>de</td>\n",
       "      <td>https://raw.githubusercontent.com/hermitdave/F...</td>\n",
       "      <td>2021-04-06 19:42:26.978002</td>\n",
       "      <td>HermitDave's version of the top 50k 2016 Engli...</td>\n",
       "    </tr>\n",
       "    <tr>\n",
       "      <th>8</th>\n",
       "      <td>af_full_2018.txt</td>\n",
       "      <td>af</td>\n",
       "      <td>https://raw.githubusercontent.com/hermitdave/F...</td>\n",
       "      <td>2021-04-07 20:09:57.721287</td>\n",
       "      <td>HermitDave's version of the full 2018 Afrikaan...</td>\n",
       "    </tr>\n",
       "    <tr>\n",
       "      <th>9</th>\n",
       "      <td>af_full_2016.txt</td>\n",
       "      <td>af</td>\n",
       "      <td>https://raw.githubusercontent.com/hermitdave/F...</td>\n",
       "      <td>2021-04-07 20:13:55.305772</td>\n",
       "      <td>HermitDave's version of the full 2016 Afrikaan...</td>\n",
       "    </tr>\n",
       "    <tr>\n",
       "      <th>10</th>\n",
       "      <td>af_50k_2016.txt</td>\n",
       "      <td>af</td>\n",
       "      <td>https://raw.githubusercontent.com/hermitdave/F...</td>\n",
       "      <td>2021-04-07 20:13:55.309405</td>\n",
       "      <td>HermitDave's version of the top 50k 2016 Afrik...</td>\n",
       "    </tr>\n",
       "  </tbody>\n",
       "</table>\n",
       "</div>"
      ],
      "text/plain": [
       "            filename lang_code  \\\n",
       "0   en_full_2018.txt        en   \n",
       "1    en_50k_2018.txt        en   \n",
       "2   en_full_2016.txt        en   \n",
       "3    en_50k_2016.txt        en   \n",
       "4   de_full_2018.txt        de   \n",
       "5    de_50k_2018.txt        de   \n",
       "6   de_full_2016.txt        de   \n",
       "7    de_50k_2016.txt        de   \n",
       "8   af_full_2018.txt        af   \n",
       "9   af_full_2016.txt        af   \n",
       "10   af_50k_2016.txt        af   \n",
       "\n",
       "                                           source_url  \\\n",
       "0   https://raw.githubusercontent.com/hermitdave/F...   \n",
       "1   https://raw.githubusercontent.com/hermitdave/F...   \n",
       "2   https://raw.githubusercontent.com/hermitdave/F...   \n",
       "3   https://raw.githubusercontent.com/hermitdave/F...   \n",
       "4   https://raw.githubusercontent.com/hermitdave/F...   \n",
       "5   https://raw.githubusercontent.com/hermitdave/F...   \n",
       "6   https://raw.githubusercontent.com/hermitdave/F...   \n",
       "7   https://raw.githubusercontent.com/hermitdave/F...   \n",
       "8   https://raw.githubusercontent.com/hermitdave/F...   \n",
       "9   https://raw.githubusercontent.com/hermitdave/F...   \n",
       "10  https://raw.githubusercontent.com/hermitdave/F...   \n",
       "\n",
       "               last_load_dtime  \\\n",
       "0   2021-03-26 02:04:07.270824   \n",
       "1   2021-03-26 03:25:53.589244   \n",
       "2   2021-03-26 03:25:53.984856   \n",
       "3   2021-03-26 03:25:54.377632   \n",
       "4   2021-04-06 19:42:26.967039   \n",
       "5   2021-04-06 19:42:26.970505   \n",
       "6   2021-04-06 19:42:26.974519   \n",
       "7   2021-04-06 19:42:26.978002   \n",
       "8   2021-04-07 20:09:57.721287   \n",
       "9   2021-04-07 20:13:55.305772   \n",
       "10  2021-04-07 20:13:55.309405   \n",
       "\n",
       "                                                 note  \n",
       "0   HermitDave's version of the full 2018 English ...  \n",
       "1   HermitDave's version of the top 50k 2018 Engli...  \n",
       "2   HermitDave's version of the full 2016 English ...  \n",
       "3   HermitDave's version of the top 50k 2016 Engli...  \n",
       "4   HermitDave's version of the full 2018 German f...  \n",
       "5   HermitDave's version of the top 50k 2018 Germa...  \n",
       "6   HermitDave's version of the full 2016 English ...  \n",
       "7   HermitDave's version of the top 50k 2016 Engli...  \n",
       "8   HermitDave's version of the full 2018 Afrikaan...  \n",
       "9   HermitDave's version of the full 2016 Afrikaan...  \n",
       "10  HermitDave's version of the top 50k 2016 Afrik...  "
      ]
     },
     "execution_count": 6,
     "metadata": {},
     "output_type": "execute_result"
    }
   ],
   "source": [
    "raw_corpora"
   ]
  },
  {
   "cell_type": "markdown",
   "id": "95af9b7c",
   "metadata": {},
   "source": [
    "### Clean Corpora"
   ]
  },
  {
   "cell_type": "code",
   "execution_count": 3,
   "id": "51888745",
   "metadata": {},
   "outputs": [],
   "source": [
    "clean_corpora = cloud.read_csv_from_s3('clean_corpora_inventory.dat', DATA_DIR, BUCKET, sep='|')"
   ]
  },
  {
   "cell_type": "code",
   "execution_count": 4,
   "id": "f410eaa9",
   "metadata": {},
   "outputs": [
    {
     "data": {
      "text/html": [
       "<div>\n",
       "<style scoped>\n",
       "    .dataframe tbody tr th:only-of-type {\n",
       "        vertical-align: middle;\n",
       "    }\n",
       "\n",
       "    .dataframe tbody tr th {\n",
       "        vertical-align: top;\n",
       "    }\n",
       "\n",
       "    .dataframe thead th {\n",
       "        text-align: right;\n",
       "    }\n",
       "</style>\n",
       "<table border=\"1\" class=\"dataframe\">\n",
       "  <thead>\n",
       "    <tr style=\"text-align: right;\">\n",
       "      <th></th>\n",
       "      <th>filename</th>\n",
       "      <th>raw_corpora_filename</th>\n",
       "      <th>last_load_dtime</th>\n",
       "      <th>note</th>\n",
       "    </tr>\n",
       "  </thead>\n",
       "  <tbody>\n",
       "    <tr>\n",
       "      <th>0</th>\n",
       "      <td>en_50k_2018_A.txt</td>\n",
       "      <td>en_50k_2018.txt</td>\n",
       "      <td>2021-04-01 01:07:27.259981</td>\n",
       "      <td>Cleaned version of en_50k_2018 with top 200 wo...</td>\n",
       "    </tr>\n",
       "    <tr>\n",
       "      <th>1</th>\n",
       "      <td>de_50k_2018_A.txt</td>\n",
       "      <td>de_50k_2018.txt</td>\n",
       "      <td>2021-04-06 20:25:02.967162</td>\n",
       "      <td>Cleaned version of de_50k_2018 with top 200 wo...</td>\n",
       "    </tr>\n",
       "    <tr>\n",
       "      <th>2</th>\n",
       "      <td>af_full_2018_A.txt</td>\n",
       "      <td>af_full_2018.txt</td>\n",
       "      <td>2021-04-07 20:30:13.085269</td>\n",
       "      <td>Cleaned version of af_full_2018 with top 200 w...</td>\n",
       "    </tr>\n",
       "  </tbody>\n",
       "</table>\n",
       "</div>"
      ],
      "text/plain": [
       "             filename raw_corpora_filename             last_load_dtime  \\\n",
       "0   en_50k_2018_A.txt      en_50k_2018.txt  2021-04-01 01:07:27.259981   \n",
       "1   de_50k_2018_A.txt      de_50k_2018.txt  2021-04-06 20:25:02.967162   \n",
       "2  af_full_2018_A.txt     af_full_2018.txt  2021-04-07 20:30:13.085269   \n",
       "\n",
       "                                                note  \n",
       "0  Cleaned version of en_50k_2018 with top 200 wo...  \n",
       "1  Cleaned version of de_50k_2018 with top 200 wo...  \n",
       "2  Cleaned version of af_full_2018 with top 200 w...  "
      ]
     },
     "execution_count": 4,
     "metadata": {},
     "output_type": "execute_result"
    }
   ],
   "source": [
    "clean_corpora"
   ]
  },
  {
   "cell_type": "markdown",
   "id": "42a89070",
   "metadata": {},
   "source": [
    "### Transition Matrices"
   ]
  },
  {
   "cell_type": "code",
   "execution_count": 7,
   "id": "7e14208e",
   "metadata": {},
   "outputs": [],
   "source": [
    "trans_mats = cloud.read_csv_from_s3('trans_mats_inventory.dat', DATA_DIR, BUCKET, sep='|')"
   ]
  },
  {
   "cell_type": "code",
   "execution_count": 8,
   "id": "0f84c664",
   "metadata": {},
   "outputs": [
    {
     "data": {
      "text/html": [
       "<div>\n",
       "<style scoped>\n",
       "    .dataframe tbody tr th:only-of-type {\n",
       "        vertical-align: middle;\n",
       "    }\n",
       "\n",
       "    .dataframe tbody tr th {\n",
       "        vertical-align: top;\n",
       "    }\n",
       "\n",
       "    .dataframe thead th {\n",
       "        text-align: right;\n",
       "    }\n",
       "</style>\n",
       "<table border=\"1\" class=\"dataframe\">\n",
       "  <thead>\n",
       "    <tr style=\"text-align: right;\">\n",
       "      <th></th>\n",
       "      <th>filename</th>\n",
       "      <th>clean_corpus_filename</th>\n",
       "      <th>prefix_len</th>\n",
       "      <th>last_load_dtime</th>\n",
       "    </tr>\n",
       "  </thead>\n",
       "  <tbody>\n",
       "    <tr>\n",
       "      <th>0</th>\n",
       "      <td>en_50k_2018_A-tm1.dat</td>\n",
       "      <td>en_50k_2018_A.txt</td>\n",
       "      <td>1</td>\n",
       "      <td>2021-04-02 01:26:32.184511</td>\n",
       "    </tr>\n",
       "    <tr>\n",
       "      <th>1</th>\n",
       "      <td>en_50k_2018_A-tm2.dat</td>\n",
       "      <td>en_50k_2018_A.txt</td>\n",
       "      <td>2</td>\n",
       "      <td>2021-04-02 01:26:32.184511</td>\n",
       "    </tr>\n",
       "    <tr>\n",
       "      <th>2</th>\n",
       "      <td>en_50k_2018_A-tm3.dat</td>\n",
       "      <td>en_50k_2018_A.txt</td>\n",
       "      <td>3</td>\n",
       "      <td>2021-04-02 01:26:32.184511</td>\n",
       "    </tr>\n",
       "    <tr>\n",
       "      <th>3</th>\n",
       "      <td>en_50k_2018_A-tm4.dat</td>\n",
       "      <td>en_50k_2018_A.txt</td>\n",
       "      <td>4</td>\n",
       "      <td>2021-04-02 01:26:32.184511</td>\n",
       "    </tr>\n",
       "    <tr>\n",
       "      <th>4</th>\n",
       "      <td>de_50k_2018_A-tm1.dat</td>\n",
       "      <td>de_50k_2018_A.txt</td>\n",
       "      <td>1</td>\n",
       "      <td>2021-04-07 20:03:20.399818</td>\n",
       "    </tr>\n",
       "    <tr>\n",
       "      <th>5</th>\n",
       "      <td>de_50k_2018_A-tm2.dat</td>\n",
       "      <td>de_50k_2018_A.txt</td>\n",
       "      <td>2</td>\n",
       "      <td>2021-04-07 20:03:20.399818</td>\n",
       "    </tr>\n",
       "    <tr>\n",
       "      <th>6</th>\n",
       "      <td>de_50k_2018_A-tm3.dat</td>\n",
       "      <td>de_50k_2018_A.txt</td>\n",
       "      <td>3</td>\n",
       "      <td>2021-04-07 20:03:20.399818</td>\n",
       "    </tr>\n",
       "    <tr>\n",
       "      <th>7</th>\n",
       "      <td>de_50k_2018_A-tm4.dat</td>\n",
       "      <td>de_50k_2018_A.txt</td>\n",
       "      <td>4</td>\n",
       "      <td>2021-04-07 20:03:20.399818</td>\n",
       "    </tr>\n",
       "    <tr>\n",
       "      <th>8</th>\n",
       "      <td>af_full_2018_A-tm1.dat</td>\n",
       "      <td>af_full_2018_A.txt</td>\n",
       "      <td>1</td>\n",
       "      <td>2021-04-07 20:31:26.257230</td>\n",
       "    </tr>\n",
       "    <tr>\n",
       "      <th>9</th>\n",
       "      <td>af_full_2018_A-tm2.dat</td>\n",
       "      <td>af_full_2018_A.txt</td>\n",
       "      <td>2</td>\n",
       "      <td>2021-04-07 20:31:26.257230</td>\n",
       "    </tr>\n",
       "    <tr>\n",
       "      <th>10</th>\n",
       "      <td>af_full_2018_A-tm3.dat</td>\n",
       "      <td>af_full_2018_A.txt</td>\n",
       "      <td>3</td>\n",
       "      <td>2021-04-07 20:31:26.257230</td>\n",
       "    </tr>\n",
       "    <tr>\n",
       "      <th>11</th>\n",
       "      <td>af_full_2018_A-tm4.dat</td>\n",
       "      <td>af_full_2018_A.txt</td>\n",
       "      <td>4</td>\n",
       "      <td>2021-04-07 20:31:26.257230</td>\n",
       "    </tr>\n",
       "  </tbody>\n",
       "</table>\n",
       "</div>"
      ],
      "text/plain": [
       "                  filename clean_corpus_filename  prefix_len  \\\n",
       "0    en_50k_2018_A-tm1.dat     en_50k_2018_A.txt           1   \n",
       "1    en_50k_2018_A-tm2.dat     en_50k_2018_A.txt           2   \n",
       "2    en_50k_2018_A-tm3.dat     en_50k_2018_A.txt           3   \n",
       "3    en_50k_2018_A-tm4.dat     en_50k_2018_A.txt           4   \n",
       "4    de_50k_2018_A-tm1.dat     de_50k_2018_A.txt           1   \n",
       "5    de_50k_2018_A-tm2.dat     de_50k_2018_A.txt           2   \n",
       "6    de_50k_2018_A-tm3.dat     de_50k_2018_A.txt           3   \n",
       "7    de_50k_2018_A-tm4.dat     de_50k_2018_A.txt           4   \n",
       "8   af_full_2018_A-tm1.dat    af_full_2018_A.txt           1   \n",
       "9   af_full_2018_A-tm2.dat    af_full_2018_A.txt           2   \n",
       "10  af_full_2018_A-tm3.dat    af_full_2018_A.txt           3   \n",
       "11  af_full_2018_A-tm4.dat    af_full_2018_A.txt           4   \n",
       "\n",
       "               last_load_dtime  \n",
       "0   2021-04-02 01:26:32.184511  \n",
       "1   2021-04-02 01:26:32.184511  \n",
       "2   2021-04-02 01:26:32.184511  \n",
       "3   2021-04-02 01:26:32.184511  \n",
       "4   2021-04-07 20:03:20.399818  \n",
       "5   2021-04-07 20:03:20.399818  \n",
       "6   2021-04-07 20:03:20.399818  \n",
       "7   2021-04-07 20:03:20.399818  \n",
       "8   2021-04-07 20:31:26.257230  \n",
       "9   2021-04-07 20:31:26.257230  \n",
       "10  2021-04-07 20:31:26.257230  \n",
       "11  2021-04-07 20:31:26.257230  "
      ]
     },
     "execution_count": 8,
     "metadata": {},
     "output_type": "execute_result"
    }
   ],
   "source": [
    "trans_mats"
   ]
  },
  {
   "cell_type": "markdown",
   "id": "4d048bea",
   "metadata": {},
   "source": [
    "## Logic"
   ]
  },
  {
   "cell_type": "markdown",
   "id": "d808acbf",
   "metadata": {},
   "source": [
    "## Select Corpora\n",
    "\n",
    "For this prototype, we'll pick 2, assign weighs, and then check to make sure they exist"
   ]
  },
  {
   "cell_type": "code",
   "execution_count": 83,
   "id": "e87c2299",
   "metadata": {},
   "outputs": [],
   "source": [
    "# enter the corpora\n",
    "selected_corpora = [{\n",
    "    'filename' : 'en_50k_2018_A.txt' \n",
    "    , 'weight' : 60\n",
    "    }\n",
    "    ,{\n",
    "    'filename' : 'de_50k_2018_A.txt'\n",
    "    , 'weight' : 40\n",
    "    }\n",
    "]"
   ]
  },
  {
   "cell_type": "code",
   "execution_count": 85,
   "id": "ed0c0ce8",
   "metadata": {},
   "outputs": [],
   "source": [
    "# normalize the weights \n",
    "total_weight = 0.0\n",
    "for corpus in selected_corpora:\n",
    "    total_weight += corpus['weight']\n",
    "for corpus in selected_corpora:\n",
    "    corpus['weight'] = corpus['weight'] / total_weight"
   ]
  },
  {
   "cell_type": "markdown",
   "id": "6fbe00c7",
   "metadata": {},
   "source": [
    "### Merge Transition Matrices"
   ]
  },
  {
   "cell_type": "code",
   "execution_count": 86,
   "id": "143c3f94",
   "metadata": {},
   "outputs": [],
   "source": [
    "# read in all the transition matrices\n",
    "original_trans_mats = {\n",
    "    'prefix_1':[]\n",
    "    ,'prefix_2':[]\n",
    "    ,'prefix_3':[]\n",
    "    ,'prefix_4':[]\n",
    "}\n",
    "\n",
    "for corpus in selected_corpora:     \n",
    "    for key, tm in zip(original_trans_mats.keys(), [f'{corpus[\"filename\"].replace(local.get_file_extension(corpus[\"filename\"]), \"\")}-tm{x}.dat' for x in range(1,5)]):\n",
    "        original_trans_mats[key].append(cloud.read_csv_from_s3(tm, TRANS_MATS_DIR, BUCKET, sep='|'))"
   ]
  },
  {
   "cell_type": "code",
   "execution_count": 93,
   "id": "ec2ecde6",
   "metadata": {},
   "outputs": [
    {
     "data": {
      "text/html": [
       "<div>\n",
       "<style scoped>\n",
       "    .dataframe tbody tr th:only-of-type {\n",
       "        vertical-align: middle;\n",
       "    }\n",
       "\n",
       "    .dataframe tbody tr th {\n",
       "        vertical-align: top;\n",
       "    }\n",
       "\n",
       "    .dataframe thead th {\n",
       "        text-align: right;\n",
       "    }\n",
       "</style>\n",
       "<table border=\"1\" class=\"dataframe\">\n",
       "  <thead>\n",
       "    <tr style=\"text-align: right;\">\n",
       "      <th></th>\n",
       "      <th>from_str</th>\n",
       "      <th>to_char</th>\n",
       "      <th>rel_frequency</th>\n",
       "      <th>weight</th>\n",
       "    </tr>\n",
       "  </thead>\n",
       "  <tbody>\n",
       "    <tr>\n",
       "      <th>0</th>\n",
       "      <td></td>\n",
       "      <td>y</td>\n",
       "      <td>0.008568</td>\n",
       "      <td>0.6</td>\n",
       "    </tr>\n",
       "    <tr>\n",
       "      <th>1</th>\n",
       "      <td></td>\n",
       "      <td>i</td>\n",
       "      <td>0.019913</td>\n",
       "      <td>0.6</td>\n",
       "    </tr>\n",
       "    <tr>\n",
       "      <th>2</th>\n",
       "      <td></td>\n",
       "      <td>t</td>\n",
       "      <td>0.059300</td>\n",
       "      <td>0.6</td>\n",
       "    </tr>\n",
       "    <tr>\n",
       "      <th>3</th>\n",
       "      <td></td>\n",
       "      <td>a</td>\n",
       "      <td>0.057908</td>\n",
       "      <td>0.6</td>\n",
       "    </tr>\n",
       "    <tr>\n",
       "      <th>4</th>\n",
       "      <td></td>\n",
       "      <td>o</td>\n",
       "      <td>0.019873</td>\n",
       "      <td>0.6</td>\n",
       "    </tr>\n",
       "  </tbody>\n",
       "</table>\n",
       "</div>"
      ],
      "text/plain": [
       "  from_str to_char  rel_frequency  weight\n",
       "0                y       0.008568     0.6\n",
       "1                i       0.019913     0.6\n",
       "2                t       0.059300     0.6\n",
       "3                a       0.057908     0.6\n",
       "4                o       0.019873     0.6"
      ]
     },
     "execution_count": 93,
     "metadata": {},
     "output_type": "execute_result"
    }
   ],
   "source": [
    "original_trans_mats['prefix_1'][0].head()"
   ]
  },
  {
   "cell_type": "code",
   "execution_count": 104,
   "id": "7dc78834",
   "metadata": {},
   "outputs": [],
   "source": [
    "# merge the dataframes using the provided weights\n",
    "new_tms = {}\n",
    "\n",
    "for prefix_key in original_trans_mats.keys():\n",
    "    for corpus, df in zip(selected_corpora, original_trans_mats[prefix_key]):\n",
    "        df['weight'] = float(corpus['weight'])\n",
    "    new_tm = pd.concat(original_trans_mats[prefix_key])\n",
    "    new_tm['new_weight'] = new_tm['rel_frequency'] * new_tm['weight']\n",
    "    new_tm = new_tm.drop(['rel_frequency', 'weight'], axis=1)\n",
    "    new_tm.groupby(['from_str', 'to_char']).sum().reset_index()\n",
    "    new_tms[prefix_key] = new_tm"
   ]
  },
  {
   "cell_type": "code",
   "execution_count": 121,
   "id": "db8c47c5",
   "metadata": {},
   "outputs": [],
   "source": [
    "# renormalize the new transition matrices\n",
    "\n",
    "for prefix_key in new_tms.keys():\n",
    "    grouped_df = new_tms['prefix_1'].groupby(['from_str']).sum().reset_index()\n",
    "    imbalanced_from_str_list = zip(grouped_df['from_str'].tolist(), grouped_df['new_weight'].tolist())\n",
    "    for from_str, weight in imbalanced_from_str_list:\n",
    "        "
   ]
  },
  {
   "cell_type": "code",
   "execution_count": null,
   "id": "5bcb7b32",
   "metadata": {},
   "outputs": [],
   "source": []
  },
  {
   "cell_type": "code",
   "execution_count": null,
   "id": "518337e8",
   "metadata": {},
   "outputs": [],
   "source": []
  },
  {
   "cell_type": "code",
   "execution_count": null,
   "id": "1b06bd54",
   "metadata": {},
   "outputs": [],
   "source": []
  },
  {
   "cell_type": "code",
   "execution_count": null,
   "id": "a6ec3f87",
   "metadata": {},
   "outputs": [],
   "source": []
  },
  {
   "cell_type": "code",
   "execution_count": null,
   "id": "986bf360",
   "metadata": {},
   "outputs": [],
   "source": []
  },
  {
   "cell_type": "code",
   "execution_count": null,
   "id": "df6c911c",
   "metadata": {},
   "outputs": [],
   "source": []
  },
  {
   "cell_type": "code",
   "execution_count": null,
   "id": "fa2577e1",
   "metadata": {},
   "outputs": [],
   "source": []
  },
  {
   "cell_type": "code",
   "execution_count": null,
   "id": "5d5000bb",
   "metadata": {},
   "outputs": [],
   "source": []
  },
  {
   "cell_type": "code",
   "execution_count": null,
   "id": "c225d2a1",
   "metadata": {},
   "outputs": [],
   "source": []
  },
  {
   "cell_type": "code",
   "execution_count": null,
   "id": "574c9c06",
   "metadata": {},
   "outputs": [],
   "source": []
  },
  {
   "cell_type": "code",
   "execution_count": null,
   "id": "a549a17e",
   "metadata": {},
   "outputs": [],
   "source": []
  },
  {
   "cell_type": "code",
   "execution_count": null,
   "id": "fba7250c",
   "metadata": {},
   "outputs": [],
   "source": []
  },
  {
   "cell_type": "code",
   "execution_count": null,
   "id": "375d7764",
   "metadata": {},
   "outputs": [],
   "source": []
  },
  {
   "cell_type": "code",
   "execution_count": null,
   "id": "4e14d55d",
   "metadata": {},
   "outputs": [],
   "source": []
  },
  {
   "cell_type": "code",
   "execution_count": null,
   "id": "b0a54573",
   "metadata": {},
   "outputs": [],
   "source": []
  },
  {
   "cell_type": "code",
   "execution_count": null,
   "id": "6d217a41",
   "metadata": {},
   "outputs": [],
   "source": []
  },
  {
   "cell_type": "code",
   "execution_count": null,
   "id": "f5c25330",
   "metadata": {},
   "outputs": [],
   "source": []
  }
 ],
 "metadata": {
  "kernelspec": {
   "display_name": "lexgen",
   "language": "python",
   "name": "lexgen"
  },
  "language_info": {
   "codemirror_mode": {
    "name": "ipython",
    "version": 3
   },
   "file_extension": ".py",
   "mimetype": "text/x-python",
   "name": "python",
   "nbconvert_exporter": "python",
   "pygments_lexer": "ipython3",
   "version": "3.7.10"
  }
 },
 "nbformat": 4,
 "nbformat_minor": 5
}
