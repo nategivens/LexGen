{
 "cells": [
  {
   "cell_type": "markdown",
   "id": "possible-length",
   "metadata": {},
   "source": [
    "# Raw Corpora Intake - Batch"
   ]
  },
  {
   "cell_type": "markdown",
   "id": "ignored-month",
   "metadata": {},
   "source": [
    "## Imports and Settings"
   ]
  },
  {
   "cell_type": "code",
   "execution_count": 1,
   "id": "bright-swiss",
   "metadata": {},
   "outputs": [],
   "source": [
    "from nate_givens_toolkit import cloud_io as cloud\n",
    "import pandas as pd\n",
    "from datetime import datetime"
   ]
  },
  {
   "cell_type": "markdown",
   "id": "diverse-credit",
   "metadata": {},
   "source": [
    "## Global Variables"
   ]
  },
  {
   "cell_type": "code",
   "execution_count": 2,
   "id": "technological-volume",
   "metadata": {},
   "outputs": [],
   "source": [
    "LOCAL_DIR = '/data/lexgen/raw_corpora/'\n",
    "BUCKET_DIR = 'raw_corpora/'\n",
    "BUCKET = 'lexgen'"
   ]
  },
  {
   "cell_type": "markdown",
   "id": "announced-cartoon",
   "metadata": {},
   "source": [
    "## Logic"
   ]
  },
  {
   "cell_type": "markdown",
   "id": "undefined-authentication",
   "metadata": {},
   "source": [
    "### Specify Batch Variables"
   ]
  },
  {
   "cell_type": "code",
   "execution_count": 7,
   "id": "mysterious-grain",
   "metadata": {},
   "outputs": [],
   "source": [
    "batch = []"
   ]
  },
  {
   "cell_type": "code",
   "execution_count": 8,
   "id": "theoretical-backing",
   "metadata": {},
   "outputs": [],
   "source": [
    "batch.append({\n",
    "    'filename' : 'en_50k_2018.txt'\n",
    "    ,'lang_code' : 'en'\n",
    "    ,'source_url' : 'https://raw.githubusercontent.com/hermitdave/FrequencyWords/master/content/2018/en/en_50k.txt'\n",
    "    ,'last_load_dtime' : str(datetime.utcnow())\n",
    "    ,'note' : 'HermitDave\\'s version of the top 50k 2018 English file from OpenSubtitles'\n",
    "})"
   ]
  },
  {
   "cell_type": "code",
   "execution_count": 10,
   "id": "possible-angel",
   "metadata": {},
   "outputs": [],
   "source": [
    "batch.append({\n",
    "    'filename' : 'en_full_2016.txt'\n",
    "    ,'lang_code' : 'en'\n",
    "    ,'source_url' : 'https://raw.githubusercontent.com/hermitdave/FrequencyWords/master/content/2016/en/en_full.txt'\n",
    "    ,'last_load_dtime' : str(datetime.utcnow())\n",
    "    ,'note' : 'HermitDave\\'s version of the full 2016 English file from OpenSubtitles'\n",
    "})"
   ]
  },
  {
   "cell_type": "code",
   "execution_count": 11,
   "id": "cutting-grounds",
   "metadata": {},
   "outputs": [],
   "source": [
    "batch.append({\n",
    "    'filename' : 'en_50k_2016.txt'\n",
    "    ,'lang_code' : 'en'\n",
    "    ,'source_url' : 'https://raw.githubusercontent.com/hermitdave/FrequencyWords/master/content/2016/en/en_50k.txt'\n",
    "    ,'last_load_dtime' : str(datetime.utcnow())\n",
    "    ,'note' : 'HermitDave\\'s version of the top 50k 2016 English file from OpenSubtitles'\n",
    "})"
   ]
  },
  {
   "cell_type": "markdown",
   "id": "reasonable-hammer",
   "metadata": {},
   "source": [
    "### Read in Raw Corpora Inventory Table"
   ]
  },
  {
   "cell_type": "code",
   "execution_count": 18,
   "id": "knowing-instrument",
   "metadata": {},
   "outputs": [],
   "source": [
    "raw_corpora_inventory = cloud.read_csv_from_s3('raw_corpora_inventory.dat', BUCKET_DIR, BUCKET, sep='|')"
   ]
  },
  {
   "cell_type": "code",
   "execution_count": 19,
   "id": "naked-chicken",
   "metadata": {},
   "outputs": [
    {
     "data": {
      "text/html": [
       "<div>\n",
       "<style scoped>\n",
       "    .dataframe tbody tr th:only-of-type {\n",
       "        vertical-align: middle;\n",
       "    }\n",
       "\n",
       "    .dataframe tbody tr th {\n",
       "        vertical-align: top;\n",
       "    }\n",
       "\n",
       "    .dataframe thead th {\n",
       "        text-align: right;\n",
       "    }\n",
       "</style>\n",
       "<table border=\"1\" class=\"dataframe\">\n",
       "  <thead>\n",
       "    <tr style=\"text-align: right;\">\n",
       "      <th></th>\n",
       "      <th>filename</th>\n",
       "      <th>lang_code</th>\n",
       "      <th>source_url</th>\n",
       "      <th>last_load_dtime</th>\n",
       "      <th>note</th>\n",
       "    </tr>\n",
       "  </thead>\n",
       "  <tbody>\n",
       "    <tr>\n",
       "      <th>0</th>\n",
       "      <td>en_full_2018.txt</td>\n",
       "      <td>en</td>\n",
       "      <td>https://raw.githubusercontent.com/hermitdave/F...</td>\n",
       "      <td>2021-03-26 02:04:07.270824</td>\n",
       "      <td>HermitDave's version of the full 2018 English ...</td>\n",
       "    </tr>\n",
       "  </tbody>\n",
       "</table>\n",
       "</div>"
      ],
      "text/plain": [
       "           filename lang_code  \\\n",
       "0  en_full_2018.txt        en   \n",
       "\n",
       "                                          source_url  \\\n",
       "0  https://raw.githubusercontent.com/hermitdave/F...   \n",
       "\n",
       "              last_load_dtime  \\\n",
       "0  2021-03-26 02:04:07.270824   \n",
       "\n",
       "                                                note  \n",
       "0  HermitDave's version of the full 2018 English ...  "
      ]
     },
     "execution_count": 19,
     "metadata": {},
     "output_type": "execute_result"
    }
   ],
   "source": [
    "raw_corpora_inventory.head()"
   ]
  },
  {
   "cell_type": "markdown",
   "id": "characteristic-proof",
   "metadata": {},
   "source": [
    "### Check Batch for Conflicts In Raw Corpora Inventory Table\n",
    "\n",
    "We don't want to overwrite any existing filenames or duplicate any source urls."
   ]
  },
  {
   "cell_type": "code",
   "execution_count": null,
   "id": "knowing-moore",
   "metadata": {},
   "outputs": [],
   "source": []
  },
  {
   "cell_type": "code",
   "execution_count": null,
   "id": "absolute-dover",
   "metadata": {},
   "outputs": [],
   "source": []
  },
  {
   "cell_type": "code",
   "execution_count": null,
   "id": "perceived-aruba",
   "metadata": {},
   "outputs": [],
   "source": []
  },
  {
   "cell_type": "code",
   "execution_count": null,
   "id": "angry-valley",
   "metadata": {},
   "outputs": [],
   "source": []
  },
  {
   "cell_type": "code",
   "execution_count": null,
   "id": "baking-oxford",
   "metadata": {},
   "outputs": [],
   "source": []
  },
  {
   "cell_type": "code",
   "execution_count": null,
   "id": "chief-equation",
   "metadata": {},
   "outputs": [],
   "source": []
  }
 ],
 "metadata": {
  "kernelspec": {
   "display_name": "lexgen",
   "language": "python",
   "name": "lexgen"
  },
  "language_info": {
   "codemirror_mode": {
    "name": "ipython",
    "version": 3
   },
   "file_extension": ".py",
   "mimetype": "text/x-python",
   "name": "python",
   "nbconvert_exporter": "python",
   "pygments_lexer": "ipython3",
   "version": "3.7.10"
  }
 },
 "nbformat": 4,
 "nbformat_minor": 5
}
