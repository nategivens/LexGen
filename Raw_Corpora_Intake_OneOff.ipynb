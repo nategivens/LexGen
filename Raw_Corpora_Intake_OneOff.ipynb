{
 "cells": [
  {
   "cell_type": "markdown",
   "id": "coordinated-determination",
   "metadata": {},
   "source": [
    "# Raw Corpora Intake - One Off\n",
    "\n",
    "With some shortcuts since I'm mostly pulling from HermitDave's GitHub stash."
   ]
  },
  {
   "cell_type": "markdown",
   "id": "curious-regression",
   "metadata": {},
   "source": [
    "## Imports and Settings"
   ]
  },
  {
   "cell_type": "code",
   "execution_count": 1,
   "id": "sorted-choice",
   "metadata": {},
   "outputs": [],
   "source": [
    "from nate_givens_toolkit import cloud_io as cloud\n",
    "# from nate_givens_toolkit import local_io as local\n",
    "import pandas as pd\n",
    "from datetime import datetime\n",
    "#import requests\n",
    "#import boto3"
   ]
  },
  {
   "cell_type": "markdown",
   "id": "emotional-inventory",
   "metadata": {},
   "source": [
    "## Global Variables"
   ]
  },
  {
   "cell_type": "code",
   "execution_count": 2,
   "id": "roman-empire",
   "metadata": {},
   "outputs": [],
   "source": [
    "LOCAL_DIR = '/data/lexgen/raw_corpora/'\n",
    "BUCKET_DIR = 'raw_corpora/'\n",
    "BUCKET = 'lexgen'"
   ]
  },
  {
   "cell_type": "markdown",
   "id": "going-links",
   "metadata": {},
   "source": [
    "## Logic"
   ]
  },
  {
   "cell_type": "markdown",
   "id": "resistant-external",
   "metadata": {},
   "source": [
    "### Specify Raw Corpora Variables"
   ]
  },
  {
   "cell_type": "code",
   "execution_count": 3,
   "id": "little-nursery",
   "metadata": {},
   "outputs": [],
   "source": [
    "url_filename = 'en_full.txt'\n",
    "url_path = 'https://raw.githubusercontent.com/hermitdave/FrequencyWords/master/content/2018/en/'\n",
    "filename = 'en_full_2018.txt'\n",
    "lang_code = 'en'\n",
    "source_url = 'https://raw.githubusercontent.com/hermitdave/FrequencyWords/master/content/2018/en/en_full.txt'\n",
    "last_load_dtime = datetime.utcnow()\n",
    "note = 'HermitDave\\'s version of the full 2018 English file from OpenSubtitles'\n"
   ]
  },
  {
   "cell_type": "markdown",
   "id": "premier-treasurer",
   "metadata": {},
   "source": [
    "### Read In Raw Corpora Table"
   ]
  },
  {
   "cell_type": "code",
   "execution_count": 4,
   "id": "funny-lucas",
   "metadata": {},
   "outputs": [],
   "source": [
    "raw_corpora_inventory = cloud.read_csv_from_s3('raw_corpora_inventory.dat', 'data_files/', BUCKET, sep='|')"
   ]
  },
  {
   "cell_type": "code",
   "execution_count": 5,
   "id": "provincial-norway",
   "metadata": {},
   "outputs": [
    {
     "data": {
      "text/html": [
       "<div>\n",
       "<style scoped>\n",
       "    .dataframe tbody tr th:only-of-type {\n",
       "        vertical-align: middle;\n",
       "    }\n",
       "\n",
       "    .dataframe tbody tr th {\n",
       "        vertical-align: top;\n",
       "    }\n",
       "\n",
       "    .dataframe thead th {\n",
       "        text-align: right;\n",
       "    }\n",
       "</style>\n",
       "<table border=\"1\" class=\"dataframe\">\n",
       "  <thead>\n",
       "    <tr style=\"text-align: right;\">\n",
       "      <th></th>\n",
       "      <th>filename</th>\n",
       "      <th>lang_code</th>\n",
       "      <th>source_url</th>\n",
       "      <th>last_load_dtime</th>\n",
       "      <th>note</th>\n",
       "    </tr>\n",
       "  </thead>\n",
       "  <tbody>\n",
       "  </tbody>\n",
       "</table>\n",
       "</div>"
      ],
      "text/plain": [
       "Empty DataFrame\n",
       "Columns: [filename, lang_code, source_url, last_load_dtime, note]\n",
       "Index: []"
      ]
     },
     "execution_count": 5,
     "metadata": {},
     "output_type": "execute_result"
    }
   ],
   "source": [
    "raw_corpora_inventory.head()"
   ]
  },
  {
   "cell_type": "markdown",
   "id": "absolute-killing",
   "metadata": {},
   "source": [
    "### Check raw_corpora_inventory for Pre-existing Duplicates"
   ]
  },
  {
   "cell_type": "code",
   "execution_count": 6,
   "id": "victorian-greene",
   "metadata": {},
   "outputs": [],
   "source": [
    "can_proceed = True"
   ]
  },
  {
   "cell_type": "code",
   "execution_count": 7,
   "id": "similar-soviet",
   "metadata": {},
   "outputs": [],
   "source": [
    "if filename in raw_corpora_inventory['filename'].unique():\n",
    "    can_proceed = False\n",
    "    print(f'filename {filename} already exists in raw_corpora_inventory.')"
   ]
  },
  {
   "cell_type": "code",
   "execution_count": 8,
   "id": "associate-stereo",
   "metadata": {},
   "outputs": [],
   "source": [
    "if source_url in raw_corpora_inventory['source_url'].unique():\n",
    "    can_proceed = False\n",
    "    print(f'source_url {source_url} already exists in raw_corpora_inventory.')"
   ]
  },
  {
   "cell_type": "markdown",
   "id": "diagnostic-spoke",
   "metadata": {},
   "source": [
    "### Copy File Locally"
   ]
  },
  {
   "cell_type": "code",
   "execution_count": 9,
   "id": "colored-slide",
   "metadata": {},
   "outputs": [],
   "source": [
    "if can_proceed:\n",
    "    cloud.pull_data_from_url(url_filename, url_path, LOCAL_DIR, local_filename=filename, overwrite=True)"
   ]
  },
  {
   "cell_type": "markdown",
   "id": "removed-citizenship",
   "metadata": {},
   "source": [
    "### Copy File to S3"
   ]
  },
  {
   "cell_type": "code",
   "execution_count": 10,
   "id": "strong-hartford",
   "metadata": {},
   "outputs": [],
   "source": [
    "if can_proceed:\n",
    "    cloud.push_file_to_s3(filename, LOCAL_DIR, BUCKET_DIR, BUCKET, overwrite=True)"
   ]
  },
  {
   "cell_type": "markdown",
   "id": "russian-export",
   "metadata": {},
   "source": [
    "### Update raw_corpora_inventory"
   ]
  },
  {
   "cell_type": "code",
   "execution_count": 11,
   "id": "casual-evans",
   "metadata": {},
   "outputs": [],
   "source": [
    "new_row = {'filename': filename, 'lang_code':lang_code, 'source_url':source_url, 'last_load_dtime':str(last_load_dtime), 'note':note}"
   ]
  },
  {
   "cell_type": "code",
   "execution_count": 12,
   "id": "careful-wireless",
   "metadata": {},
   "outputs": [],
   "source": [
    "raw_corpora_inventory = raw_corpora_inventory.append(new_row, ignore_index=True)"
   ]
  },
  {
   "cell_type": "code",
   "execution_count": 13,
   "id": "duplicate-large",
   "metadata": {},
   "outputs": [
    {
     "data": {
      "text/html": [
       "<div>\n",
       "<style scoped>\n",
       "    .dataframe tbody tr th:only-of-type {\n",
       "        vertical-align: middle;\n",
       "    }\n",
       "\n",
       "    .dataframe tbody tr th {\n",
       "        vertical-align: top;\n",
       "    }\n",
       "\n",
       "    .dataframe thead th {\n",
       "        text-align: right;\n",
       "    }\n",
       "</style>\n",
       "<table border=\"1\" class=\"dataframe\">\n",
       "  <thead>\n",
       "    <tr style=\"text-align: right;\">\n",
       "      <th></th>\n",
       "      <th>filename</th>\n",
       "      <th>lang_code</th>\n",
       "      <th>source_url</th>\n",
       "      <th>last_load_dtime</th>\n",
       "      <th>note</th>\n",
       "    </tr>\n",
       "  </thead>\n",
       "  <tbody>\n",
       "    <tr>\n",
       "      <th>0</th>\n",
       "      <td>en_full_2018.txt</td>\n",
       "      <td>en</td>\n",
       "      <td>https://raw.githubusercontent.com/hermitdave/F...</td>\n",
       "      <td>2021-03-26 02:04:07.270824</td>\n",
       "      <td>HermitDave's version of the full 2018 English ...</td>\n",
       "    </tr>\n",
       "  </tbody>\n",
       "</table>\n",
       "</div>"
      ],
      "text/plain": [
       "           filename lang_code  \\\n",
       "0  en_full_2018.txt        en   \n",
       "\n",
       "                                          source_url  \\\n",
       "0  https://raw.githubusercontent.com/hermitdave/F...   \n",
       "\n",
       "              last_load_dtime  \\\n",
       "0  2021-03-26 02:04:07.270824   \n",
       "\n",
       "                                                note  \n",
       "0  HermitDave's version of the full 2018 English ...  "
      ]
     },
     "execution_count": 13,
     "metadata": {},
     "output_type": "execute_result"
    }
   ],
   "source": [
    "raw_corpora_inventory.head()"
   ]
  },
  {
   "cell_type": "markdown",
   "id": "responsible-content",
   "metadata": {},
   "source": [
    "### Write Raw Corpora Back to S3"
   ]
  },
  {
   "cell_type": "code",
   "execution_count": 15,
   "id": "previous-peace",
   "metadata": {},
   "outputs": [],
   "source": [
    "cloud.write_csv_to_s3('raw_corpora_inventory.dat', BUCKET_DIR, BUCKET, raw_corpora_inventory, sep='|', index=False)"
   ]
  },
  {
   "cell_type": "code",
   "execution_count": null,
   "id": "damaged-process",
   "metadata": {},
   "outputs": [],
   "source": []
  }
 ],
 "metadata": {
  "kernelspec": {
   "display_name": "lexgen",
   "language": "python",
   "name": "lexgen"
  },
  "language_info": {
   "codemirror_mode": {
    "name": "ipython",
    "version": 3
   },
   "file_extension": ".py",
   "mimetype": "text/x-python",
   "name": "python",
   "nbconvert_exporter": "python",
   "pygments_lexer": "ipython3",
   "version": "3.7.10"
  }
 },
 "nbformat": 4,
 "nbformat_minor": 5
}
