{
 "cells": [
  {
   "cell_type": "markdown",
   "metadata": {},
   "source": [
    "# Corpora Ingestion: en_50k_2018\n",
    "\n",
    "## Overview\n",
    "\n",
    "I downloaded this file from HermitDave's FrequencyWord repo: https://github.com/hermitdave/FrequencyWords/blob/master/content/2018/en/en_50k.txt"
   ]
  },
  {
   "cell_type": "markdown",
   "metadata": {},
   "source": [
    "## Imports"
   ]
  },
  {
   "cell_type": "code",
   "execution_count": 6,
   "metadata": {},
   "outputs": [],
   "source": [
    "import pandas as pd\n",
    "from collections import Counter"
   ]
  },
  {
   "cell_type": "markdown",
   "metadata": {},
   "source": [
    "## Helper Functions"
   ]
  },
  {
   "cell_type": "code",
   "execution_count": 55,
   "metadata": {},
   "outputs": [],
   "source": [
    "def get_char_counter(words, frequencies):\n",
    "    # take a list of words and a corresponding list of frequencies\n",
    "    # return a coutner with the sum of characters in all words, weighted by frequency    \n",
    "    counter = Counter()\n",
    "    for word, frequency in zip(words, frequencies):\n",
    "        new_counter = Counter(str(word))\n",
    "        for _ in new_counter.keys():\n",
    "            new_counter[_] = new_counter[_] * frequency\n",
    "        counter.update(new_counter)\n",
    "        \n",
    "    return counter"
   ]
  },
  {
   "cell_type": "markdown",
   "metadata": {},
   "source": [
    "## Global Variables"
   ]
  },
  {
   "cell_type": "code",
   "execution_count": 59,
   "metadata": {},
   "outputs": [],
   "source": [
    "valid_chars = ['a', 'b', 'c', 'd', 'e', 'f', 'g', 'h', 'i', 'j', 'k', 'l', 'm'\n",
    "               , 'n', 'o', 'p', 'q', 'r', 's', 't', 'u', 'v', 'w', 'x', 'y', 'z']"
   ]
  },
  {
   "cell_type": "markdown",
   "metadata": {},
   "source": [
    "## Raw Text EDA"
   ]
  },
  {
   "cell_type": "code",
   "execution_count": 4,
   "metadata": {},
   "outputs": [],
   "source": [
    "file_path = r'D:\\code_repos\\LexGen\\data\\corpora\\en_50k_2018\\en_50k_2018-RAW.txt'\n",
    "raw_words = pd.read_csv(file_path, sep=' ', header=None, names=['word','frequency'])"
   ]
  },
  {
   "cell_type": "code",
   "execution_count": 5,
   "metadata": {},
   "outputs": [
    {
     "data": {
      "text/html": [
       "<div>\n",
       "<style scoped>\n",
       "    .dataframe tbody tr th:only-of-type {\n",
       "        vertical-align: middle;\n",
       "    }\n",
       "\n",
       "    .dataframe tbody tr th {\n",
       "        vertical-align: top;\n",
       "    }\n",
       "\n",
       "    .dataframe thead th {\n",
       "        text-align: right;\n",
       "    }\n",
       "</style>\n",
       "<table border=\"1\" class=\"dataframe\">\n",
       "  <thead>\n",
       "    <tr style=\"text-align: right;\">\n",
       "      <th></th>\n",
       "      <th>word</th>\n",
       "      <th>frequency</th>\n",
       "    </tr>\n",
       "  </thead>\n",
       "  <tbody>\n",
       "    <tr>\n",
       "      <th>0</th>\n",
       "      <td>you</td>\n",
       "      <td>28787591</td>\n",
       "    </tr>\n",
       "    <tr>\n",
       "      <th>1</th>\n",
       "      <td>i</td>\n",
       "      <td>27086011</td>\n",
       "    </tr>\n",
       "    <tr>\n",
       "      <th>2</th>\n",
       "      <td>the</td>\n",
       "      <td>22761659</td>\n",
       "    </tr>\n",
       "    <tr>\n",
       "      <th>3</th>\n",
       "      <td>to</td>\n",
       "      <td>17099834</td>\n",
       "    </tr>\n",
       "    <tr>\n",
       "      <th>4</th>\n",
       "      <td>a</td>\n",
       "      <td>14484562</td>\n",
       "    </tr>\n",
       "  </tbody>\n",
       "</table>\n",
       "</div>"
      ],
      "text/plain": [
       "  word  frequency\n",
       "0  you   28787591\n",
       "1    i   27086011\n",
       "2  the   22761659\n",
       "3   to   17099834\n",
       "4    a   14484562"
      ]
     },
     "execution_count": 5,
     "metadata": {},
     "output_type": "execute_result"
    }
   ],
   "source": [
    "raw_words.head()"
   ]
  },
  {
   "cell_type": "code",
   "execution_count": 56,
   "metadata": {},
   "outputs": [],
   "source": [
    "char_counter = get_char_counter(raw_words['word'].tolist(), raw_words['frequency'].tolist())"
   ]
  },
  {
   "cell_type": "code",
   "execution_count": 58,
   "metadata": {},
   "outputs": [
    {
     "name": "stdout",
     "output_type": "stream",
     "text": [
      "Counter({'e': 317758171, 't': 252863727, 'o': 243632065, 'a': 208469923, 'i': 192792447, 'n': 177477796, 'h': 159841703, 's': 159386595, 'r': 143335320, 'l': 114242322, 'u': 100426995, 'd': 95888458, 'y': 90697550, 'm': 74980830, 'w': 72508000, 'g': 66429118, 'c': 59766718, 'f': 45788687, 'b': 41078194, 'p': 40235384, \"'\": 38976555, 'k': 36833453, 'v': 26855865, 'j': 7002669, 'x': 3367545, 'z': 1745765, '-': 1623514, 'q': 1510497, '.': 1430364, '0': 114275, '1': 88837, '2': 56690, 'é': 52966, '`': 34653, '3': 31264, '4': 25179, '5': 24570, '8': 23131, '9': 22464, '6': 17965, 'ο': 17920, '7': 17633, 'ö': 15343, 'ñ': 10737, 'í': 8925, 'á': 7199, 'ü': 4462, 'ó': 4370, 'ç': 4166, 'è': 3892, 'ã': 3514, 'à': 2040, 'ú': 1587, 'â': 1152, 'ø': 982, 'ô': 785, 'ä': 742, 'î': 737, 'τ': 697, 'υ': 646, 'ò': 557, 'η': 553, 'ì': 532, 'ë': 498, 'ê': 469, 'ﬁ': 418, 'ﬂ': 415, 'æ': 373, 'ş': 366, 'İ': 328, 'ï': 320, 'ν': 308, 'û': 270, 'µ': 270, 'å': 207, 'у': 195, 'ý': 166})\n"
     ]
    }
   ],
   "source": [
    "print(char_counter)"
   ]
  },
  {
   "cell_type": "code",
   "execution_count": null,
   "metadata": {},
   "outputs": [],
   "source": []
  },
  {
   "cell_type": "code",
   "execution_count": null,
   "metadata": {},
   "outputs": [],
   "source": []
  },
  {
   "cell_type": "code",
   "execution_count": null,
   "metadata": {},
   "outputs": [],
   "source": []
  }
 ],
 "metadata": {
  "kernelspec": {
   "display_name": "Python 3",
   "language": "python",
   "name": "python3"
  },
  "language_info": {
   "codemirror_mode": {
    "name": "ipython",
    "version": 3
   },
   "file_extension": ".py",
   "mimetype": "text/x-python",
   "name": "python",
   "nbconvert_exporter": "python",
   "pygments_lexer": "ipython3",
   "version": "3.8.5"
  }
 },
 "nbformat": 4,
 "nbformat_minor": 4
}
